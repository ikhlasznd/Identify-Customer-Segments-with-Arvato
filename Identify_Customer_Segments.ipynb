{
 "cells": [
  {
   "cell_type": "markdown",
   "metadata": {},
   "source": [
    "# Project: Identify Customer Segments\n",
    "\n",
    "In this project, you will apply unsupervised learning techniques to identify segments of the population that form the core customer base for a mail-order sales company in Germany. These segments can then be used to direct marketing campaigns towards audiences that will have the highest expected rate of returns. The data that you will use has been provided by our partners at Bertelsmann Arvato Analytics, and represents a real-life data science task.\n",
    "\n",
    "This notebook will help you complete this task by providing a framework within which you will perform your analysis steps. In each step of the project, you will see some text describing the subtask that you will perform, followed by one or more code cells for you to complete your work. **Feel free to add additional code and markdown cells as you go along so that you can explore everything in precise chunks.** The code cells provided in the base template will outline only the major tasks, and will usually not be enough to cover all of the minor tasks that comprise it.\n",
    "\n",
    "It should be noted that while there will be precise guidelines on how you should handle certain tasks in the project, there will also be places where an exact specification is not provided. **There will be times in the project where you will need to make and justify your own decisions on how to treat the data.** These are places where there may not be only one way to handle the data. In real-life tasks, there may be many valid ways to approach an analysis task. One of the most important things you can do is clearly document your approach so that other scientists can understand the decisions you've made.\n",
    "\n",
    "At the end of most sections, there will be a Markdown cell labeled **Discussion**. In these cells, you will report your findings for the completed section, as well as document the decisions that you made in your approach to each subtask. **Your project will be evaluated not just on the code used to complete the tasks outlined, but also your communication about your observations and conclusions at each stage.**"
   ]
  },
  {
   "cell_type": "code",
   "execution_count": 1019,
   "metadata": {},
   "outputs": [
    {
     "name": "stdout",
     "output_type": "stream",
     "text": [
      "done\n"
     ]
    }
   ],
   "source": [
    "# import libraries here; add more as necessary\n",
    "import numpy as np\n",
    "import pandas as pd\n",
    "import matplotlib.pyplot as plt\n",
    "import seaborn as sns\n",
    "\n",
    "# magic word for producing visualizations in notebook\n",
    "%matplotlib inline\n",
    "\n",
    "'''\n",
    "Import note: The classroom currently uses sklearn version 0.19.\n",
    "If you need to use an imputer, it is available in sklearn.preprocessing.Imputer,\n",
    "instead of sklearn.impute as in newer versions of sklearn.\n",
    "'''\n",
    "print(\"done\")"
   ]
  },
  {
   "cell_type": "markdown",
   "metadata": {},
   "source": [
    "### Step 0: Load the Data\n",
    "\n",
    "There are four files associated with this project (not including this one):\n",
    "\n",
    "- `Udacity_AZDIAS_Subset.csv`: Demographics data for the general population of Germany; 891211 persons (rows) x 85 features (columns).\n",
    "- `Udacity_CUSTOMERS_Subset.csv`: Demographics data for customers of a mail-order company; 191652 persons (rows) x 85 features (columns).\n",
    "- `Data_Dictionary.md`: Detailed information file about the features in the provided datasets.\n",
    "- `AZDIAS_Feature_Summary.csv`: Summary of feature attributes for demographics data; 85 features (rows) x 4 columns\n",
    "\n",
    "Each row of the demographics files represents a single person, but also includes information outside of individuals, including information about their household, building, and neighborhood. You will use this information to cluster the general population into groups with similar demographic properties. Then, you will see how the people in the customers dataset fit into those created clusters. The hope here is that certain clusters are over-represented in the customers data, as compared to the general population; those over-represented clusters will be assumed to be part of the core userbase. This information can then be used for further applications, such as targeting for a marketing campaign.\n",
    "\n",
    "To start off with, load in the demographics data for the general population into a pandas DataFrame, and do the same for the feature attributes summary. Note for all of the `.csv` data files in this project: they're semicolon (`;`) delimited, so you'll need an additional argument in your [`read_csv()`](https://pandas.pydata.org/pandas-docs/stable/generated/pandas.read_csv.html) call to read in the data properly. Also, considering the size of the main dataset, it may take some time for it to load completely.\n",
    "\n",
    "Once the dataset is loaded, it's recommended that you take a little bit of time just browsing the general structure of the dataset and feature summary file. You'll be getting deep into the innards of the cleaning in the first major step of the project, so gaining some general familiarity can help you get your bearings."
   ]
  },
  {
   "cell_type": "code",
   "execution_count": 1020,
   "metadata": {},
   "outputs": [],
   "source": [
    "# Load in the general demographics data.\n",
    "azdias = pd.read_csv('Udacity_AZDIAS_Subset.csv', delimiter=';')\n",
    "\n",
    "# Load in the feature summary file.\n",
    "feat_info = pd.read_csv('AZDIAS_Feature_Summary.csv', delimiter=';')"
   ]
  },
  {
   "cell_type": "code",
   "execution_count": 1021,
   "metadata": {},
   "outputs": [
    {
     "data": {
      "text/plain": [
       "(891221, 85)"
      ]
     },
     "execution_count": 1021,
     "metadata": {},
     "output_type": "execute_result"
    }
   ],
   "source": [
    "azdias.shape\n"
   ]
  },
  {
   "cell_type": "code",
   "execution_count": 1023,
   "metadata": {},
   "outputs": [
    {
     "name": "stdout",
     "output_type": "stream",
     "text": [
      "shape:azdias*****\n",
      "(891221, 85)\n",
      "shape:feat_info*****\n",
      "(85, 4)\n",
      "azdias*****\n"
     ]
    },
    {
     "data": {
      "text/html": [
       "<div>\n",
       "<style scoped>\n",
       "    .dataframe tbody tr th:only-of-type {\n",
       "        vertical-align: middle;\n",
       "    }\n",
       "\n",
       "    .dataframe tbody tr th {\n",
       "        vertical-align: top;\n",
       "    }\n",
       "\n",
       "    .dataframe thead th {\n",
       "        text-align: right;\n",
       "    }\n",
       "</style>\n",
       "<table border=\"1\" class=\"dataframe\">\n",
       "  <thead>\n",
       "    <tr style=\"text-align: right;\">\n",
       "      <th></th>\n",
       "      <th>AGER_TYP</th>\n",
       "      <th>ALTERSKATEGORIE_GROB</th>\n",
       "      <th>ANREDE_KZ</th>\n",
       "      <th>CJT_GESAMTTYP</th>\n",
       "      <th>FINANZ_MINIMALIST</th>\n",
       "      <th>FINANZ_SPARER</th>\n",
       "      <th>FINANZ_VORSORGER</th>\n",
       "      <th>FINANZ_ANLEGER</th>\n",
       "      <th>FINANZ_UNAUFFAELLIGER</th>\n",
       "      <th>FINANZ_HAUSBAUER</th>\n",
       "      <th>...</th>\n",
       "      <th>PLZ8_ANTG1</th>\n",
       "      <th>PLZ8_ANTG2</th>\n",
       "      <th>PLZ8_ANTG3</th>\n",
       "      <th>PLZ8_ANTG4</th>\n",
       "      <th>PLZ8_BAUMAX</th>\n",
       "      <th>PLZ8_HHZ</th>\n",
       "      <th>PLZ8_GBZ</th>\n",
       "      <th>ARBEIT</th>\n",
       "      <th>ORTSGR_KLS9</th>\n",
       "      <th>RELAT_AB</th>\n",
       "    </tr>\n",
       "  </thead>\n",
       "  <tbody>\n",
       "    <tr>\n",
       "      <th>0</th>\n",
       "      <td>-1</td>\n",
       "      <td>2</td>\n",
       "      <td>1</td>\n",
       "      <td>2.0</td>\n",
       "      <td>3</td>\n",
       "      <td>4</td>\n",
       "      <td>3</td>\n",
       "      <td>5</td>\n",
       "      <td>5</td>\n",
       "      <td>3</td>\n",
       "      <td>...</td>\n",
       "      <td>NaN</td>\n",
       "      <td>NaN</td>\n",
       "      <td>NaN</td>\n",
       "      <td>NaN</td>\n",
       "      <td>NaN</td>\n",
       "      <td>NaN</td>\n",
       "      <td>NaN</td>\n",
       "      <td>NaN</td>\n",
       "      <td>NaN</td>\n",
       "      <td>NaN</td>\n",
       "    </tr>\n",
       "    <tr>\n",
       "      <th>1</th>\n",
       "      <td>-1</td>\n",
       "      <td>1</td>\n",
       "      <td>2</td>\n",
       "      <td>5.0</td>\n",
       "      <td>1</td>\n",
       "      <td>5</td>\n",
       "      <td>2</td>\n",
       "      <td>5</td>\n",
       "      <td>4</td>\n",
       "      <td>5</td>\n",
       "      <td>...</td>\n",
       "      <td>2.0</td>\n",
       "      <td>3.0</td>\n",
       "      <td>2.0</td>\n",
       "      <td>1.0</td>\n",
       "      <td>1.0</td>\n",
       "      <td>5.0</td>\n",
       "      <td>4.0</td>\n",
       "      <td>3.0</td>\n",
       "      <td>5.0</td>\n",
       "      <td>4.0</td>\n",
       "    </tr>\n",
       "    <tr>\n",
       "      <th>2</th>\n",
       "      <td>-1</td>\n",
       "      <td>3</td>\n",
       "      <td>2</td>\n",
       "      <td>3.0</td>\n",
       "      <td>1</td>\n",
       "      <td>4</td>\n",
       "      <td>1</td>\n",
       "      <td>2</td>\n",
       "      <td>3</td>\n",
       "      <td>5</td>\n",
       "      <td>...</td>\n",
       "      <td>3.0</td>\n",
       "      <td>3.0</td>\n",
       "      <td>1.0</td>\n",
       "      <td>0.0</td>\n",
       "      <td>1.0</td>\n",
       "      <td>4.0</td>\n",
       "      <td>4.0</td>\n",
       "      <td>3.0</td>\n",
       "      <td>5.0</td>\n",
       "      <td>2.0</td>\n",
       "    </tr>\n",
       "    <tr>\n",
       "      <th>3</th>\n",
       "      <td>2</td>\n",
       "      <td>4</td>\n",
       "      <td>2</td>\n",
       "      <td>2.0</td>\n",
       "      <td>4</td>\n",
       "      <td>2</td>\n",
       "      <td>5</td>\n",
       "      <td>2</td>\n",
       "      <td>1</td>\n",
       "      <td>2</td>\n",
       "      <td>...</td>\n",
       "      <td>2.0</td>\n",
       "      <td>2.0</td>\n",
       "      <td>2.0</td>\n",
       "      <td>0.0</td>\n",
       "      <td>1.0</td>\n",
       "      <td>3.0</td>\n",
       "      <td>4.0</td>\n",
       "      <td>2.0</td>\n",
       "      <td>3.0</td>\n",
       "      <td>3.0</td>\n",
       "    </tr>\n",
       "    <tr>\n",
       "      <th>4</th>\n",
       "      <td>-1</td>\n",
       "      <td>3</td>\n",
       "      <td>1</td>\n",
       "      <td>5.0</td>\n",
       "      <td>4</td>\n",
       "      <td>3</td>\n",
       "      <td>4</td>\n",
       "      <td>1</td>\n",
       "      <td>3</td>\n",
       "      <td>2</td>\n",
       "      <td>...</td>\n",
       "      <td>2.0</td>\n",
       "      <td>4.0</td>\n",
       "      <td>2.0</td>\n",
       "      <td>1.0</td>\n",
       "      <td>2.0</td>\n",
       "      <td>3.0</td>\n",
       "      <td>3.0</td>\n",
       "      <td>4.0</td>\n",
       "      <td>6.0</td>\n",
       "      <td>5.0</td>\n",
       "    </tr>\n",
       "    <tr>\n",
       "      <th>5</th>\n",
       "      <td>3</td>\n",
       "      <td>1</td>\n",
       "      <td>2</td>\n",
       "      <td>2.0</td>\n",
       "      <td>3</td>\n",
       "      <td>1</td>\n",
       "      <td>5</td>\n",
       "      <td>2</td>\n",
       "      <td>2</td>\n",
       "      <td>5</td>\n",
       "      <td>...</td>\n",
       "      <td>2.0</td>\n",
       "      <td>3.0</td>\n",
       "      <td>1.0</td>\n",
       "      <td>1.0</td>\n",
       "      <td>1.0</td>\n",
       "      <td>5.0</td>\n",
       "      <td>5.0</td>\n",
       "      <td>2.0</td>\n",
       "      <td>3.0</td>\n",
       "      <td>3.0</td>\n",
       "    </tr>\n",
       "    <tr>\n",
       "      <th>6</th>\n",
       "      <td>-1</td>\n",
       "      <td>2</td>\n",
       "      <td>2</td>\n",
       "      <td>5.0</td>\n",
       "      <td>1</td>\n",
       "      <td>5</td>\n",
       "      <td>1</td>\n",
       "      <td>5</td>\n",
       "      <td>4</td>\n",
       "      <td>3</td>\n",
       "      <td>...</td>\n",
       "      <td>3.0</td>\n",
       "      <td>3.0</td>\n",
       "      <td>1.0</td>\n",
       "      <td>0.0</td>\n",
       "      <td>1.0</td>\n",
       "      <td>5.0</td>\n",
       "      <td>5.0</td>\n",
       "      <td>4.0</td>\n",
       "      <td>6.0</td>\n",
       "      <td>3.0</td>\n",
       "    </tr>\n",
       "    <tr>\n",
       "      <th>7</th>\n",
       "      <td>-1</td>\n",
       "      <td>1</td>\n",
       "      <td>1</td>\n",
       "      <td>3.0</td>\n",
       "      <td>3</td>\n",
       "      <td>3</td>\n",
       "      <td>4</td>\n",
       "      <td>1</td>\n",
       "      <td>3</td>\n",
       "      <td>2</td>\n",
       "      <td>...</td>\n",
       "      <td>3.0</td>\n",
       "      <td>3.0</td>\n",
       "      <td>1.0</td>\n",
       "      <td>0.0</td>\n",
       "      <td>1.0</td>\n",
       "      <td>4.0</td>\n",
       "      <td>4.0</td>\n",
       "      <td>2.0</td>\n",
       "      <td>5.0</td>\n",
       "      <td>2.0</td>\n",
       "    </tr>\n",
       "    <tr>\n",
       "      <th>8</th>\n",
       "      <td>-1</td>\n",
       "      <td>3</td>\n",
       "      <td>1</td>\n",
       "      <td>3.0</td>\n",
       "      <td>4</td>\n",
       "      <td>4</td>\n",
       "      <td>2</td>\n",
       "      <td>4</td>\n",
       "      <td>2</td>\n",
       "      <td>2</td>\n",
       "      <td>...</td>\n",
       "      <td>2.0</td>\n",
       "      <td>3.0</td>\n",
       "      <td>2.0</td>\n",
       "      <td>1.0</td>\n",
       "      <td>1.0</td>\n",
       "      <td>3.0</td>\n",
       "      <td>3.0</td>\n",
       "      <td>2.0</td>\n",
       "      <td>4.0</td>\n",
       "      <td>3.0</td>\n",
       "    </tr>\n",
       "    <tr>\n",
       "      <th>9</th>\n",
       "      <td>-1</td>\n",
       "      <td>3</td>\n",
       "      <td>2</td>\n",
       "      <td>4.0</td>\n",
       "      <td>2</td>\n",
       "      <td>4</td>\n",
       "      <td>2</td>\n",
       "      <td>3</td>\n",
       "      <td>5</td>\n",
       "      <td>4</td>\n",
       "      <td>...</td>\n",
       "      <td>2.0</td>\n",
       "      <td>3.0</td>\n",
       "      <td>2.0</td>\n",
       "      <td>1.0</td>\n",
       "      <td>1.0</td>\n",
       "      <td>3.0</td>\n",
       "      <td>3.0</td>\n",
       "      <td>2.0</td>\n",
       "      <td>3.0</td>\n",
       "      <td>1.0</td>\n",
       "    </tr>\n",
       "    <tr>\n",
       "      <th>10</th>\n",
       "      <td>0</td>\n",
       "      <td>3</td>\n",
       "      <td>2</td>\n",
       "      <td>1.0</td>\n",
       "      <td>2</td>\n",
       "      <td>2</td>\n",
       "      <td>5</td>\n",
       "      <td>3</td>\n",
       "      <td>1</td>\n",
       "      <td>5</td>\n",
       "      <td>...</td>\n",
       "      <td>2.0</td>\n",
       "      <td>4.0</td>\n",
       "      <td>2.0</td>\n",
       "      <td>0.0</td>\n",
       "      <td>2.0</td>\n",
       "      <td>3.0</td>\n",
       "      <td>3.0</td>\n",
       "      <td>4.0</td>\n",
       "      <td>6.0</td>\n",
       "      <td>5.0</td>\n",
       "    </tr>\n",
       "    <tr>\n",
       "      <th>11</th>\n",
       "      <td>-1</td>\n",
       "      <td>2</td>\n",
       "      <td>1</td>\n",
       "      <td>6.0</td>\n",
       "      <td>3</td>\n",
       "      <td>4</td>\n",
       "      <td>3</td>\n",
       "      <td>5</td>\n",
       "      <td>5</td>\n",
       "      <td>3</td>\n",
       "      <td>...</td>\n",
       "      <td>NaN</td>\n",
       "      <td>NaN</td>\n",
       "      <td>NaN</td>\n",
       "      <td>NaN</td>\n",
       "      <td>NaN</td>\n",
       "      <td>NaN</td>\n",
       "      <td>NaN</td>\n",
       "      <td>NaN</td>\n",
       "      <td>NaN</td>\n",
       "      <td>NaN</td>\n",
       "    </tr>\n",
       "    <tr>\n",
       "      <th>12</th>\n",
       "      <td>-1</td>\n",
       "      <td>3</td>\n",
       "      <td>1</td>\n",
       "      <td>6.0</td>\n",
       "      <td>5</td>\n",
       "      <td>3</td>\n",
       "      <td>4</td>\n",
       "      <td>2</td>\n",
       "      <td>4</td>\n",
       "      <td>1</td>\n",
       "      <td>...</td>\n",
       "      <td>3.0</td>\n",
       "      <td>3.0</td>\n",
       "      <td>1.0</td>\n",
       "      <td>0.0</td>\n",
       "      <td>1.0</td>\n",
       "      <td>5.0</td>\n",
       "      <td>5.0</td>\n",
       "      <td>3.0</td>\n",
       "      <td>6.0</td>\n",
       "      <td>4.0</td>\n",
       "    </tr>\n",
       "    <tr>\n",
       "      <th>13</th>\n",
       "      <td>-1</td>\n",
       "      <td>1</td>\n",
       "      <td>2</td>\n",
       "      <td>5.0</td>\n",
       "      <td>1</td>\n",
       "      <td>4</td>\n",
       "      <td>3</td>\n",
       "      <td>5</td>\n",
       "      <td>5</td>\n",
       "      <td>2</td>\n",
       "      <td>...</td>\n",
       "      <td>2.0</td>\n",
       "      <td>1.0</td>\n",
       "      <td>1.0</td>\n",
       "      <td>1.0</td>\n",
       "      <td>1.0</td>\n",
       "      <td>3.0</td>\n",
       "      <td>3.0</td>\n",
       "      <td>3.0</td>\n",
       "      <td>6.0</td>\n",
       "      <td>4.0</td>\n",
       "    </tr>\n",
       "    <tr>\n",
       "      <th>14</th>\n",
       "      <td>-1</td>\n",
       "      <td>3</td>\n",
       "      <td>1</td>\n",
       "      <td>6.0</td>\n",
       "      <td>3</td>\n",
       "      <td>4</td>\n",
       "      <td>3</td>\n",
       "      <td>5</td>\n",
       "      <td>5</td>\n",
       "      <td>3</td>\n",
       "      <td>...</td>\n",
       "      <td>NaN</td>\n",
       "      <td>NaN</td>\n",
       "      <td>NaN</td>\n",
       "      <td>NaN</td>\n",
       "      <td>NaN</td>\n",
       "      <td>NaN</td>\n",
       "      <td>NaN</td>\n",
       "      <td>NaN</td>\n",
       "      <td>NaN</td>\n",
       "      <td>NaN</td>\n",
       "    </tr>\n",
       "  </tbody>\n",
       "</table>\n",
       "<p>15 rows × 85 columns</p>\n",
       "</div>"
      ],
      "text/plain": [
       "    AGER_TYP  ALTERSKATEGORIE_GROB  ANREDE_KZ  CJT_GESAMTTYP  \\\n",
       "0         -1                     2          1            2.0   \n",
       "1         -1                     1          2            5.0   \n",
       "2         -1                     3          2            3.0   \n",
       "3          2                     4          2            2.0   \n",
       "4         -1                     3          1            5.0   \n",
       "5          3                     1          2            2.0   \n",
       "6         -1                     2          2            5.0   \n",
       "7         -1                     1          1            3.0   \n",
       "8         -1                     3          1            3.0   \n",
       "9         -1                     3          2            4.0   \n",
       "10         0                     3          2            1.0   \n",
       "11        -1                     2          1            6.0   \n",
       "12        -1                     3          1            6.0   \n",
       "13        -1                     1          2            5.0   \n",
       "14        -1                     3          1            6.0   \n",
       "\n",
       "    FINANZ_MINIMALIST  FINANZ_SPARER  FINANZ_VORSORGER  FINANZ_ANLEGER  \\\n",
       "0                   3              4                 3               5   \n",
       "1                   1              5                 2               5   \n",
       "2                   1              4                 1               2   \n",
       "3                   4              2                 5               2   \n",
       "4                   4              3                 4               1   \n",
       "5                   3              1                 5               2   \n",
       "6                   1              5                 1               5   \n",
       "7                   3              3                 4               1   \n",
       "8                   4              4                 2               4   \n",
       "9                   2              4                 2               3   \n",
       "10                  2              2                 5               3   \n",
       "11                  3              4                 3               5   \n",
       "12                  5              3                 4               2   \n",
       "13                  1              4                 3               5   \n",
       "14                  3              4                 3               5   \n",
       "\n",
       "    FINANZ_UNAUFFAELLIGER  FINANZ_HAUSBAUER    ...     PLZ8_ANTG1  PLZ8_ANTG2  \\\n",
       "0                       5                 3    ...            NaN         NaN   \n",
       "1                       4                 5    ...            2.0         3.0   \n",
       "2                       3                 5    ...            3.0         3.0   \n",
       "3                       1                 2    ...            2.0         2.0   \n",
       "4                       3                 2    ...            2.0         4.0   \n",
       "5                       2                 5    ...            2.0         3.0   \n",
       "6                       4                 3    ...            3.0         3.0   \n",
       "7                       3                 2    ...            3.0         3.0   \n",
       "8                       2                 2    ...            2.0         3.0   \n",
       "9                       5                 4    ...            2.0         3.0   \n",
       "10                      1                 5    ...            2.0         4.0   \n",
       "11                      5                 3    ...            NaN         NaN   \n",
       "12                      4                 1    ...            3.0         3.0   \n",
       "13                      5                 2    ...            2.0         1.0   \n",
       "14                      5                 3    ...            NaN         NaN   \n",
       "\n",
       "    PLZ8_ANTG3  PLZ8_ANTG4  PLZ8_BAUMAX  PLZ8_HHZ  PLZ8_GBZ  ARBEIT  \\\n",
       "0          NaN         NaN          NaN       NaN       NaN     NaN   \n",
       "1          2.0         1.0          1.0       5.0       4.0     3.0   \n",
       "2          1.0         0.0          1.0       4.0       4.0     3.0   \n",
       "3          2.0         0.0          1.0       3.0       4.0     2.0   \n",
       "4          2.0         1.0          2.0       3.0       3.0     4.0   \n",
       "5          1.0         1.0          1.0       5.0       5.0     2.0   \n",
       "6          1.0         0.0          1.0       5.0       5.0     4.0   \n",
       "7          1.0         0.0          1.0       4.0       4.0     2.0   \n",
       "8          2.0         1.0          1.0       3.0       3.0     2.0   \n",
       "9          2.0         1.0          1.0       3.0       3.0     2.0   \n",
       "10         2.0         0.0          2.0       3.0       3.0     4.0   \n",
       "11         NaN         NaN          NaN       NaN       NaN     NaN   \n",
       "12         1.0         0.0          1.0       5.0       5.0     3.0   \n",
       "13         1.0         1.0          1.0       3.0       3.0     3.0   \n",
       "14         NaN         NaN          NaN       NaN       NaN     NaN   \n",
       "\n",
       "    ORTSGR_KLS9  RELAT_AB  \n",
       "0           NaN       NaN  \n",
       "1           5.0       4.0  \n",
       "2           5.0       2.0  \n",
       "3           3.0       3.0  \n",
       "4           6.0       5.0  \n",
       "5           3.0       3.0  \n",
       "6           6.0       3.0  \n",
       "7           5.0       2.0  \n",
       "8           4.0       3.0  \n",
       "9           3.0       1.0  \n",
       "10          6.0       5.0  \n",
       "11          NaN       NaN  \n",
       "12          6.0       4.0  \n",
       "13          6.0       4.0  \n",
       "14          NaN       NaN  \n",
       "\n",
       "[15 rows x 85 columns]"
      ]
     },
     "metadata": {},
     "output_type": "display_data"
    },
    {
     "name": "stdout",
     "output_type": "stream",
     "text": [
      "feat_info*****\n"
     ]
    },
    {
     "data": {
      "text/html": [
       "<div>\n",
       "<style scoped>\n",
       "    .dataframe tbody tr th:only-of-type {\n",
       "        vertical-align: middle;\n",
       "    }\n",
       "\n",
       "    .dataframe tbody tr th {\n",
       "        vertical-align: top;\n",
       "    }\n",
       "\n",
       "    .dataframe thead th {\n",
       "        text-align: right;\n",
       "    }\n",
       "</style>\n",
       "<table border=\"1\" class=\"dataframe\">\n",
       "  <thead>\n",
       "    <tr style=\"text-align: right;\">\n",
       "      <th></th>\n",
       "      <th>attribute</th>\n",
       "      <th>information_level</th>\n",
       "      <th>type</th>\n",
       "      <th>missing_or_unknown</th>\n",
       "    </tr>\n",
       "  </thead>\n",
       "  <tbody>\n",
       "    <tr>\n",
       "      <th>0</th>\n",
       "      <td>AGER_TYP</td>\n",
       "      <td>person</td>\n",
       "      <td>categorical</td>\n",
       "      <td>[-1,0]</td>\n",
       "    </tr>\n",
       "    <tr>\n",
       "      <th>1</th>\n",
       "      <td>ALTERSKATEGORIE_GROB</td>\n",
       "      <td>person</td>\n",
       "      <td>ordinal</td>\n",
       "      <td>[-1,0,9]</td>\n",
       "    </tr>\n",
       "    <tr>\n",
       "      <th>2</th>\n",
       "      <td>ANREDE_KZ</td>\n",
       "      <td>person</td>\n",
       "      <td>categorical</td>\n",
       "      <td>[-1,0]</td>\n",
       "    </tr>\n",
       "    <tr>\n",
       "      <th>3</th>\n",
       "      <td>CJT_GESAMTTYP</td>\n",
       "      <td>person</td>\n",
       "      <td>categorical</td>\n",
       "      <td>[0]</td>\n",
       "    </tr>\n",
       "    <tr>\n",
       "      <th>4</th>\n",
       "      <td>FINANZ_MINIMALIST</td>\n",
       "      <td>person</td>\n",
       "      <td>ordinal</td>\n",
       "      <td>[-1]</td>\n",
       "    </tr>\n",
       "    <tr>\n",
       "      <th>5</th>\n",
       "      <td>FINANZ_SPARER</td>\n",
       "      <td>person</td>\n",
       "      <td>ordinal</td>\n",
       "      <td>[-1]</td>\n",
       "    </tr>\n",
       "    <tr>\n",
       "      <th>6</th>\n",
       "      <td>FINANZ_VORSORGER</td>\n",
       "      <td>person</td>\n",
       "      <td>ordinal</td>\n",
       "      <td>[-1]</td>\n",
       "    </tr>\n",
       "    <tr>\n",
       "      <th>7</th>\n",
       "      <td>FINANZ_ANLEGER</td>\n",
       "      <td>person</td>\n",
       "      <td>ordinal</td>\n",
       "      <td>[-1]</td>\n",
       "    </tr>\n",
       "    <tr>\n",
       "      <th>8</th>\n",
       "      <td>FINANZ_UNAUFFAELLIGER</td>\n",
       "      <td>person</td>\n",
       "      <td>ordinal</td>\n",
       "      <td>[-1]</td>\n",
       "    </tr>\n",
       "    <tr>\n",
       "      <th>9</th>\n",
       "      <td>FINANZ_HAUSBAUER</td>\n",
       "      <td>person</td>\n",
       "      <td>ordinal</td>\n",
       "      <td>[-1]</td>\n",
       "    </tr>\n",
       "    <tr>\n",
       "      <th>10</th>\n",
       "      <td>FINANZTYP</td>\n",
       "      <td>person</td>\n",
       "      <td>categorical</td>\n",
       "      <td>[-1]</td>\n",
       "    </tr>\n",
       "    <tr>\n",
       "      <th>11</th>\n",
       "      <td>GEBURTSJAHR</td>\n",
       "      <td>person</td>\n",
       "      <td>numeric</td>\n",
       "      <td>[0]</td>\n",
       "    </tr>\n",
       "    <tr>\n",
       "      <th>12</th>\n",
       "      <td>GFK_URLAUBERTYP</td>\n",
       "      <td>person</td>\n",
       "      <td>categorical</td>\n",
       "      <td>[]</td>\n",
       "    </tr>\n",
       "    <tr>\n",
       "      <th>13</th>\n",
       "      <td>GREEN_AVANTGARDE</td>\n",
       "      <td>person</td>\n",
       "      <td>categorical</td>\n",
       "      <td>[]</td>\n",
       "    </tr>\n",
       "    <tr>\n",
       "      <th>14</th>\n",
       "      <td>HEALTH_TYP</td>\n",
       "      <td>person</td>\n",
       "      <td>ordinal</td>\n",
       "      <td>[-1,0]</td>\n",
       "    </tr>\n",
       "    <tr>\n",
       "      <th>15</th>\n",
       "      <td>LP_LEBENSPHASE_FEIN</td>\n",
       "      <td>person</td>\n",
       "      <td>mixed</td>\n",
       "      <td>[0]</td>\n",
       "    </tr>\n",
       "    <tr>\n",
       "      <th>16</th>\n",
       "      <td>LP_LEBENSPHASE_GROB</td>\n",
       "      <td>person</td>\n",
       "      <td>mixed</td>\n",
       "      <td>[0]</td>\n",
       "    </tr>\n",
       "    <tr>\n",
       "      <th>17</th>\n",
       "      <td>LP_FAMILIE_FEIN</td>\n",
       "      <td>person</td>\n",
       "      <td>categorical</td>\n",
       "      <td>[0]</td>\n",
       "    </tr>\n",
       "    <tr>\n",
       "      <th>18</th>\n",
       "      <td>LP_FAMILIE_GROB</td>\n",
       "      <td>person</td>\n",
       "      <td>categorical</td>\n",
       "      <td>[0]</td>\n",
       "    </tr>\n",
       "    <tr>\n",
       "      <th>19</th>\n",
       "      <td>LP_STATUS_FEIN</td>\n",
       "      <td>person</td>\n",
       "      <td>categorical</td>\n",
       "      <td>[0]</td>\n",
       "    </tr>\n",
       "    <tr>\n",
       "      <th>20</th>\n",
       "      <td>LP_STATUS_GROB</td>\n",
       "      <td>person</td>\n",
       "      <td>categorical</td>\n",
       "      <td>[0]</td>\n",
       "    </tr>\n",
       "    <tr>\n",
       "      <th>21</th>\n",
       "      <td>NATIONALITAET_KZ</td>\n",
       "      <td>person</td>\n",
       "      <td>categorical</td>\n",
       "      <td>[-1,0]</td>\n",
       "    </tr>\n",
       "    <tr>\n",
       "      <th>22</th>\n",
       "      <td>PRAEGENDE_JUGENDJAHRE</td>\n",
       "      <td>person</td>\n",
       "      <td>mixed</td>\n",
       "      <td>[-1,0]</td>\n",
       "    </tr>\n",
       "    <tr>\n",
       "      <th>23</th>\n",
       "      <td>RETOURTYP_BK_S</td>\n",
       "      <td>person</td>\n",
       "      <td>ordinal</td>\n",
       "      <td>[0]</td>\n",
       "    </tr>\n",
       "    <tr>\n",
       "      <th>24</th>\n",
       "      <td>SEMIO_SOZ</td>\n",
       "      <td>person</td>\n",
       "      <td>ordinal</td>\n",
       "      <td>[-1,9]</td>\n",
       "    </tr>\n",
       "    <tr>\n",
       "      <th>25</th>\n",
       "      <td>SEMIO_FAM</td>\n",
       "      <td>person</td>\n",
       "      <td>ordinal</td>\n",
       "      <td>[-1,9]</td>\n",
       "    </tr>\n",
       "    <tr>\n",
       "      <th>26</th>\n",
       "      <td>SEMIO_REL</td>\n",
       "      <td>person</td>\n",
       "      <td>ordinal</td>\n",
       "      <td>[-1,9]</td>\n",
       "    </tr>\n",
       "    <tr>\n",
       "      <th>27</th>\n",
       "      <td>SEMIO_MAT</td>\n",
       "      <td>person</td>\n",
       "      <td>ordinal</td>\n",
       "      <td>[-1,9]</td>\n",
       "    </tr>\n",
       "    <tr>\n",
       "      <th>28</th>\n",
       "      <td>SEMIO_VERT</td>\n",
       "      <td>person</td>\n",
       "      <td>ordinal</td>\n",
       "      <td>[-1,9]</td>\n",
       "    </tr>\n",
       "    <tr>\n",
       "      <th>29</th>\n",
       "      <td>SEMIO_LUST</td>\n",
       "      <td>person</td>\n",
       "      <td>ordinal</td>\n",
       "      <td>[-1,9]</td>\n",
       "    </tr>\n",
       "  </tbody>\n",
       "</table>\n",
       "</div>"
      ],
      "text/plain": [
       "                attribute information_level         type missing_or_unknown\n",
       "0                AGER_TYP            person  categorical             [-1,0]\n",
       "1    ALTERSKATEGORIE_GROB            person      ordinal           [-1,0,9]\n",
       "2               ANREDE_KZ            person  categorical             [-1,0]\n",
       "3           CJT_GESAMTTYP            person  categorical                [0]\n",
       "4       FINANZ_MINIMALIST            person      ordinal               [-1]\n",
       "5           FINANZ_SPARER            person      ordinal               [-1]\n",
       "6        FINANZ_VORSORGER            person      ordinal               [-1]\n",
       "7          FINANZ_ANLEGER            person      ordinal               [-1]\n",
       "8   FINANZ_UNAUFFAELLIGER            person      ordinal               [-1]\n",
       "9        FINANZ_HAUSBAUER            person      ordinal               [-1]\n",
       "10              FINANZTYP            person  categorical               [-1]\n",
       "11            GEBURTSJAHR            person      numeric                [0]\n",
       "12        GFK_URLAUBERTYP            person  categorical                 []\n",
       "13       GREEN_AVANTGARDE            person  categorical                 []\n",
       "14             HEALTH_TYP            person      ordinal             [-1,0]\n",
       "15    LP_LEBENSPHASE_FEIN            person        mixed                [0]\n",
       "16    LP_LEBENSPHASE_GROB            person        mixed                [0]\n",
       "17        LP_FAMILIE_FEIN            person  categorical                [0]\n",
       "18        LP_FAMILIE_GROB            person  categorical                [0]\n",
       "19         LP_STATUS_FEIN            person  categorical                [0]\n",
       "20         LP_STATUS_GROB            person  categorical                [0]\n",
       "21       NATIONALITAET_KZ            person  categorical             [-1,0]\n",
       "22  PRAEGENDE_JUGENDJAHRE            person        mixed             [-1,0]\n",
       "23         RETOURTYP_BK_S            person      ordinal                [0]\n",
       "24              SEMIO_SOZ            person      ordinal             [-1,9]\n",
       "25              SEMIO_FAM            person      ordinal             [-1,9]\n",
       "26              SEMIO_REL            person      ordinal             [-1,9]\n",
       "27              SEMIO_MAT            person      ordinal             [-1,9]\n",
       "28             SEMIO_VERT            person      ordinal             [-1,9]\n",
       "29             SEMIO_LUST            person      ordinal             [-1,9]"
      ]
     },
     "metadata": {},
     "output_type": "display_data"
    }
   ],
   "source": [
    "# Check the structure of the data after it's loaded (e.g. print the number of\n",
    "# rows and columns, print the first few rows).\n",
    "print(\"shape:azdias*****\")\n",
    "print (azdias.shape)\n",
    "print(\"shape:feat_info*****\")\n",
    "print (feat_info.shape)\n",
    "print(\"azdias*****\")\n",
    "display (azdias.head (n=15))\n",
    "print(\"feat_info*****\")\n",
    "display (feat_info.head (n=30))\n",
    "\n",
    "\n"
   ]
  },
  {
   "cell_type": "code",
   "execution_count": 1024,
   "metadata": {},
   "outputs": [
    {
     "name": "stdout",
     "output_type": "stream",
     "text": [
      "<class 'pandas.core.frame.DataFrame'>\n"
     ]
    }
   ],
   "source": [
    "feat_info[\"attribute\"]\n",
    "print(type(feat_info))"
   ]
  },
  {
   "cell_type": "code",
   "execution_count": 1025,
   "metadata": {},
   "outputs": [
    {
     "name": "stdout",
     "output_type": "stream",
     "text": [
      "Description:azdias*****\n"
     ]
    },
    {
     "data": {
      "text/html": [
       "<div>\n",
       "<style scoped>\n",
       "    .dataframe tbody tr th:only-of-type {\n",
       "        vertical-align: middle;\n",
       "    }\n",
       "\n",
       "    .dataframe tbody tr th {\n",
       "        vertical-align: top;\n",
       "    }\n",
       "\n",
       "    .dataframe thead th {\n",
       "        text-align: right;\n",
       "    }\n",
       "</style>\n",
       "<table border=\"1\" class=\"dataframe\">\n",
       "  <thead>\n",
       "    <tr style=\"text-align: right;\">\n",
       "      <th></th>\n",
       "      <th>AGER_TYP</th>\n",
       "      <th>ALTERSKATEGORIE_GROB</th>\n",
       "      <th>ANREDE_KZ</th>\n",
       "      <th>CJT_GESAMTTYP</th>\n",
       "      <th>FINANZ_MINIMALIST</th>\n",
       "      <th>FINANZ_SPARER</th>\n",
       "      <th>FINANZ_VORSORGER</th>\n",
       "      <th>FINANZ_ANLEGER</th>\n",
       "      <th>FINANZ_UNAUFFAELLIGER</th>\n",
       "      <th>FINANZ_HAUSBAUER</th>\n",
       "      <th>...</th>\n",
       "      <th>PLZ8_ANTG1</th>\n",
       "      <th>PLZ8_ANTG2</th>\n",
       "      <th>PLZ8_ANTG3</th>\n",
       "      <th>PLZ8_ANTG4</th>\n",
       "      <th>PLZ8_BAUMAX</th>\n",
       "      <th>PLZ8_HHZ</th>\n",
       "      <th>PLZ8_GBZ</th>\n",
       "      <th>ARBEIT</th>\n",
       "      <th>ORTSGR_KLS9</th>\n",
       "      <th>RELAT_AB</th>\n",
       "    </tr>\n",
       "  </thead>\n",
       "  <tbody>\n",
       "    <tr>\n",
       "      <th>count</th>\n",
       "      <td>891221.000000</td>\n",
       "      <td>891221.000000</td>\n",
       "      <td>891221.000000</td>\n",
       "      <td>886367.000000</td>\n",
       "      <td>891221.000000</td>\n",
       "      <td>891221.000000</td>\n",
       "      <td>891221.000000</td>\n",
       "      <td>891221.000000</td>\n",
       "      <td>891221.000000</td>\n",
       "      <td>891221.000000</td>\n",
       "      <td>...</td>\n",
       "      <td>774706.000000</td>\n",
       "      <td>774706.000000</td>\n",
       "      <td>774706.000000</td>\n",
       "      <td>774706.000000</td>\n",
       "      <td>774706.000000</td>\n",
       "      <td>774706.000000</td>\n",
       "      <td>774706.000000</td>\n",
       "      <td>794005.000000</td>\n",
       "      <td>794005.000000</td>\n",
       "      <td>794005.00000</td>\n",
       "    </tr>\n",
       "    <tr>\n",
       "      <th>mean</th>\n",
       "      <td>-0.358435</td>\n",
       "      <td>2.777398</td>\n",
       "      <td>1.522098</td>\n",
       "      <td>3.632838</td>\n",
       "      <td>3.074528</td>\n",
       "      <td>2.821039</td>\n",
       "      <td>3.401106</td>\n",
       "      <td>3.033328</td>\n",
       "      <td>2.874167</td>\n",
       "      <td>3.075121</td>\n",
       "      <td>...</td>\n",
       "      <td>2.253330</td>\n",
       "      <td>2.801858</td>\n",
       "      <td>1.595426</td>\n",
       "      <td>0.699166</td>\n",
       "      <td>1.943913</td>\n",
       "      <td>3.612821</td>\n",
       "      <td>3.381087</td>\n",
       "      <td>3.167854</td>\n",
       "      <td>5.293002</td>\n",
       "      <td>3.07222</td>\n",
       "    </tr>\n",
       "    <tr>\n",
       "      <th>std</th>\n",
       "      <td>1.198724</td>\n",
       "      <td>1.068775</td>\n",
       "      <td>0.499512</td>\n",
       "      <td>1.595021</td>\n",
       "      <td>1.321055</td>\n",
       "      <td>1.464749</td>\n",
       "      <td>1.322134</td>\n",
       "      <td>1.529603</td>\n",
       "      <td>1.486731</td>\n",
       "      <td>1.353248</td>\n",
       "      <td>...</td>\n",
       "      <td>0.972008</td>\n",
       "      <td>0.920309</td>\n",
       "      <td>0.986736</td>\n",
       "      <td>0.727137</td>\n",
       "      <td>1.459654</td>\n",
       "      <td>0.973967</td>\n",
       "      <td>1.111598</td>\n",
       "      <td>1.002376</td>\n",
       "      <td>2.303739</td>\n",
       "      <td>1.36298</td>\n",
       "    </tr>\n",
       "    <tr>\n",
       "      <th>min</th>\n",
       "      <td>-1.000000</td>\n",
       "      <td>1.000000</td>\n",
       "      <td>1.000000</td>\n",
       "      <td>1.000000</td>\n",
       "      <td>1.000000</td>\n",
       "      <td>1.000000</td>\n",
       "      <td>1.000000</td>\n",
       "      <td>1.000000</td>\n",
       "      <td>1.000000</td>\n",
       "      <td>1.000000</td>\n",
       "      <td>...</td>\n",
       "      <td>0.000000</td>\n",
       "      <td>0.000000</td>\n",
       "      <td>0.000000</td>\n",
       "      <td>0.000000</td>\n",
       "      <td>1.000000</td>\n",
       "      <td>1.000000</td>\n",
       "      <td>1.000000</td>\n",
       "      <td>1.000000</td>\n",
       "      <td>0.000000</td>\n",
       "      <td>1.00000</td>\n",
       "    </tr>\n",
       "    <tr>\n",
       "      <th>25%</th>\n",
       "      <td>-1.000000</td>\n",
       "      <td>2.000000</td>\n",
       "      <td>1.000000</td>\n",
       "      <td>2.000000</td>\n",
       "      <td>2.000000</td>\n",
       "      <td>1.000000</td>\n",
       "      <td>3.000000</td>\n",
       "      <td>2.000000</td>\n",
       "      <td>2.000000</td>\n",
       "      <td>2.000000</td>\n",
       "      <td>...</td>\n",
       "      <td>1.000000</td>\n",
       "      <td>2.000000</td>\n",
       "      <td>1.000000</td>\n",
       "      <td>0.000000</td>\n",
       "      <td>1.000000</td>\n",
       "      <td>3.000000</td>\n",
       "      <td>3.000000</td>\n",
       "      <td>3.000000</td>\n",
       "      <td>4.000000</td>\n",
       "      <td>2.00000</td>\n",
       "    </tr>\n",
       "    <tr>\n",
       "      <th>50%</th>\n",
       "      <td>-1.000000</td>\n",
       "      <td>3.000000</td>\n",
       "      <td>2.000000</td>\n",
       "      <td>4.000000</td>\n",
       "      <td>3.000000</td>\n",
       "      <td>3.000000</td>\n",
       "      <td>3.000000</td>\n",
       "      <td>3.000000</td>\n",
       "      <td>3.000000</td>\n",
       "      <td>3.000000</td>\n",
       "      <td>...</td>\n",
       "      <td>2.000000</td>\n",
       "      <td>3.000000</td>\n",
       "      <td>2.000000</td>\n",
       "      <td>1.000000</td>\n",
       "      <td>1.000000</td>\n",
       "      <td>4.000000</td>\n",
       "      <td>3.000000</td>\n",
       "      <td>3.000000</td>\n",
       "      <td>5.000000</td>\n",
       "      <td>3.00000</td>\n",
       "    </tr>\n",
       "    <tr>\n",
       "      <th>75%</th>\n",
       "      <td>-1.000000</td>\n",
       "      <td>4.000000</td>\n",
       "      <td>2.000000</td>\n",
       "      <td>5.000000</td>\n",
       "      <td>4.000000</td>\n",
       "      <td>4.000000</td>\n",
       "      <td>5.000000</td>\n",
       "      <td>5.000000</td>\n",
       "      <td>4.000000</td>\n",
       "      <td>4.000000</td>\n",
       "      <td>...</td>\n",
       "      <td>3.000000</td>\n",
       "      <td>3.000000</td>\n",
       "      <td>2.000000</td>\n",
       "      <td>1.000000</td>\n",
       "      <td>3.000000</td>\n",
       "      <td>4.000000</td>\n",
       "      <td>4.000000</td>\n",
       "      <td>4.000000</td>\n",
       "      <td>7.000000</td>\n",
       "      <td>4.00000</td>\n",
       "    </tr>\n",
       "    <tr>\n",
       "      <th>max</th>\n",
       "      <td>3.000000</td>\n",
       "      <td>9.000000</td>\n",
       "      <td>2.000000</td>\n",
       "      <td>6.000000</td>\n",
       "      <td>5.000000</td>\n",
       "      <td>5.000000</td>\n",
       "      <td>5.000000</td>\n",
       "      <td>5.000000</td>\n",
       "      <td>5.000000</td>\n",
       "      <td>5.000000</td>\n",
       "      <td>...</td>\n",
       "      <td>4.000000</td>\n",
       "      <td>4.000000</td>\n",
       "      <td>3.000000</td>\n",
       "      <td>2.000000</td>\n",
       "      <td>5.000000</td>\n",
       "      <td>5.000000</td>\n",
       "      <td>5.000000</td>\n",
       "      <td>9.000000</td>\n",
       "      <td>9.000000</td>\n",
       "      <td>9.00000</td>\n",
       "    </tr>\n",
       "  </tbody>\n",
       "</table>\n",
       "<p>8 rows × 81 columns</p>\n",
       "</div>"
      ],
      "text/plain": [
       "            AGER_TYP  ALTERSKATEGORIE_GROB      ANREDE_KZ  CJT_GESAMTTYP  \\\n",
       "count  891221.000000         891221.000000  891221.000000  886367.000000   \n",
       "mean       -0.358435              2.777398       1.522098       3.632838   \n",
       "std         1.198724              1.068775       0.499512       1.595021   \n",
       "min        -1.000000              1.000000       1.000000       1.000000   \n",
       "25%        -1.000000              2.000000       1.000000       2.000000   \n",
       "50%        -1.000000              3.000000       2.000000       4.000000   \n",
       "75%        -1.000000              4.000000       2.000000       5.000000   \n",
       "max         3.000000              9.000000       2.000000       6.000000   \n",
       "\n",
       "       FINANZ_MINIMALIST  FINANZ_SPARER  FINANZ_VORSORGER  FINANZ_ANLEGER  \\\n",
       "count      891221.000000  891221.000000     891221.000000   891221.000000   \n",
       "mean            3.074528       2.821039          3.401106        3.033328   \n",
       "std             1.321055       1.464749          1.322134        1.529603   \n",
       "min             1.000000       1.000000          1.000000        1.000000   \n",
       "25%             2.000000       1.000000          3.000000        2.000000   \n",
       "50%             3.000000       3.000000          3.000000        3.000000   \n",
       "75%             4.000000       4.000000          5.000000        5.000000   \n",
       "max             5.000000       5.000000          5.000000        5.000000   \n",
       "\n",
       "       FINANZ_UNAUFFAELLIGER  FINANZ_HAUSBAUER      ...          PLZ8_ANTG1  \\\n",
       "count          891221.000000     891221.000000      ...       774706.000000   \n",
       "mean                2.874167          3.075121      ...            2.253330   \n",
       "std                 1.486731          1.353248      ...            0.972008   \n",
       "min                 1.000000          1.000000      ...            0.000000   \n",
       "25%                 2.000000          2.000000      ...            1.000000   \n",
       "50%                 3.000000          3.000000      ...            2.000000   \n",
       "75%                 4.000000          4.000000      ...            3.000000   \n",
       "max                 5.000000          5.000000      ...            4.000000   \n",
       "\n",
       "          PLZ8_ANTG2     PLZ8_ANTG3     PLZ8_ANTG4    PLZ8_BAUMAX  \\\n",
       "count  774706.000000  774706.000000  774706.000000  774706.000000   \n",
       "mean        2.801858       1.595426       0.699166       1.943913   \n",
       "std         0.920309       0.986736       0.727137       1.459654   \n",
       "min         0.000000       0.000000       0.000000       1.000000   \n",
       "25%         2.000000       1.000000       0.000000       1.000000   \n",
       "50%         3.000000       2.000000       1.000000       1.000000   \n",
       "75%         3.000000       2.000000       1.000000       3.000000   \n",
       "max         4.000000       3.000000       2.000000       5.000000   \n",
       "\n",
       "            PLZ8_HHZ       PLZ8_GBZ         ARBEIT    ORTSGR_KLS9  \\\n",
       "count  774706.000000  774706.000000  794005.000000  794005.000000   \n",
       "mean        3.612821       3.381087       3.167854       5.293002   \n",
       "std         0.973967       1.111598       1.002376       2.303739   \n",
       "min         1.000000       1.000000       1.000000       0.000000   \n",
       "25%         3.000000       3.000000       3.000000       4.000000   \n",
       "50%         4.000000       3.000000       3.000000       5.000000   \n",
       "75%         4.000000       4.000000       4.000000       7.000000   \n",
       "max         5.000000       5.000000       9.000000       9.000000   \n",
       "\n",
       "           RELAT_AB  \n",
       "count  794005.00000  \n",
       "mean        3.07222  \n",
       "std         1.36298  \n",
       "min         1.00000  \n",
       "25%         2.00000  \n",
       "50%         3.00000  \n",
       "75%         4.00000  \n",
       "max         9.00000  \n",
       "\n",
       "[8 rows x 81 columns]"
      ]
     },
     "metadata": {},
     "output_type": "display_data"
    },
    {
     "name": "stdout",
     "output_type": "stream",
     "text": [
      "Description:feat_info*****\n"
     ]
    },
    {
     "data": {
      "text/html": [
       "<div>\n",
       "<style scoped>\n",
       "    .dataframe tbody tr th:only-of-type {\n",
       "        vertical-align: middle;\n",
       "    }\n",
       "\n",
       "    .dataframe tbody tr th {\n",
       "        vertical-align: top;\n",
       "    }\n",
       "\n",
       "    .dataframe thead th {\n",
       "        text-align: right;\n",
       "    }\n",
       "</style>\n",
       "<table border=\"1\" class=\"dataframe\">\n",
       "  <thead>\n",
       "    <tr style=\"text-align: right;\">\n",
       "      <th></th>\n",
       "      <th>attribute</th>\n",
       "      <th>information_level</th>\n",
       "      <th>type</th>\n",
       "      <th>missing_or_unknown</th>\n",
       "    </tr>\n",
       "  </thead>\n",
       "  <tbody>\n",
       "    <tr>\n",
       "      <th>count</th>\n",
       "      <td>85</td>\n",
       "      <td>85</td>\n",
       "      <td>85</td>\n",
       "      <td>85</td>\n",
       "    </tr>\n",
       "    <tr>\n",
       "      <th>unique</th>\n",
       "      <td>85</td>\n",
       "      <td>9</td>\n",
       "      <td>5</td>\n",
       "      <td>9</td>\n",
       "    </tr>\n",
       "    <tr>\n",
       "      <th>top</th>\n",
       "      <td>W_KEIT_KIND_HH</td>\n",
       "      <td>person</td>\n",
       "      <td>ordinal</td>\n",
       "      <td>[-1]</td>\n",
       "    </tr>\n",
       "    <tr>\n",
       "      <th>freq</th>\n",
       "      <td>1</td>\n",
       "      <td>43</td>\n",
       "      <td>49</td>\n",
       "      <td>26</td>\n",
       "    </tr>\n",
       "  </tbody>\n",
       "</table>\n",
       "</div>"
      ],
      "text/plain": [
       "             attribute information_level     type missing_or_unknown\n",
       "count               85                85       85                 85\n",
       "unique              85                 9        5                  9\n",
       "top     W_KEIT_KIND_HH            person  ordinal               [-1]\n",
       "freq                 1                43       49                 26"
      ]
     },
     "metadata": {},
     "output_type": "display_data"
    }
   ],
   "source": [
    "# Description of the datasets:\n",
    "print(\"Description:azdias*****\")\n",
    "display (azdias.describe ())\n",
    "print(\"Description:feat_info*****\")\n",
    "display (feat_info.describe ())"
   ]
  },
  {
   "cell_type": "code",
   "execution_count": 1026,
   "metadata": {},
   "outputs": [
    {
     "data": {
      "text/plain": [
       "array(['[-1,0]', '[-1,0,9]', '[0]', '[-1]', '[]', '[-1,9]', '[-1,X]',\n",
       "       '[XX]', '[-1,XX]'], dtype=object)"
      ]
     },
     "execution_count": 1026,
     "metadata": {},
     "output_type": "execute_result"
    }
   ],
   "source": [
    "unique = feat_info[\"missing_or_unknown\"].unique()\n",
    "unique"
   ]
  },
  {
   "cell_type": "markdown",
   "metadata": {},
   "source": [
    "> **Tip**: Add additional cells to keep everything in reasonably-sized chunks! Keyboard shortcut `esc --> a` (press escape to enter command mode, then press the 'A' key) adds a new cell before the active cell, and `esc --> b` adds a new cell after the active cell. If you need to convert an active cell to a markdown cell, use `esc --> m` and to convert to a code cell, use `esc --> y`. \n",
    "\n",
    "## Step 1: Preprocessing\n",
    "\n",
    "### Step 1.1: Assess Missing Data\n",
    "\n",
    "The feature summary file contains a summary of properties for each demographics data column. You will use this file to help you make cleaning decisions during this stage of the project. First of all, you should assess the demographics data in terms of missing data. Pay attention to the following points as you perform your analysis, and take notes on what you observe. Make sure that you fill in the **Discussion** cell with your findings and decisions at the end of each step that has one!\n",
    "\n",
    "#### Step 1.1.1: Convert Missing Value Codes to NaNs\n",
    "The fourth column of the feature attributes summary (loaded in above as `feat_info`) documents the codes from the data dictionary that indicate missing or unknown data. While the file encodes this as a list (e.g. `[-1,0]`), this will get read in as a string object. You'll need to do a little bit of parsing to make use of it to identify and clean the data. Convert data that matches a 'missing' or 'unknown' value code into a numpy NaN value. You might want to see how much data takes on a 'missing' or 'unknown' code, and how much data is naturally missing, as a point of interest.\n",
    "\n",
    "**As one more reminder, you are encouraged to add additional cells to break up your analysis into manageable chunks.**"
   ]
  },
  {
   "cell_type": "code",
   "execution_count": 1027,
   "metadata": {},
   "outputs": [
    {
     "data": {
      "text/plain": [
       "AGER_TYP                      0\n",
       "ALTERSKATEGORIE_GROB          0\n",
       "ANREDE_KZ                     0\n",
       "CJT_GESAMTTYP              4854\n",
       "FINANZ_MINIMALIST             0\n",
       "FINANZ_SPARER                 0\n",
       "FINANZ_VORSORGER              0\n",
       "FINANZ_ANLEGER                0\n",
       "FINANZ_UNAUFFAELLIGER         0\n",
       "FINANZ_HAUSBAUER              0\n",
       "FINANZTYP                     0\n",
       "GEBURTSJAHR                   0\n",
       "GFK_URLAUBERTYP            4854\n",
       "GREEN_AVANTGARDE              0\n",
       "HEALTH_TYP                    0\n",
       "LP_LEBENSPHASE_FEIN        4854\n",
       "LP_LEBENSPHASE_GROB        4854\n",
       "LP_FAMILIE_FEIN            4854\n",
       "LP_FAMILIE_GROB            4854\n",
       "LP_STATUS_FEIN             4854\n",
       "LP_STATUS_GROB             4854\n",
       "NATIONALITAET_KZ              0\n",
       "PRAEGENDE_JUGENDJAHRE         0\n",
       "RETOURTYP_BK_S             4854\n",
       "SEMIO_SOZ                     0\n",
       "SEMIO_FAM                     0\n",
       "SEMIO_REL                     0\n",
       "SEMIO_MAT                     0\n",
       "SEMIO_VERT                    0\n",
       "SEMIO_LUST                    0\n",
       "                          ...  \n",
       "OST_WEST_KZ               93148\n",
       "WOHNLAGE                  93148\n",
       "CAMEO_DEUG_2015           98979\n",
       "CAMEO_DEU_2015            98979\n",
       "CAMEO_INTL_2015           98979\n",
       "KBA05_ANTG1              133324\n",
       "KBA05_ANTG2              133324\n",
       "KBA05_ANTG3              133324\n",
       "KBA05_ANTG4              133324\n",
       "KBA05_BAUMAX             133324\n",
       "KBA05_GBZ                133324\n",
       "BALLRAUM                  93740\n",
       "EWDICHTE                  93740\n",
       "INNENSTADT                93740\n",
       "GEBAEUDETYP_RASTER        93155\n",
       "KKK                      121196\n",
       "MOBI_REGIO               133324\n",
       "ONLINE_AFFINITAET          4854\n",
       "REGIOTYP                 121196\n",
       "KBA13_ANZAHL_PKW         105800\n",
       "PLZ8_ANTG1               116515\n",
       "PLZ8_ANTG2               116515\n",
       "PLZ8_ANTG3               116515\n",
       "PLZ8_ANTG4               116515\n",
       "PLZ8_BAUMAX              116515\n",
       "PLZ8_HHZ                 116515\n",
       "PLZ8_GBZ                 116515\n",
       "ARBEIT                    97216\n",
       "ORTSGR_KLS9               97216\n",
       "RELAT_AB                  97216\n",
       "Length: 85, dtype: int64"
      ]
     },
     "metadata": {},
     "output_type": "display_data"
    }
   ],
   "source": [
    "# Identify missing or unknown data values and convert them to NaNs.\n",
    "natural_missing = azdias.isnull().sum () \n",
    "display (natural_missing)\n"
   ]
  },
  {
   "cell_type": "code",
   "execution_count": 1028,
   "metadata": {},
   "outputs": [
    {
     "data": {
      "text/plain": [
       "4896838"
      ]
     },
     "metadata": {},
     "output_type": "display_data"
    }
   ],
   "source": [
    "\n",
    "# The total number of missing data on the dataset \n",
    "overall= azdias.isnull().sum () .sum()\n",
    "display (overall)"
   ]
  },
  {
   "cell_type": "code",
   "execution_count": 1029,
   "metadata": {},
   "outputs": [
    {
     "name": "stdout",
     "output_type": "stream",
     "text": [
      "done\n"
     ]
    }
   ],
   "source": [
    "for indx in range(len(feat_info)):\n",
    "    missing_or_unknown = feat_info.iloc[indx]['missing_or_unknown']\n",
    "    missing_or_unknown = missing_or_unknown.strip('[')\n",
    "    missing_or_unknown = missing_or_unknown.strip(']')\n",
    "    missing_or_unknown = missing_or_unknown.split(sep=',')\n",
    "    missing_or_unknown = [int(value) if (value!='X' and value!='XX' and value!='') else value for value in missing_or_unknown]\n",
    "    if missing_or_unknown != ['']:\n",
    "        azdias = azdias.replace({feat_info.iloc[indx]['attribute']: missing_or_unknown}, np.nan)\n",
    "        \n",
    "print(\"done\")"
   ]
  },
  {
   "cell_type": "code",
   "execution_count": 1031,
   "metadata": {},
   "outputs": [
    {
     "data": {
      "text/plain": [
       "8373929"
      ]
     },
     "metadata": {},
     "output_type": "display_data"
    }
   ],
   "source": [
    "overall2 = azdias.isnull().sum ().sum()\n",
    "display (overall2)"
   ]
  },
  {
   "cell_type": "code",
   "execution_count": 1032,
   "metadata": {},
   "outputs": [
    {
     "data": {
      "text/plain": [
       "(891221, 85)"
      ]
     },
     "execution_count": 1032,
     "metadata": {},
     "output_type": "execute_result"
    }
   ],
   "source": [
    "azdias.shape\n"
   ]
  },
  {
   "cell_type": "markdown",
   "metadata": {},
   "source": [
    "#### Step 1.1.2: Assess Missing Data in Each Column\n",
    "\n",
    "How much missing data is present in each column? There are a few columns that are outliers in terms of the proportion of values that are missing. You will want to use matplotlib's [`hist()`](https://matplotlib.org/api/_as_gen/matplotlib.pyplot.hist.html) function to visualize the distribution of missing value counts to find these columns. Identify and document these columns. While some of these columns might have justifications for keeping or re-encoding the data, for this project you should just remove them from the dataframe. (Feel free to make remarks about these outlier columns in the discussion, however!)\n",
    "\n",
    "For the remaining features, are there any patterns in which columns have, or share, missing data?"
   ]
  },
  {
   "cell_type": "code",
   "execution_count": 1033,
   "metadata": {},
   "outputs": [
    {
     "data": {
      "text/plain": [
       "ZABEOTYP                  0.000000\n",
       "SEMIO_TRADV               0.000000\n",
       "SEMIO_PFLICHT             0.000000\n",
       "SEMIO_KAEM                0.000000\n",
       "SEMIO_DOM                 0.000000\n",
       "SEMIO_KRIT                0.000000\n",
       "SEMIO_RAT                 0.000000\n",
       "SEMIO_KULT                0.000000\n",
       "SEMIO_ERL                 0.000000\n",
       "SEMIO_LUST                0.000000\n",
       "SEMIO_VERT                0.000000\n",
       "SEMIO_MAT                 0.000000\n",
       "SEMIO_REL                 0.000000\n",
       "SEMIO_SOZ                 0.000000\n",
       "SEMIO_FAM                 0.000000\n",
       "FINANZ_VORSORGER          0.000000\n",
       "ANREDE_KZ                 0.000000\n",
       "FINANZ_MINIMALIST         0.000000\n",
       "FINANZ_SPARER             0.000000\n",
       "FINANZ_ANLEGER            0.000000\n",
       "FINANZ_UNAUFFAELLIGER     0.000000\n",
       "FINANZ_HAUSBAUER          0.000000\n",
       "GREEN_AVANTGARDE          0.000000\n",
       "FINANZTYP                 0.000000\n",
       "ALTERSKATEGORIE_GROB      0.323264\n",
       "GFK_URLAUBERTYP           0.544646\n",
       "LP_STATUS_GROB            0.544646\n",
       "LP_STATUS_FEIN            0.544646\n",
       "ONLINE_AFFINITAET         0.544646\n",
       "RETOURTYP_BK_S            0.544646\n",
       "                           ...    \n",
       "CAMEO_INTL_2015          11.147852\n",
       "ANZ_HAUSHALTE_AKTIV      11.176913\n",
       "KBA13_ANZAHL_PKW         11.871354\n",
       "PRAEGENDE_JUGENDJAHRE    12.136608\n",
       "NATIONALITAET_KZ         12.153551\n",
       "HEALTH_TYP               12.476816\n",
       "VERS_TYP                 12.476816\n",
       "SHOPPER_TYP              12.476816\n",
       "PLZ8_ANTG2               13.073637\n",
       "PLZ8_ANTG3               13.073637\n",
       "PLZ8_ANTG1               13.073637\n",
       "PLZ8_ANTG4               13.073637\n",
       "PLZ8_BAUMAX              13.073637\n",
       "PLZ8_HHZ                 13.073637\n",
       "PLZ8_GBZ                 13.073637\n",
       "KBA05_ANTG3              14.959701\n",
       "KBA05_ANTG2              14.959701\n",
       "KBA05_ANTG1              14.959701\n",
       "MOBI_REGIO               14.959701\n",
       "KBA05_GBZ                14.959701\n",
       "KBA05_ANTG4              14.959701\n",
       "W_KEIT_KIND_HH           16.605084\n",
       "KKK                      17.735668\n",
       "REGIOTYP                 17.735668\n",
       "ALTER_HH                 34.813699\n",
       "GEBURTSJAHR              44.020282\n",
       "KBA05_BAUMAX             53.468668\n",
       "KK_KUNDENTYP             65.596749\n",
       "AGER_TYP                 76.955435\n",
       "TITEL_KZ                 99.757636\n",
       "Length: 85, dtype: float64"
      ]
     },
     "metadata": {},
     "output_type": "display_data"
    }
   ],
   "source": [
    "# Perform an assessment of how much missing data there is in each column of the\n",
    "# dataset.\n",
    "percentage = (azdias.isnull().sum()/891221).sort_values(ascending=True)*100\n",
    "display (percentage)"
   ]
  },
  {
   "cell_type": "code",
   "execution_count": 1034,
   "metadata": {},
   "outputs": [
    {
     "data": {
      "image/png": "[encoded data removed]",
      "text/plain": [
       "<matplotlib.figure.Figure at 0x7f855010dbe0>"
      ]
     },
     "metadata": {
      "needs_background": "light"
     },
     "output_type": "display_data"
    }
   ],
   "source": [
    "# Investigate patterns in the amount of missing data in each column.\n",
    "\n",
    "plt.hist(percentage,bins=50)\n",
    "plt.title(\"Percentage of Missing Values Per feature\");\n",
    "plt.ylabel(\"Number of features\");\n",
    "plt.xlabel(\"Percentage missing\");\n",
    "plt.xticks(np.arange(0, 100, step=4))\n",
    "plt.grid()\n"
   ]
  },
  {
   "cell_type": "code",
   "execution_count": 1035,
   "metadata": {},
   "outputs": [
    {
     "data": {
      "text/plain": [
       "(891221, 85)"
      ]
     },
     "execution_count": 1035,
     "metadata": {},
     "output_type": "execute_result"
    }
   ],
   "source": [
    "azdias.shape\n"
   ]
  },
  {
   "cell_type": "code",
   "execution_count": 1036,
   "metadata": {},
   "outputs": [
    {
     "name": "stdout",
     "output_type": "stream",
     "text": [
      "The outliers list is: ['ALTER_HH', 'GEBURTSJAHR', 'KBA05_BAUMAX', 'KK_KUNDENTYP', 'AGER_TYP', 'TITEL_KZ']\n"
     ]
    },
    {
     "data": {
      "text/plain": [
       "['ALTER_HH',\n",
       " 'GEBURTSJAHR',\n",
       " 'KBA05_BAUMAX',\n",
       " 'KK_KUNDENTYP',\n",
       " 'AGER_TYP',\n",
       " 'TITEL_KZ']"
      ]
     },
     "execution_count": 1036,
     "metadata": {},
     "output_type": "execute_result"
    }
   ],
   "source": [
    "# Remove the outlier columns from the dataset. (You'll perform other data\n",
    "# engineering tasks such as re-encoding and imputation later.)\n",
    "\n",
    "outliers= []\n",
    "for column in range(85):\n",
    "    col= percentage.index[column]\n",
    "    null_col = percentage[column]\n",
    "    if null_col > 20:\n",
    "        outliers.append(col)\n",
    "\n",
    "print(\"The outliers list is: {}\".format(outliers))\n",
    "outliers"
   ]
  },
  {
   "cell_type": "code",
   "execution_count": 1037,
   "metadata": {},
   "outputs": [
    {
     "data": {
      "text/plain": [
       "(891221, 79)"
      ]
     },
     "execution_count": 1037,
     "metadata": {},
     "output_type": "execute_result"
    }
   ],
   "source": [
    "# Drop the outliers:\n",
    "\n",
    "azdias = azdias.drop(outliers,axis=1)\n",
    "azdias.shape\n",
    "\n"
   ]
  },
  {
   "cell_type": "markdown",
   "metadata": {},
   "source": [
    "#### Discussion 1.1.2: Assess Missing Data in Each Column\n",
    "\n",
    "(Double click this cell and replace this text with your own text, reporting your observations regarding the amount of missing data in each column. Are there any patterns in missing values? Which columns were removed from the dataset?)\n",
    "\n",
    "From the above Histogram, we can see that most of the columns have less than 20% of missing values. The percentage of the missing values variate between 0 and 16% for the most of features. Therefore, the 6 features that have more than 30% of missing values represent the outliers that were droped from our dataframe. The outliers are : 'ALTER_HH',\n",
    " 'GEBURTSJAHR','KBA05_BAUMAX','KK_KUNDENTYP','AGER_TYP','TITEL_KZ'."
   ]
  },
  {
   "cell_type": "markdown",
   "metadata": {},
   "source": [
    "#### Step 1.1.3: Assess Missing Data in Each Row\n",
    "\n",
    "Now, you'll perform a similar assessment for the rows of the dataset. How much data is missing in each row? As with the columns, you should see some groups of points that have a very different numbers of missing values. Divide the data into two subsets: one for data points that are above some threshold for missing values, and a second subset for points below that threshold.\n",
    "\n",
    "In order to know what to do with the outlier rows, we should see if the distribution of data values on columns that are not missing data (or are missing very little data) are similar or different between the two groups. Select at least five of these columns and compare the distribution of values.\n",
    "- You can use seaborn's [`countplot()`](https://seaborn.pydata.org/generated/seaborn.countplot.html) function to create a bar chart of code frequencies and matplotlib's [`subplot()`](https://matplotlib.org/api/_as_gen/matplotlib.pyplot.subplot.html) function to put bar charts for the two subplots side by side.\n",
    "- To reduce repeated code, you might want to write a function that can perform this comparison, taking as one of its arguments a column to be compared.\n",
    "\n",
    "Depending on what you observe in your comparison, this will have implications on how you approach your conclusions later in the analysis. If the distributions of non-missing features look similar between the data with many missing values and the data with few or no missing values, then we could argue that simply dropping those points from the analysis won't present a major issue. On the other hand, if the data with many missing values looks very different from the data with few or no missing values, then we should make a note on those data as special. We'll revisit these data later on. **Either way, you should continue your analysis for now using just the subset of the data with few or no missing values.**"
   ]
  },
  {
   "cell_type": "code",
   "execution_count": 1038,
   "metadata": {},
   "outputs": [
    {
     "data": {
      "text/plain": [
       "445610     0\n",
       "540274     0\n",
       "540275     0\n",
       "540277     0\n",
       "540280     0\n",
       "540281     0\n",
       "540283     0\n",
       "540284     0\n",
       "540286     0\n",
       "540273     0\n",
       "540287     0\n",
       "540290     0\n",
       "540291     0\n",
       "540292     0\n",
       "540293     0\n",
       "540295     0\n",
       "540296     0\n",
       "540298     0\n",
       "540299     0\n",
       "540289     0\n",
       "540300     0\n",
       "540271     0\n",
       "540269     0\n",
       "540239     0\n",
       "540240     0\n",
       "540241     0\n",
       "540242     0\n",
       "540243     0\n",
       "540244     0\n",
       "540246     0\n",
       "          ..\n",
       "139521    47\n",
       "690887    47\n",
       "690878    47\n",
       "690876    47\n",
       "690871    47\n",
       "139478    47\n",
       "139236    47\n",
       "691118    47\n",
       "691129    47\n",
       "691317    47\n",
       "139243    47\n",
       "139245    47\n",
       "139248    47\n",
       "139250    47\n",
       "139255    47\n",
       "139267    47\n",
       "691122    47\n",
       "691212    47\n",
       "139323    47\n",
       "691197    47\n",
       "139332    47\n",
       "691183    47\n",
       "691171    47\n",
       "691142    47\n",
       "691141    47\n",
       "139316    47\n",
       "183108    47\n",
       "472919    48\n",
       "732775    49\n",
       "643174    49\n",
       "Length: 891221, dtype: int64"
      ]
     },
     "execution_count": 1038,
     "metadata": {},
     "output_type": "execute_result"
    }
   ],
   "source": [
    "# How much data is missing in each row of the dataset?\n",
    "missing_per_rows = azdias.isnull().sum(axis=1).sort_values(ascending=True)\n",
    "missing_per_rows\n",
    "\n",
    "\n"
   ]
  },
  {
   "cell_type": "code",
   "execution_count": 1039,
   "metadata": {},
   "outputs": [
    {
     "data": {
      "text/plain": [
       "5035304"
      ]
     },
     "execution_count": 1039,
     "metadata": {},
     "output_type": "execute_result"
    }
   ],
   "source": [
    "# The total number of missing per rows\n",
    "total_missing_per_rows = azdias.isnull().sum(axis=1).sum()\n",
    "total_missing_per_rows\n"
   ]
  },
  {
   "cell_type": "code",
   "execution_count": 1040,
   "metadata": {},
   "outputs": [
    {
     "data": {
      "text/plain": [
       "<matplotlib.axes._subplots.AxesSubplot at 0x7f854b85b208>"
      ]
     },
     "execution_count": 1040,
     "metadata": {},
     "output_type": "execute_result"
    },
    {
     "data": {
      "image/png": "[encoded data removed]",
      "text/plain": [
       "<matplotlib.figure.Figure at 0x7f8551d77ba8>"
      ]
     },
     "metadata": {
      "needs_background": "light"
     },
     "output_type": "display_data"
    }
   ],
   "source": [
    "# The hisogramm\n",
    "\n",
    "\n",
    "missing_per_rows.hist(grid=False)\n"
   ]
  },
  {
   "cell_type": "code",
   "execution_count": 1041,
   "metadata": {},
   "outputs": [],
   "source": [
    "# Write code to divide the data into two subsets based on the number of missing\n",
    "# values in each row.\n",
    "first_subset = azdias[azdias.isnull().sum(axis=1) >= 20]\n",
    "second_subset = azdias[azdias.isnull().sum(axis=1) < 20]\n"
   ]
  },
  {
   "cell_type": "code",
   "execution_count": 1044,
   "metadata": {},
   "outputs": [
    {
     "data": {
      "text/plain": [
       "24"
      ]
     },
     "execution_count": 1044,
     "metadata": {},
     "output_type": "execute_result"
    }
   ],
   "source": [
    "zero_miss=[]\n",
    "for i in range(79):\n",
    "    if(percentage[i]==0):\n",
    "        zero_miss.append(percentage.index[i])\n",
    "zero_miss\n",
    "len(zero_miss)\n"
   ]
  },
  {
   "cell_type": "code",
   "execution_count": 1045,
   "metadata": {},
   "outputs": [],
   "source": [
    "# Compare the distribution of values for at least five columns where there are\n",
    "# no or few missing values, between the two subsets.\n",
    "\n",
    "def comparing_distribution(column_name):\n",
    "    fig = plt.figure(10, figsize=(12,4))\n",
    "    \n",
    "    ax1 = fig.add_subplot(121)\n",
    "    ax1.title.set_text('more features ')\n",
    "    sns.countplot(first_subset[column_name])\n",
    "    \n",
    "    ax2 = fig.add_subplot(122)\n",
    "    ax2.title.set_text('few features ')\n",
    "    sns.countplot(second_subset[column_name])\n",
    "                                                       \n",
    "    fig.suptitle(column)\n",
    "    plt.show()\n"
   ]
  },
  {
   "cell_type": "code",
   "execution_count": 1046,
   "metadata": {},
   "outputs": [
    {
     "data": {
      "image/png": "[encoded data removed]",
      "text/plain": [
       "<matplotlib.figure.Figure at 0x7f8512c88208>"
      ]
     },
     "metadata": {
      "needs_background": "light"
     },
     "output_type": "display_data"
    },
    {
     "data": {
      "image/png": "[encoded data removed]",
      "text/plain": [
       "<matplotlib.figure.Figure at 0x7f856a7d47b8>"
      ]
     },
     "metadata": {
      "needs_background": "light"
     },
     "output_type": "display_data"
    },
    {
     "data": {
      "image/png": "[encoded data removed]",
      "text/plain": [
       "<matplotlib.figure.Figure at 0x7f83aedb0080>"
      ]
     },
     "metadata": {
      "needs_background": "light"
     },
     "output_type": "display_data"
    },
    {
     "data": {
      "image/png": "[encoded data removed]",
      "text/plain": [
       "<matplotlib.figure.Figure at 0x7f856a40d898>"
      ]
     },
     "metadata": {
      "needs_background": "light"
     },
     "output_type": "display_data"
    },
    {
     "data": {
      "image/png": "[encoded data removed]",
      "text/plain": [
       "<matplotlib.figure.Figure at 0x7f854d7b6400>"
      ]
     },
     "metadata": {
      "needs_background": "light"
     },
     "output_type": "display_data"
    },
    {
     "data": {
      "image/png": "[encoded data removed]",
      "text/plain": [
       "<matplotlib.figure.Figure at 0x7f856a799668>"
      ]
     },
     "metadata": {
      "needs_background": "light"
     },
     "output_type": "display_data"
    },
    {
     "data": {
      "image/png": "[encoded data removed]",
      "text/plain": [
       "<matplotlib.figure.Figure at 0x7f8512ee8d68>"
      ]
     },
     "metadata": {
      "needs_background": "light"
     },
     "output_type": "display_data"
    },
    {
     "data": {
      "image/png": "[encoded data removed]",
      "text/plain": [
       "<matplotlib.figure.Figure at 0x7f8512ee8780>"
      ]
     },
     "metadata": {
      "needs_background": "light"
     },
     "output_type": "display_data"
    },
    {
     "data": {
      "image/png": "[encoded data removed]",
      "text/plain": [
       "<matplotlib.figure.Figure at 0x7f856aa67160>"
      ]
     },
     "metadata": {
      "needs_background": "light"
     },
     "output_type": "display_data"
    },
    {
     "data": {
      "image/png": "[encoded data removed]",
      "text/plain": [
       "<matplotlib.figure.Figure at 0x7f854f1cc630>"
      ]
     },
     "metadata": {
      "needs_background": "light"
     },
     "output_type": "display_data"
    }
   ],
   "source": [
    "for i in range(10):\n",
    "    comparing_distribution(zero_miss[i])"
   ]
  },
  {
   "cell_type": "markdown",
   "metadata": {},
   "source": [
    "#### Discussion 1.1.3: Assess Missing Data in Each Row\n",
    "\n",
    "(Double-click this cell and replace this text with your own text, reporting your observations regarding missing data in rows. Are the data with lots of missing values are qualitatively different from data with few or no missing values?)\n",
    "\n",
    "The data above 20% of missing data(\"fisrt_subset\") was ignored by us. We retained the data below 20% of missing data(\"second_subset\"), that contains the majority of the data, with a shape with (797077, 79)\n",
    "\n",
    "From the graphs we can see clearly that the data with lots of missing values are qualitatively different overall from the data with few or no missing values.\n",
    "\n"
   ]
  },
  {
   "cell_type": "markdown",
   "metadata": {},
   "source": [
    "### Step 1.2: Select and Re-Encode Features\n",
    "\n",
    "Checking for missing data isn't the only way in which you can prepare a dataset for analysis. Since the unsupervised learning techniques to be used will only work on data that is encoded numerically, you need to make a few encoding changes or additional assumptions to be able to make progress. In addition, while almost all of the values in the dataset are encoded using numbers, not all of them represent numeric values. Check the third column of the feature summary (`feat_info`) for a summary of types of measurement.\n",
    "- For numeric and interval data, these features can be kept without changes.\n",
    "- Most of the variables in the dataset are ordinal in nature. While ordinal values may technically be non-linear in spacing, make the simplifying assumption that the ordinal variables can be treated as being interval in nature (that is, kept without any changes).\n",
    "- Special handling may be necessary for the remaining two variable types: categorical, and 'mixed'.\n",
    "\n",
    "In the first two parts of this sub-step, you will perform an investigation of the categorical and mixed-type features and make a decision on each of them, whether you will keep, drop, or re-encode each. Then, in the last part, you will create a new data frame with only the selected and engineered columns.\n",
    "\n",
    "Data wrangling is often the trickiest part of the data analysis process, and there's a lot of it to be done here. But stick with it: once you're done with this step, you'll be ready to get to the machine learning parts of the project!"
   ]
  },
  {
   "cell_type": "code",
   "execution_count": 1047,
   "metadata": {},
   "outputs": [
    {
     "name": "stdout",
     "output_type": "stream",
     "text": [
      "There are 49 ordinal features.\n",
      "There are 18 categorical features.\n",
      "There are 6 numeric features.\n",
      "There are 6 mixed features.\n"
     ]
    }
   ],
   "source": [
    "# How many features are there of each data type?\n",
    "features = list(second_subset.columns)\n",
    "feat_info_clean = feat_info[feat_info['attribute'].isin(features)]\n",
    "data_type_count = feat_info_clean['type'].value_counts()\n",
    "for i in range(len(data_type_count)):\n",
    "    print('There are {} {} features.'.format(data_type_count[i], data_type_count.index[i]))\n"
   ]
  },
  {
   "cell_type": "markdown",
   "metadata": {},
   "source": [
    "#### Step 1.2.1: Re-Encode Categorical Features\n",
    "\n",
    "For categorical data, you would ordinarily need to encode the levels as dummy variables. Depending on the number of categories, perform one of the following:\n",
    "- For binary (two-level) categoricals that take numeric values, you can keep them without needing to do anything.\n",
    "- There is one binary variable that takes on non-numeric values. For this one, you need to re-encode the values as numbers or create a dummy variable.\n",
    "- For multi-level categoricals (three or more values), you can choose to encode the values using multiple dummy variables (e.g. via [OneHotEncoder](http://scikit-learn.org/stable/modules/generated/sklearn.preprocessing.OneHotEncoder.html)), or (to keep things straightforward) just drop them from the analysis. As always, document your choices in the Discussion section."
   ]
  },
  {
   "cell_type": "code",
   "execution_count": 1048,
   "metadata": {},
   "outputs": [
    {
     "data": {
      "text/plain": [
       "'\\nfeat_info_new = feat_info.set_index(\"attribute\")\\nfeat_info_new\\n'"
      ]
     },
     "execution_count": 1048,
     "metadata": {},
     "output_type": "execute_result"
    }
   ],
   "source": [
    "# New feat_info dataframe\n",
    "'''\n",
    "feat_info_new = feat_info.set_index(\"attribute\")\n",
    "feat_info_new\n",
    "'''"
   ]
  },
  {
   "cell_type": "code",
   "execution_count": 1049,
   "metadata": {},
   "outputs": [
    {
     "data": {
      "text/plain": [
       "'[\\'ALTER_HH\\',\\n \\'GEBURTSJAHR\\',\\n \\'KBA05_BAUMAX\\',\\n \\'KK_KUNDENTYP\\',\\n \\'AGER_TYP\\',\\n \\'TITEL_KZ\\']\\n\\nfeat_info_new = feat_info_new.drop(\"ALTER_HH\", axis=0)\\nfeat_info_new = feat_info_new.drop(\"GEBURTSJAHR\", axis=0)\\nfeat_info_new = feat_info_new.drop(\"KBA05_BAUMAX\", axis=0)\\nfeat_info_new = feat_info_new.drop(\"KK_KUNDENTYP\", axis=0)\\nfeat_info_new = feat_info_new.drop(\"AGER_TYP\", axis=0)\\nfeat_info_new = feat_info_new.drop(\"TITEL_KZ\", axis=0)\\nprint(\"done\")\\n'"
      ]
     },
     "execution_count": 1049,
     "metadata": {},
     "output_type": "execute_result"
    }
   ],
   "source": [
    "# Delete the outliers features from feat_info:\n",
    "'''['ALTER_HH',\n",
    " 'GEBURTSJAHR',\n",
    " 'KBA05_BAUMAX',\n",
    " 'KK_KUNDENTYP',\n",
    " 'AGER_TYP',\n",
    " 'TITEL_KZ']\n",
    "\n",
    "feat_info_new = feat_info_new.drop(\"ALTER_HH\", axis=0)\n",
    "feat_info_new = feat_info_new.drop(\"GEBURTSJAHR\", axis=0)\n",
    "feat_info_new = feat_info_new.drop(\"KBA05_BAUMAX\", axis=0)\n",
    "feat_info_new = feat_info_new.drop(\"KK_KUNDENTYP\", axis=0)\n",
    "feat_info_new = feat_info_new.drop(\"AGER_TYP\", axis=0)\n",
    "feat_info_new = feat_info_new.drop(\"TITEL_KZ\", axis=0)\n",
    "print(\"done\")\n",
    "'''"
   ]
  },
  {
   "cell_type": "code",
   "execution_count": 1050,
   "metadata": {},
   "outputs": [
    {
     "data": {
      "text/plain": [
       "'\\nfeat_info_neww = feat_info_new.reset_index()\\nfeat_info_neww[\"attribute\"]\\n'"
      ]
     },
     "execution_count": 1050,
     "metadata": {},
     "output_type": "execute_result"
    }
   ],
   "source": [
    "'''\n",
    "feat_info_neww = feat_info_new.reset_index()\n",
    "feat_info_neww[\"attribute\"]\n",
    "'''"
   ]
  },
  {
   "cell_type": "code",
   "execution_count": 1051,
   "metadata": {},
   "outputs": [
    {
     "data": {
      "text/html": [
       "<div>\n",
       "<style scoped>\n",
       "    .dataframe tbody tr th:only-of-type {\n",
       "        vertical-align: middle;\n",
       "    }\n",
       "\n",
       "    .dataframe tbody tr th {\n",
       "        vertical-align: top;\n",
       "    }\n",
       "\n",
       "    .dataframe thead th {\n",
       "        text-align: right;\n",
       "    }\n",
       "</style>\n",
       "<table border=\"1\" class=\"dataframe\">\n",
       "  <thead>\n",
       "    <tr style=\"text-align: right;\">\n",
       "      <th></th>\n",
       "      <th>attribute</th>\n",
       "      <th>information_level</th>\n",
       "      <th>type</th>\n",
       "      <th>missing_or_unknown</th>\n",
       "    </tr>\n",
       "  </thead>\n",
       "  <tbody>\n",
       "    <tr>\n",
       "      <th>2</th>\n",
       "      <td>ANREDE_KZ</td>\n",
       "      <td>person</td>\n",
       "      <td>categorical</td>\n",
       "      <td>[-1,0]</td>\n",
       "    </tr>\n",
       "    <tr>\n",
       "      <th>3</th>\n",
       "      <td>CJT_GESAMTTYP</td>\n",
       "      <td>person</td>\n",
       "      <td>categorical</td>\n",
       "      <td>[0]</td>\n",
       "    </tr>\n",
       "    <tr>\n",
       "      <th>10</th>\n",
       "      <td>FINANZTYP</td>\n",
       "      <td>person</td>\n",
       "      <td>categorical</td>\n",
       "      <td>[-1]</td>\n",
       "    </tr>\n",
       "    <tr>\n",
       "      <th>12</th>\n",
       "      <td>GFK_URLAUBERTYP</td>\n",
       "      <td>person</td>\n",
       "      <td>categorical</td>\n",
       "      <td>[]</td>\n",
       "    </tr>\n",
       "    <tr>\n",
       "      <th>13</th>\n",
       "      <td>GREEN_AVANTGARDE</td>\n",
       "      <td>person</td>\n",
       "      <td>categorical</td>\n",
       "      <td>[]</td>\n",
       "    </tr>\n",
       "    <tr>\n",
       "      <th>17</th>\n",
       "      <td>LP_FAMILIE_FEIN</td>\n",
       "      <td>person</td>\n",
       "      <td>categorical</td>\n",
       "      <td>[0]</td>\n",
       "    </tr>\n",
       "    <tr>\n",
       "      <th>18</th>\n",
       "      <td>LP_FAMILIE_GROB</td>\n",
       "      <td>person</td>\n",
       "      <td>categorical</td>\n",
       "      <td>[0]</td>\n",
       "    </tr>\n",
       "    <tr>\n",
       "      <th>19</th>\n",
       "      <td>LP_STATUS_FEIN</td>\n",
       "      <td>person</td>\n",
       "      <td>categorical</td>\n",
       "      <td>[0]</td>\n",
       "    </tr>\n",
       "    <tr>\n",
       "      <th>20</th>\n",
       "      <td>LP_STATUS_GROB</td>\n",
       "      <td>person</td>\n",
       "      <td>categorical</td>\n",
       "      <td>[0]</td>\n",
       "    </tr>\n",
       "    <tr>\n",
       "      <th>21</th>\n",
       "      <td>NATIONALITAET_KZ</td>\n",
       "      <td>person</td>\n",
       "      <td>categorical</td>\n",
       "      <td>[-1,0]</td>\n",
       "    </tr>\n",
       "    <tr>\n",
       "      <th>38</th>\n",
       "      <td>SHOPPER_TYP</td>\n",
       "      <td>person</td>\n",
       "      <td>categorical</td>\n",
       "      <td>[-1]</td>\n",
       "    </tr>\n",
       "    <tr>\n",
       "      <th>39</th>\n",
       "      <td>SOHO_KZ</td>\n",
       "      <td>person</td>\n",
       "      <td>categorical</td>\n",
       "      <td>[-1]</td>\n",
       "    </tr>\n",
       "    <tr>\n",
       "      <th>41</th>\n",
       "      <td>VERS_TYP</td>\n",
       "      <td>person</td>\n",
       "      <td>categorical</td>\n",
       "      <td>[-1]</td>\n",
       "    </tr>\n",
       "    <tr>\n",
       "      <th>42</th>\n",
       "      <td>ZABEOTYP</td>\n",
       "      <td>person</td>\n",
       "      <td>categorical</td>\n",
       "      <td>[-1,9]</td>\n",
       "    </tr>\n",
       "    <tr>\n",
       "      <th>52</th>\n",
       "      <td>GEBAEUDETYP</td>\n",
       "      <td>building</td>\n",
       "      <td>categorical</td>\n",
       "      <td>[-1,0]</td>\n",
       "    </tr>\n",
       "    <tr>\n",
       "      <th>55</th>\n",
       "      <td>OST_WEST_KZ</td>\n",
       "      <td>building</td>\n",
       "      <td>categorical</td>\n",
       "      <td>[-1]</td>\n",
       "    </tr>\n",
       "    <tr>\n",
       "      <th>57</th>\n",
       "      <td>CAMEO_DEUG_2015</td>\n",
       "      <td>microcell_rr4</td>\n",
       "      <td>categorical</td>\n",
       "      <td>[-1,X]</td>\n",
       "    </tr>\n",
       "    <tr>\n",
       "      <th>58</th>\n",
       "      <td>CAMEO_DEU_2015</td>\n",
       "      <td>microcell_rr4</td>\n",
       "      <td>categorical</td>\n",
       "      <td>[XX]</td>\n",
       "    </tr>\n",
       "  </tbody>\n",
       "</table>\n",
       "</div>"
      ],
      "text/plain": [
       "           attribute information_level         type missing_or_unknown\n",
       "2          ANREDE_KZ            person  categorical             [-1,0]\n",
       "3      CJT_GESAMTTYP            person  categorical                [0]\n",
       "10         FINANZTYP            person  categorical               [-1]\n",
       "12   GFK_URLAUBERTYP            person  categorical                 []\n",
       "13  GREEN_AVANTGARDE            person  categorical                 []\n",
       "17   LP_FAMILIE_FEIN            person  categorical                [0]\n",
       "18   LP_FAMILIE_GROB            person  categorical                [0]\n",
       "19    LP_STATUS_FEIN            person  categorical                [0]\n",
       "20    LP_STATUS_GROB            person  categorical                [0]\n",
       "21  NATIONALITAET_KZ            person  categorical             [-1,0]\n",
       "38       SHOPPER_TYP            person  categorical               [-1]\n",
       "39           SOHO_KZ            person  categorical               [-1]\n",
       "41          VERS_TYP            person  categorical               [-1]\n",
       "42          ZABEOTYP            person  categorical             [-1,9]\n",
       "52       GEBAEUDETYP          building  categorical             [-1,0]\n",
       "55       OST_WEST_KZ          building  categorical               [-1]\n",
       "57   CAMEO_DEUG_2015     microcell_rr4  categorical             [-1,X]\n",
       "58    CAMEO_DEU_2015     microcell_rr4  categorical               [XX]"
      ]
     },
     "execution_count": 1051,
     "metadata": {},
     "output_type": "execute_result"
    }
   ],
   "source": [
    "# Assess categorical variables: which are binary, which are multi-level, and\n",
    "# which one needs to be re-encoded?\n",
    "\n",
    "\n",
    "\n",
    "\n",
    "categorical_features = feat_info_clean[feat_info_clean.type=='categorical']\n",
    "\n",
    "#categorical_features = feat_info_new[feat_info_new[\"type\"]==\"categorical\"][\"attribute\"]\n",
    "categorical_features"
   ]
  },
  {
   "cell_type": "code",
   "execution_count": 1052,
   "metadata": {},
   "outputs": [],
   "source": [
    "def isNanExist(unique_vals):\n",
    "    for val in unique_vals:\n",
    "        #print(\"val:::: \", val)\n",
    "        if not isinstance(val, str) and np.isnan(val):\n",
    "            return 1\n",
    "    return 0"
   ]
  },
  {
   "cell_type": "code",
   "execution_count": 1053,
   "metadata": {},
   "outputs": [
    {
     "name": "stdout",
     "output_type": "stream",
     "text": [
      "uni:  [  2.   1.  nan]\n",
      "nan_num::::  1\n",
      "1\n",
      "ok\n"
     ]
    }
   ],
   "source": [
    "multi_level = []\n",
    "binary = []\n",
    "for column in categorical_features[\"attribute\"]:\n",
    "    #nan_num = isNanExist(second_subset[column].unique())\n",
    "    #if second_subset[column].nunique() - nan_num > 2:\n",
    "    if second_subset[column].nunique() > 2:\n",
    "        multi_level.append(column)\n",
    "    else:\n",
    "        binary.append(column)\n",
    "\n",
    "nan_num = isNanExist(second_subset[\"VERS_TYP\"].unique())\n",
    "print(\"uni: \", second_subset[\"VERS_TYP\"].unique())\n",
    "print(\"nan_num:::: \", nan_num)\n",
    "print(second_subset[\"VERS_TYP\"].nunique() - nan_num)\n",
    "print(\"ok\")"
   ]
  },
  {
   "cell_type": "code",
   "execution_count": 1054,
   "metadata": {},
   "outputs": [
    {
     "data": {
      "text/plain": [
       "(797077, 79)"
      ]
     },
     "execution_count": 1054,
     "metadata": {},
     "output_type": "execute_result"
    }
   ],
   "source": [
    "second_subset.shape"
   ]
  },
  {
   "cell_type": "code",
   "execution_count": 1055,
   "metadata": {},
   "outputs": [
    {
     "name": "stdout",
     "output_type": "stream",
     "text": [
      "Binary features are: ['ANREDE_KZ', 'GREEN_AVANTGARDE', 'SOHO_KZ', 'VERS_TYP', 'OST_WEST_KZ']\n",
      "Multi-level features are: ['CJT_GESAMTTYP', 'FINANZTYP', 'GFK_URLAUBERTYP', 'LP_FAMILIE_FEIN', 'LP_FAMILIE_GROB', 'LP_STATUS_FEIN', 'LP_STATUS_GROB', 'NATIONALITAET_KZ', 'SHOPPER_TYP', 'ZABEOTYP', 'GEBAEUDETYP', 'CAMEO_DEUG_2015', 'CAMEO_DEU_2015']\n"
     ]
    }
   ],
   "source": [
    "print('Binary features are: {}'.format(binary))\n",
    "print('Multi-level features are: {}'.format(multi_level))"
   ]
  },
  {
   "cell_type": "code",
   "execution_count": 1056,
   "metadata": {},
   "outputs": [
    {
     "name": "stdout",
     "output_type": "stream",
     "text": [
      "[  2.   1.  nan]\n",
      "<class 'numpy.ndarray'>\n",
      "remove it\n"
     ]
    }
   ],
   "source": [
    "print(second_subset[\"VERS_TYP\"].unique())\n",
    "print(type(second_subset[\"VERS_TYP\"].unique()))\n",
    "vals = second_subset[\"VERS_TYP\"].unique()\n",
    "for val in vals:\n",
    "    if np.isnan(val):\n",
    "        print(\"remove it\")"
   ]
  },
  {
   "cell_type": "code",
   "execution_count": 1057,
   "metadata": {},
   "outputs": [
    {
     "data": {
      "text/plain": [
       "5"
      ]
     },
     "execution_count": 1057,
     "metadata": {},
     "output_type": "execute_result"
    }
   ],
   "source": [
    "len(binary)"
   ]
  },
  {
   "cell_type": "code",
   "execution_count": 1058,
   "metadata": {},
   "outputs": [
    {
     "data": {
      "text/plain": [
       "13"
      ]
     },
     "execution_count": 1058,
     "metadata": {},
     "output_type": "execute_result"
    }
   ],
   "source": [
    "len(multi_level)"
   ]
  },
  {
   "cell_type": "code",
   "execution_count": 1059,
   "metadata": {},
   "outputs": [
    {
     "name": "stdout",
     "output_type": "stream",
     "text": [
      "2    415578\n",
      "1    381499\n",
      "Name: ANREDE_KZ, dtype: int64\n",
      "0    621942\n",
      "1    175135\n",
      "Name: GREEN_AVANTGARDE, dtype: int64\n",
      "0.0    790370\n",
      "1.0      6707\n",
      "Name: SOHO_KZ, dtype: int64\n",
      "2.0    394116\n",
      "1.0    366623\n",
      "Name: VERS_TYP, dtype: int64\n",
      "W    628695\n",
      "O    168382\n",
      "Name: OST_WEST_KZ, dtype: int64\n"
     ]
    }
   ],
   "source": [
    "for col in binary:\n",
    "    print(second_subset[col].value_counts())"
   ]
  },
  {
   "cell_type": "code",
   "execution_count": 1060,
   "metadata": {},
   "outputs": [
    {
     "name": "stdout",
     "output_type": "stream",
     "text": [
      "4.0    198089\n",
      "3.0    147068\n",
      "2.0    141166\n",
      "5.0    111032\n",
      "6.0    101898\n",
      "1.0     93192\n",
      "Name: CJT_GESAMTTYP, dtype: int64\n",
      "6    289004\n",
      "1    196805\n",
      "5    106220\n",
      "2    104577\n",
      "4     55874\n",
      "3     44597\n",
      "Name: FINANZTYP, dtype: int64\n",
      "12.0    129983\n",
      "10.0    102748\n",
      "8.0      82992\n",
      "11.0     75051\n",
      "5.0      70468\n",
      "4.0      60413\n",
      "9.0      57046\n",
      "3.0      53094\n",
      "1.0      50640\n",
      "2.0      43647\n",
      "7.0      40642\n",
      "6.0      25721\n",
      "Name: GFK_URLAUBERTYP, dtype: int64\n",
      "1.0     402248\n",
      "10.0    128902\n",
      "2.0      98491\n",
      "11.0     48727\n",
      "8.0      21777\n",
      "7.0      19568\n",
      "4.0      11573\n",
      "5.0      11164\n",
      "9.0      10451\n",
      "6.0       8512\n",
      "3.0       4682\n",
      "Name: LP_FAMILIE_FEIN, dtype: int64\n",
      "1.0    402248\n",
      "5.0    188080\n",
      "2.0     98491\n",
      "4.0     49857\n",
      "3.0     27419\n",
      "Name: LP_FAMILIE_GROB, dtype: int64\n",
      "1.0     206766\n",
      "9.0     136229\n",
      "10.0    111538\n",
      "2.0     111016\n",
      "4.0      73938\n",
      "3.0      68893\n",
      "6.0      28870\n",
      "5.0      27472\n",
      "8.0      18525\n",
      "7.0       9198\n",
      "Name: LP_STATUS_FEIN, dtype: int64\n",
      "1.0    317782\n",
      "2.0    170303\n",
      "4.0    154754\n",
      "5.0    111538\n",
      "3.0     38068\n",
      "Name: LP_STATUS_GROB, dtype: int64\n",
      "1.0    667356\n",
      "2.0     63619\n",
      "3.0     32537\n",
      "Name: NATIONALITAET_KZ, dtype: int64\n",
      "1.0    247152\n",
      "2.0    205874\n",
      "3.0    180604\n",
      "0.0    127109\n",
      "Name: SHOPPER_TYP, dtype: int64\n",
      "3    281772\n",
      "4    207383\n",
      "1    123270\n",
      "5     80892\n",
      "6     70817\n",
      "2     32943\n",
      "Name: ZABEOTYP, dtype: int64\n",
      "1.0    459844\n",
      "3.0    178507\n",
      "8.0    152439\n",
      "2.0      4789\n",
      "4.0       885\n",
      "6.0       612\n",
      "5.0         1\n",
      "Name: GEBAEUDETYP, dtype: int64\n",
      "8    134394\n",
      "9    108138\n",
      "6    105819\n",
      "4    103814\n",
      "3     86612\n",
      "2     83149\n",
      "7     77888\n",
      "5     55216\n",
      "1     36180\n",
      "Name: CAMEO_DEUG_2015, dtype: int64\n",
      "6B    56642\n",
      "8A    52427\n",
      "4C    47765\n",
      "2D    35047\n",
      "3C    34740\n",
      "7A    34384\n",
      "3D    34275\n",
      "8B    33424\n",
      "4A    33128\n",
      "8C    30978\n",
      "9D    28591\n",
      "9B    27661\n",
      "9C    24986\n",
      "7B    24489\n",
      "9A    20537\n",
      "2C    19408\n",
      "8D    17565\n",
      "6E    16104\n",
      "2B    15468\n",
      "5D    14934\n",
      "6C    14815\n",
      "2A    13226\n",
      "5A    12153\n",
      "1D    11908\n",
      "1A    10837\n",
      "3A    10454\n",
      "5B    10345\n",
      "5C     9926\n",
      "7C     9059\n",
      "4B     9038\n",
      "4D     8565\n",
      "3B     7143\n",
      "6A     6799\n",
      "9E     6363\n",
      "6D     6068\n",
      "6F     5391\n",
      "7D     5329\n",
      "4E     5318\n",
      "1E     5057\n",
      "7E     4627\n",
      "1C     4310\n",
      "5F     4281\n",
      "1B     4068\n",
      "5E     3577\n",
      "Name: CAMEO_DEU_2015, dtype: int64\n"
     ]
    }
   ],
   "source": [
    "for col in multi_level:\n",
    "    print(second_subset[col].value_counts())"
   ]
  },
  {
   "cell_type": "code",
   "execution_count": 1061,
   "metadata": {},
   "outputs": [
    {
     "name": "stdout",
     "output_type": "stream",
     "text": [
      "Binary features are: ['ANREDE_KZ', 'GREEN_AVANTGARDE', 'SOHO_KZ', 'VERS_TYP', 'OST_WEST_KZ']\n",
      "Multi-level features are: ['CJT_GESAMTTYP', 'FINANZTYP', 'GFK_URLAUBERTYP', 'LP_FAMILIE_FEIN', 'LP_FAMILIE_GROB', 'LP_STATUS_FEIN', 'LP_STATUS_GROB', 'NATIONALITAET_KZ', 'SHOPPER_TYP', 'ZABEOTYP', 'GEBAEUDETYP', 'CAMEO_DEUG_2015', 'CAMEO_DEU_2015']\n"
     ]
    }
   ],
   "source": [
    "print('Binary features are: {}'.format(binary))\n",
    "print('Multi-level features are: {}'.format(multi_level))"
   ]
  },
  {
   "cell_type": "code",
   "execution_count": 1062,
   "metadata": {},
   "outputs": [
    {
     "name": "stdout",
     "output_type": "stream",
     "text": [
      "Unique values for ANREDE_KZ are [1 2]\n",
      "Unique values for GREEN_AVANTGARDE are [0 1]\n",
      "Unique values for SOHO_KZ are [ nan   1.   0.]\n",
      "Unique values for VERS_TYP are [ nan   2.   1.]\n",
      "Unique values for OST_WEST_KZ are [nan 'W' 'O']\n"
     ]
    }
   ],
   "source": [
    "for feature in binary:\n",
    "    print('Unique values for {} are {}'.format(feature, azdias[feature].unique()))"
   ]
  },
  {
   "cell_type": "code",
   "execution_count": 1063,
   "metadata": {},
   "outputs": [
    {
     "name": "stdout",
     "output_type": "stream",
     "text": [
      "Unique values for CJT_GESAMTTYP are [  2.   5.   3.   4.   1.   6.  nan]\n",
      "Unique values for FINANZTYP are [4 1 6 5 2 3]\n",
      "Unique values for GFK_URLAUBERTYP are [ 10.   1.   5.  12.   9.   3.   8.  11.   4.   2.   7.   6.  nan]\n",
      "Unique values for LP_FAMILIE_FEIN are [  2.   5.   1.  nan  10.   7.  11.   3.   8.   4.   6.   9.]\n",
      "Unique values for LP_FAMILIE_GROB are [  2.   3.   1.  nan   5.   4.]\n",
      "Unique values for LP_STATUS_FEIN are [  1.   2.   3.   9.   4.  10.   5.   8.   6.   7.  nan]\n",
      "Unique values for LP_STATUS_GROB are [  1.   2.   4.   5.   3.  nan]\n",
      "Unique values for NATIONALITAET_KZ are [ nan   1.   3.   2.]\n",
      "Unique values for SHOPPER_TYP are [ nan   3.   2.   1.   0.]\n",
      "Unique values for ZABEOTYP are [3 5 4 1 6 2]\n",
      "Unique values for GEBAEUDETYP are [ nan   8.   1.   3.   2.   6.   4.   5.]\n",
      "Unique values for CAMEO_DEUG_2015 are [nan '8' '4' '2' '6' '1' '9' '5' '7' '3']\n",
      "Unique values for CAMEO_DEU_2015 are [nan '8A' '4C' '2A' '6B' '8C' '4A' '2D' '1A' '1E' '9D' '5C' '8B' '7A' '5D'\n",
      " '9E' '9B' '1B' '3D' '4E' '4B' '3C' '5A' '7B' '9A' '6D' '6E' '2C' '7C' '9C'\n",
      " '7D' '5E' '1D' '8D' '6C' '6A' '5B' '4D' '3A' '2B' '7E' '3B' '6F' '5F' '1C']\n"
     ]
    }
   ],
   "source": [
    "for feature in multi_level:\n",
    "    print('Unique values for {} are {}'.format(feature, azdias[feature].unique()))"
   ]
  },
  {
   "cell_type": "code",
   "execution_count": 1064,
   "metadata": {},
   "outputs": [
    {
     "data": {
      "text/plain": [
       "13"
      ]
     },
     "execution_count": 1064,
     "metadata": {},
     "output_type": "execute_result"
    }
   ],
   "source": [
    "len(multi_level)"
   ]
  },
  {
   "cell_type": "code",
   "execution_count": 1065,
   "metadata": {},
   "outputs": [
    {
     "data": {
      "text/plain": [
       "14"
      ]
     },
     "execution_count": 1065,
     "metadata": {},
     "output_type": "execute_result"
    }
   ],
   "source": [
    "multi_level.append('OST_WEST_KZ')\n",
    "len(multi_level)"
   ]
  },
  {
   "cell_type": "code",
   "execution_count": 1066,
   "metadata": {},
   "outputs": [
    {
     "data": {
      "text/plain": [
       "array(['W', 'O'], dtype=object)"
      ]
     },
     "execution_count": 1066,
     "metadata": {},
     "output_type": "execute_result"
    }
   ],
   "source": [
    "second_subset[\"OST_WEST_KZ\"].unique()"
   ]
  },
  {
   "cell_type": "code",
   "execution_count": 1067,
   "metadata": {},
   "outputs": [],
   "source": [
    "# Re-encode categorical variable(s) to be kept in the analysis.\n",
    "\n",
    "second_subset = pd.get_dummies(second_subset, columns=multi_level)\n"
   ]
  },
  {
   "cell_type": "markdown",
   "metadata": {},
   "source": [
    "#### Discussion 1.2.1: Re-Encode Categorical Features\n",
    "\n",
    "(Double-click this cell and replace this text with your own text, reporting your findings and decisions regarding categorical features. Which ones did you keep, which did you drop, and what engineering steps did you perform?)\n",
    "\n",
    "After getting the categorical features and getting the binary and multi level features, we have just add the\"OST_WEST_KZ\" to the multi_level. Then we have directly hot encoded the multi_level features. \n",
    "So, overall we have hot encoded all the categorical features and have not deleted any features.\n",
    "\n"
   ]
  },
  {
   "cell_type": "markdown",
   "metadata": {},
   "source": [
    "#### Step 1.2.2: Engineer Mixed-Type Features\n",
    "\n",
    "There are a handful of features that are marked as \"mixed\" in the feature summary that require special treatment in order to be included in the analysis. There are two in particular that deserve attention; the handling of the rest are up to your own choices:\n",
    "- \"PRAEGENDE_JUGENDJAHRE\" combines information on three dimensions: generation by decade, movement (mainstream vs. avantgarde), and nation (east vs. west). While there aren't enough levels to disentangle east from west, you should create two new variables to capture the other two dimensions: an interval-type variable for decade, and a binary variable for movement.\n",
    "- \"CAMEO_INTL_2015\" combines information on two axes: wealth and life stage. Break up the two-digit codes by their 'tens'-place and 'ones'-place digits into two new ordinal variables (which, for the purposes of this project, is equivalent to just treating them as their raw numeric values).\n",
    "- If you decide to keep or engineer new features around the other mixed-type features, make sure you note your steps in the Discussion section.\n",
    "\n",
    "Be sure to check `Data_Dictionary.md` for the details needed to finish these tasks."
   ]
  },
  {
   "cell_type": "code",
   "execution_count": 1070,
   "metadata": {},
   "outputs": [
    {
     "data": {
      "text/html": [
       "<div>\n",
       "<style scoped>\n",
       "    .dataframe tbody tr th:only-of-type {\n",
       "        vertical-align: middle;\n",
       "    }\n",
       "\n",
       "    .dataframe tbody tr th {\n",
       "        vertical-align: top;\n",
       "    }\n",
       "\n",
       "    .dataframe thead th {\n",
       "        text-align: right;\n",
       "    }\n",
       "</style>\n",
       "<table border=\"1\" class=\"dataframe\">\n",
       "  <thead>\n",
       "    <tr style=\"text-align: right;\">\n",
       "      <th></th>\n",
       "      <th>attribute</th>\n",
       "      <th>information_level</th>\n",
       "      <th>type</th>\n",
       "      <th>missing_or_unknown</th>\n",
       "    </tr>\n",
       "  </thead>\n",
       "  <tbody>\n",
       "    <tr>\n",
       "      <th>15</th>\n",
       "      <td>LP_LEBENSPHASE_FEIN</td>\n",
       "      <td>person</td>\n",
       "      <td>mixed</td>\n",
       "      <td>[0]</td>\n",
       "    </tr>\n",
       "    <tr>\n",
       "      <th>16</th>\n",
       "      <td>LP_LEBENSPHASE_GROB</td>\n",
       "      <td>person</td>\n",
       "      <td>mixed</td>\n",
       "      <td>[0]</td>\n",
       "    </tr>\n",
       "    <tr>\n",
       "      <th>22</th>\n",
       "      <td>PRAEGENDE_JUGENDJAHRE</td>\n",
       "      <td>person</td>\n",
       "      <td>mixed</td>\n",
       "      <td>[-1,0]</td>\n",
       "    </tr>\n",
       "    <tr>\n",
       "      <th>56</th>\n",
       "      <td>WOHNLAGE</td>\n",
       "      <td>building</td>\n",
       "      <td>mixed</td>\n",
       "      <td>[-1]</td>\n",
       "    </tr>\n",
       "    <tr>\n",
       "      <th>59</th>\n",
       "      <td>CAMEO_INTL_2015</td>\n",
       "      <td>microcell_rr4</td>\n",
       "      <td>mixed</td>\n",
       "      <td>[-1,XX]</td>\n",
       "    </tr>\n",
       "    <tr>\n",
       "      <th>64</th>\n",
       "      <td>KBA05_BAUMAX</td>\n",
       "      <td>microcell_rr3</td>\n",
       "      <td>mixed</td>\n",
       "      <td>[-1,0]</td>\n",
       "    </tr>\n",
       "    <tr>\n",
       "      <th>79</th>\n",
       "      <td>PLZ8_BAUMAX</td>\n",
       "      <td>macrocell_plz8</td>\n",
       "      <td>mixed</td>\n",
       "      <td>[-1,0]</td>\n",
       "    </tr>\n",
       "  </tbody>\n",
       "</table>\n",
       "</div>"
      ],
      "text/plain": [
       "                attribute information_level   type missing_or_unknown\n",
       "15    LP_LEBENSPHASE_FEIN            person  mixed                [0]\n",
       "16    LP_LEBENSPHASE_GROB            person  mixed                [0]\n",
       "22  PRAEGENDE_JUGENDJAHRE            person  mixed             [-1,0]\n",
       "56               WOHNLAGE          building  mixed               [-1]\n",
       "59        CAMEO_INTL_2015     microcell_rr4  mixed            [-1,XX]\n",
       "64           KBA05_BAUMAX     microcell_rr3  mixed             [-1,0]\n",
       "79            PLZ8_BAUMAX    macrocell_plz8  mixed             [-1,0]"
      ]
     },
     "execution_count": 1070,
     "metadata": {},
     "output_type": "execute_result"
    }
   ],
   "source": [
    "# Investigate \"PRAEGENDE_JUGENDJAHRE\" and engineer two new variables.\n",
    "mixed_varibale = feat_info[feat_info.type=='mixed']\n",
    "mixed_varibale[\"attribute\"]\n",
    "mixed_varibale"
   ]
  },
  {
   "cell_type": "code",
   "execution_count": 1071,
   "metadata": {},
   "outputs": [],
   "source": [
    "def decadedim(x):\n",
    "    if x in (1,2,3):\n",
    "        return 1\n",
    "    if x in (4,5,6):\n",
    "        return 2\n",
    "    if x in (7,8,9):\n",
    "        return 3\n",
    "    if x in (10,11,12):\n",
    "        return 4\n",
    "    if x in (13,14,15):\n",
    "        return 5\n",
    "    \n",
    "    \n",
    "def movementdim(x):\n",
    "    if x in (2,4,6,7,9,11,13,15):\n",
    "        return 0\n",
    "    if x in (1,3,5,8,10,12,14):\n",
    "        return 1"
   ]
  },
  {
   "cell_type": "code",
   "execution_count": 1072,
   "metadata": {},
   "outputs": [
    {
     "name": "stdout",
     "output_type": "stream",
     "text": [
      "done\n"
     ]
    }
   ],
   "source": [
    "#Crating two variable from PRAEGENDE_JUGENDJAHRE\n",
    "\n",
    "second_subset['PRAEGENDE_JUGENDJAHRE_DECADE'] = second_subset['PRAEGENDE_JUGENDJAHRE'].apply(decadedim)\n",
    "second_subset['PRAEGENDE_JUGENDJAHRE_MOVEMENT'] = second_subset['PRAEGENDE_JUGENDJAHRE'].apply(movementdim)\n",
    "#Drop the \"PRAEGENDE_JUGENDJAHRE\" variable from second_subset\n",
    "second_subset.drop('PRAEGENDE_JUGENDJAHRE', axis=1, inplace=True)\n",
    "\n",
    "print(\"done\")\n"
   ]
  },
  {
   "cell_type": "code",
   "execution_count": 1073,
   "metadata": {},
   "outputs": [
    {
     "data": {
      "text/plain": [
       "(797077, 196)"
      ]
     },
     "execution_count": 1073,
     "metadata": {},
     "output_type": "execute_result"
    }
   ],
   "source": [
    "second_subset.shape"
   ]
  },
  {
   "cell_type": "code",
   "execution_count": 1074,
   "metadata": {},
   "outputs": [
    {
     "data": {
      "text/plain": [
       "array(['51', '24', '12', '43', '54', '22', '14', '13', '15', '33', '41',\n",
       "       '34', '55', nan, '25', '23', '31', '52', '35', '45', '44', '32'], dtype=object)"
      ]
     },
     "execution_count": 1074,
     "metadata": {},
     "output_type": "execute_result"
    }
   ],
   "source": [
    "second_subset['CAMEO_INTL_2015'].unique()"
   ]
  },
  {
   "cell_type": "code",
   "execution_count": 1075,
   "metadata": {},
   "outputs": [],
   "source": [
    "# Investigate \"CAMEO_INTL_2015\" and engineer two new variables.\n",
    "\n",
    "wealth_dim = {'11':1, '12':1, '13':1, '14':1, '15':1, '21':2, '22':2, '23':2, '24':2, '25':2,\n",
    "               '31':3, '32':3, '33':3, '34':3, '35':3, '41':4, '42':4, '43':4, '44':4, '45':4,\n",
    "               '51':5, '52':5, '53':5, '54':5, '55':5}\n",
    "\n",
    "life_stage_dim = {'11':1, '12':2, '13':3, '14':4, '15':5, '21':1, '22':2, '23':3, '24':4, '25':5,\n",
    "                   '31':1, '32':2, '33':3, '34':4, '35':5, '41':1, '42':2, '43':3, '44':4, '45':5,\n",
    "                   '51':1, '52':2, '53':3, '54':4, '55':5}\n",
    "\n"
   ]
  },
  {
   "cell_type": "code",
   "execution_count": 1076,
   "metadata": {},
   "outputs": [],
   "source": [
    "second_subset['WEALTH'] = second_subset['CAMEO_INTL_2015']\n",
    "second_subset['LIFE_STAGE'] = second_subset['CAMEO_INTL_2015']"
   ]
  },
  {
   "cell_type": "code",
   "execution_count": 1077,
   "metadata": {},
   "outputs": [
    {
     "data": {
      "text/plain": [
       "(797077, 198)"
      ]
     },
     "execution_count": 1077,
     "metadata": {},
     "output_type": "execute_result"
    }
   ],
   "source": [
    "second_subset.shape"
   ]
  },
  {
   "cell_type": "code",
   "execution_count": 1078,
   "metadata": {},
   "outputs": [],
   "source": [
    "second_subset['WEALTH'].replace(wealth_dim, inplace=True)\n",
    "second_subset['LIFE_STAGE'].replace(life_stage_dim, inplace=True)"
   ]
  },
  {
   "cell_type": "code",
   "execution_count": 1079,
   "metadata": {},
   "outputs": [],
   "source": [
    "\n",
    "second_subset.drop('CAMEO_INTL_2015', axis=1, inplace=True)\n"
   ]
  },
  {
   "cell_type": "code",
   "execution_count": 1080,
   "metadata": {},
   "outputs": [
    {
     "data": {
      "text/plain": [
       "1         5.0\n",
       "2         2.0\n",
       "3         1.0\n",
       "4         4.0\n",
       "5         5.0\n",
       "6         2.0\n",
       "7         1.0\n",
       "8         1.0\n",
       "9         1.0\n",
       "10        5.0\n",
       "12        4.0\n",
       "13        3.0\n",
       "15        4.0\n",
       "16        4.0\n",
       "18        2.0\n",
       "19        3.0\n",
       "20        2.0\n",
       "21        5.0\n",
       "22        5.0\n",
       "23        4.0\n",
       "25        3.0\n",
       "26        NaN\n",
       "27        5.0\n",
       "28        1.0\n",
       "29        1.0\n",
       "31        5.0\n",
       "32        1.0\n",
       "33        4.0\n",
       "34        2.0\n",
       "36        4.0\n",
       "         ... \n",
       "891191    4.0\n",
       "891192    3.0\n",
       "891193    4.0\n",
       "891194    2.0\n",
       "891195    5.0\n",
       "891196    2.0\n",
       "891197    2.0\n",
       "891198    1.0\n",
       "891199    5.0\n",
       "891200    5.0\n",
       "891201    4.0\n",
       "891202    4.0\n",
       "891203    2.0\n",
       "891204    2.0\n",
       "891205    3.0\n",
       "891206    2.0\n",
       "891207    4.0\n",
       "891208    1.0\n",
       "891209    5.0\n",
       "891210    4.0\n",
       "891211    5.0\n",
       "891212    5.0\n",
       "891213    3.0\n",
       "891214    2.0\n",
       "891215    3.0\n",
       "891216    4.0\n",
       "891217    5.0\n",
       "891218    2.0\n",
       "891219    5.0\n",
       "891220    4.0\n",
       "Name: WEALTH, Length: 797077, dtype: float64"
      ]
     },
     "execution_count": 1080,
     "metadata": {},
     "output_type": "execute_result"
    }
   ],
   "source": [
    "second_subset['WEALTH']"
   ]
  },
  {
   "cell_type": "markdown",
   "metadata": {},
   "source": [
    "#### Discussion 1.2.2: Engineer Mixed-Type Features\n",
    "\n",
    "(Double-click this cell and replace this text with your own text, reporting your findings and decisions regarding mixed-value features. Which ones did you keep, which did you drop, and what engineering steps did you perform?)\n",
    "\n",
    "We have created the \"PRAEGENDE_JUGENDJAHRE_DECADE\", \"PRAEGENDE_JUGENDJAHRE_MOVEMENT\", \"WEALTH\", \"LIFE_STAGE\" from the \"PRAEGENDE_JUGENDJAHRE\", \"CAMEO_INTL_2015\". And deleted those ones after created the new features. \n",
    "\n",
    "Concerning the engineering steps:\n",
    "\n",
    "\n",
    "    *for the \"PRAEGENDE_JUGENDJAHRE_DECADE\", \"PRAEGENDE_JUGENDJAHRE_MOVEMENT\":\n",
    " We have appliyed two functions decadedim and movementdim to creat the new features\n",
    " \n",
    " \n",
    "    *for the \"WEALTH\", \"LIFE_STAGE\":\n",
    " We have directly creat two dictionneries \"wealth_dim\" and \"life_stage_dim\", are replace the old values with the values of this dictionnies"
   ]
  },
  {
   "cell_type": "markdown",
   "metadata": {},
   "source": [
    "#### Step 1.2.3: Complete Feature Selection\n",
    "\n",
    "In order to finish this step up, you need to make sure that your data frame now only has the columns that you want to keep. To summarize, the dataframe should consist of the following:\n",
    "- All numeric, interval, and ordinal type columns from the original dataset.\n",
    "- Binary categorical features (all numerically-encoded).\n",
    "- Engineered features from other multi-level categorical features and mixed features.\n",
    "\n",
    "Make sure that for any new columns that you have engineered, that you've excluded the original columns from the final dataset. Otherwise, their values will interfere with the analysis later on the project. For example, you should not keep \"PRAEGENDE_JUGENDJAHRE\", since its values won't be useful for the algorithm: only the values derived from it in the engineered features you created should be retained. As a reminder, your data should only be from **the subset with few or no missing values**."
   ]
  },
  {
   "cell_type": "code",
   "execution_count": 1081,
   "metadata": {},
   "outputs": [
    {
     "data": {
      "text/plain": [
       "array(['ALTERSKATEGORIE_GROB', 'ANREDE_KZ', 'FINANZ_MINIMALIST',\n",
       "       'FINANZ_SPARER', 'FINANZ_VORSORGER', 'FINANZ_ANLEGER',\n",
       "       'FINANZ_UNAUFFAELLIGER', 'FINANZ_HAUSBAUER', 'GREEN_AVANTGARDE',\n",
       "       'HEALTH_TYP', 'LP_LEBENSPHASE_FEIN', 'LP_LEBENSPHASE_GROB',\n",
       "       'RETOURTYP_BK_S', 'SEMIO_SOZ', 'SEMIO_FAM', 'SEMIO_REL',\n",
       "       'SEMIO_MAT', 'SEMIO_VERT', 'SEMIO_LUST', 'SEMIO_ERL', 'SEMIO_KULT',\n",
       "       'SEMIO_RAT', 'SEMIO_KRIT', 'SEMIO_DOM', 'SEMIO_KAEM',\n",
       "       'SEMIO_PFLICHT', 'SEMIO_TRADV', 'SOHO_KZ', 'VERS_TYP',\n",
       "       'ANZ_PERSONEN', 'ANZ_TITEL', 'HH_EINKOMMEN_SCORE', 'W_KEIT_KIND_HH',\n",
       "       'WOHNDAUER_2008', 'ANZ_HAUSHALTE_AKTIV', 'ANZ_HH_TITEL',\n",
       "       'KONSUMNAEHE', 'MIN_GEBAEUDEJAHR', 'WOHNLAGE', 'KBA05_ANTG1',\n",
       "       'KBA05_ANTG2', 'KBA05_ANTG3', 'KBA05_ANTG4', 'KBA05_GBZ',\n",
       "       'BALLRAUM', 'EWDICHTE', 'INNENSTADT', 'GEBAEUDETYP_RASTER', 'KKK',\n",
       "       'MOBI_REGIO', 'ONLINE_AFFINITAET', 'REGIOTYP', 'KBA13_ANZAHL_PKW',\n",
       "       'PLZ8_ANTG1', 'PLZ8_ANTG2', 'PLZ8_ANTG3', 'PLZ8_ANTG4',\n",
       "       'PLZ8_BAUMAX', 'PLZ8_HHZ', 'PLZ8_GBZ', 'ARBEIT', 'ORTSGR_KLS9',\n",
       "       'RELAT_AB', 'CJT_GESAMTTYP_1.0', 'CJT_GESAMTTYP_2.0',\n",
       "       'CJT_GESAMTTYP_3.0', 'CJT_GESAMTTYP_4.0', 'CJT_GESAMTTYP_5.0',\n",
       "       'CJT_GESAMTTYP_6.0', 'FINANZTYP_1', 'FINANZTYP_2', 'FINANZTYP_3',\n",
       "       'FINANZTYP_4', 'FINANZTYP_5', 'FINANZTYP_6', 'GFK_URLAUBERTYP_1.0',\n",
       "       'GFK_URLAUBERTYP_2.0', 'GFK_URLAUBERTYP_3.0', 'GFK_URLAUBERTYP_4.0',\n",
       "       'GFK_URLAUBERTYP_5.0', 'GFK_URLAUBERTYP_6.0', 'GFK_URLAUBERTYP_7.0',\n",
       "       'GFK_URLAUBERTYP_8.0', 'GFK_URLAUBERTYP_9.0',\n",
       "       'GFK_URLAUBERTYP_10.0', 'GFK_URLAUBERTYP_11.0',\n",
       "       'GFK_URLAUBERTYP_12.0', 'LP_FAMILIE_FEIN_1.0',\n",
       "       'LP_FAMILIE_FEIN_2.0', 'LP_FAMILIE_FEIN_3.0', 'LP_FAMILIE_FEIN_4.0',\n",
       "       'LP_FAMILIE_FEIN_5.0', 'LP_FAMILIE_FEIN_6.0', 'LP_FAMILIE_FEIN_7.0',\n",
       "       'LP_FAMILIE_FEIN_8.0', 'LP_FAMILIE_FEIN_9.0',\n",
       "       'LP_FAMILIE_FEIN_10.0', 'LP_FAMILIE_FEIN_11.0',\n",
       "       'LP_FAMILIE_GROB_1.0', 'LP_FAMILIE_GROB_2.0', 'LP_FAMILIE_GROB_3.0',\n",
       "       'LP_FAMILIE_GROB_4.0', 'LP_FAMILIE_GROB_5.0', 'LP_STATUS_FEIN_1.0',\n",
       "       'LP_STATUS_FEIN_2.0', 'LP_STATUS_FEIN_3.0', 'LP_STATUS_FEIN_4.0',\n",
       "       'LP_STATUS_FEIN_5.0', 'LP_STATUS_FEIN_6.0', 'LP_STATUS_FEIN_7.0',\n",
       "       'LP_STATUS_FEIN_8.0', 'LP_STATUS_FEIN_9.0', 'LP_STATUS_FEIN_10.0',\n",
       "       'LP_STATUS_GROB_1.0', 'LP_STATUS_GROB_2.0', 'LP_STATUS_GROB_3.0',\n",
       "       'LP_STATUS_GROB_4.0', 'LP_STATUS_GROB_5.0', 'NATIONALITAET_KZ_1.0',\n",
       "       'NATIONALITAET_KZ_2.0', 'NATIONALITAET_KZ_3.0', 'SHOPPER_TYP_0.0',\n",
       "       'SHOPPER_TYP_1.0', 'SHOPPER_TYP_2.0', 'SHOPPER_TYP_3.0',\n",
       "       'ZABEOTYP_1', 'ZABEOTYP_2', 'ZABEOTYP_3', 'ZABEOTYP_4',\n",
       "       'ZABEOTYP_5', 'ZABEOTYP_6', 'GEBAEUDETYP_1.0', 'GEBAEUDETYP_2.0',\n",
       "       'GEBAEUDETYP_3.0', 'GEBAEUDETYP_4.0', 'GEBAEUDETYP_5.0',\n",
       "       'GEBAEUDETYP_6.0', 'GEBAEUDETYP_8.0', 'CAMEO_DEUG_2015_1',\n",
       "       'CAMEO_DEUG_2015_2', 'CAMEO_DEUG_2015_3', 'CAMEO_DEUG_2015_4',\n",
       "       'CAMEO_DEUG_2015_5', 'CAMEO_DEUG_2015_6', 'CAMEO_DEUG_2015_7',\n",
       "       'CAMEO_DEUG_2015_8', 'CAMEO_DEUG_2015_9', 'CAMEO_DEU_2015_1A',\n",
       "       'CAMEO_DEU_2015_1B', 'CAMEO_DEU_2015_1C', 'CAMEO_DEU_2015_1D',\n",
       "       'CAMEO_DEU_2015_1E', 'CAMEO_DEU_2015_2A', 'CAMEO_DEU_2015_2B',\n",
       "       'CAMEO_DEU_2015_2C', 'CAMEO_DEU_2015_2D', 'CAMEO_DEU_2015_3A',\n",
       "       'CAMEO_DEU_2015_3B', 'CAMEO_DEU_2015_3C', 'CAMEO_DEU_2015_3D',\n",
       "       'CAMEO_DEU_2015_4A', 'CAMEO_DEU_2015_4B', 'CAMEO_DEU_2015_4C',\n",
       "       'CAMEO_DEU_2015_4D', 'CAMEO_DEU_2015_4E', 'CAMEO_DEU_2015_5A',\n",
       "       'CAMEO_DEU_2015_5B', 'CAMEO_DEU_2015_5C', 'CAMEO_DEU_2015_5D',\n",
       "       'CAMEO_DEU_2015_5E', 'CAMEO_DEU_2015_5F', 'CAMEO_DEU_2015_6A',\n",
       "       'CAMEO_DEU_2015_6B', 'CAMEO_DEU_2015_6C', 'CAMEO_DEU_2015_6D',\n",
       "       'CAMEO_DEU_2015_6E', 'CAMEO_DEU_2015_6F', 'CAMEO_DEU_2015_7A',\n",
       "       'CAMEO_DEU_2015_7B', 'CAMEO_DEU_2015_7C', 'CAMEO_DEU_2015_7D',\n",
       "       'CAMEO_DEU_2015_7E', 'CAMEO_DEU_2015_8A', 'CAMEO_DEU_2015_8B',\n",
       "       'CAMEO_DEU_2015_8C', 'CAMEO_DEU_2015_8D', 'CAMEO_DEU_2015_9A',\n",
       "       'CAMEO_DEU_2015_9B', 'CAMEO_DEU_2015_9C', 'CAMEO_DEU_2015_9D',\n",
       "       'CAMEO_DEU_2015_9E', 'OST_WEST_KZ_O', 'OST_WEST_KZ_W',\n",
       "       'PRAEGENDE_JUGENDJAHRE_DECADE', 'PRAEGENDE_JUGENDJAHRE_MOVEMENT',\n",
       "       'WEALTH', 'LIFE_STAGE'], dtype=object)"
      ]
     },
     "execution_count": 1081,
     "metadata": {},
     "output_type": "execute_result"
    }
   ],
   "source": [
    "# If there are other re-engineering tasks you need to perform, make sure you\n",
    "# take care of them here. (Dealing with missing data will come in step 2.1.)\n",
    "second_subset.columns.values"
   ]
  },
  {
   "cell_type": "code",
   "execution_count": 1083,
   "metadata": {},
   "outputs": [
    {
     "data": {
      "text/html": [
       "<div>\n",
       "<style scoped>\n",
       "    .dataframe tbody tr th:only-of-type {\n",
       "        vertical-align: middle;\n",
       "    }\n",
       "\n",
       "    .dataframe tbody tr th {\n",
       "        vertical-align: top;\n",
       "    }\n",
       "\n",
       "    .dataframe thead th {\n",
       "        text-align: right;\n",
       "    }\n",
       "</style>\n",
       "<table border=\"1\" class=\"dataframe\">\n",
       "  <thead>\n",
       "    <tr style=\"text-align: right;\">\n",
       "      <th></th>\n",
       "      <th>ALTERSKATEGORIE_GROB</th>\n",
       "      <th>ANREDE_KZ</th>\n",
       "      <th>FINANZ_MINIMALIST</th>\n",
       "      <th>FINANZ_SPARER</th>\n",
       "      <th>FINANZ_VORSORGER</th>\n",
       "      <th>FINANZ_ANLEGER</th>\n",
       "      <th>FINANZ_UNAUFFAELLIGER</th>\n",
       "      <th>FINANZ_HAUSBAUER</th>\n",
       "      <th>GREEN_AVANTGARDE</th>\n",
       "      <th>HEALTH_TYP</th>\n",
       "      <th>...</th>\n",
       "      <th>CAMEO_DEU_2015_9B</th>\n",
       "      <th>CAMEO_DEU_2015_9C</th>\n",
       "      <th>CAMEO_DEU_2015_9D</th>\n",
       "      <th>CAMEO_DEU_2015_9E</th>\n",
       "      <th>OST_WEST_KZ_O</th>\n",
       "      <th>OST_WEST_KZ_W</th>\n",
       "      <th>PRAEGENDE_JUGENDJAHRE_DECADE</th>\n",
       "      <th>PRAEGENDE_JUGENDJAHRE_MOVEMENT</th>\n",
       "      <th>WEALTH</th>\n",
       "      <th>LIFE_STAGE</th>\n",
       "    </tr>\n",
       "  </thead>\n",
       "  <tbody>\n",
       "    <tr>\n",
       "      <th>1</th>\n",
       "      <td>1.0</td>\n",
       "      <td>2</td>\n",
       "      <td>1</td>\n",
       "      <td>5</td>\n",
       "      <td>2</td>\n",
       "      <td>5</td>\n",
       "      <td>4</td>\n",
       "      <td>5</td>\n",
       "      <td>0</td>\n",
       "      <td>3.0</td>\n",
       "      <td>...</td>\n",
       "      <td>0</td>\n",
       "      <td>0</td>\n",
       "      <td>0</td>\n",
       "      <td>0</td>\n",
       "      <td>0</td>\n",
       "      <td>1</td>\n",
       "      <td>5.0</td>\n",
       "      <td>1.0</td>\n",
       "      <td>5.0</td>\n",
       "      <td>1.0</td>\n",
       "    </tr>\n",
       "    <tr>\n",
       "      <th>2</th>\n",
       "      <td>3.0</td>\n",
       "      <td>2</td>\n",
       "      <td>1</td>\n",
       "      <td>4</td>\n",
       "      <td>1</td>\n",
       "      <td>2</td>\n",
       "      <td>3</td>\n",
       "      <td>5</td>\n",
       "      <td>1</td>\n",
       "      <td>3.0</td>\n",
       "      <td>...</td>\n",
       "      <td>0</td>\n",
       "      <td>0</td>\n",
       "      <td>0</td>\n",
       "      <td>0</td>\n",
       "      <td>0</td>\n",
       "      <td>1</td>\n",
       "      <td>5.0</td>\n",
       "      <td>0.0</td>\n",
       "      <td>2.0</td>\n",
       "      <td>4.0</td>\n",
       "    </tr>\n",
       "    <tr>\n",
       "      <th>3</th>\n",
       "      <td>4.0</td>\n",
       "      <td>2</td>\n",
       "      <td>4</td>\n",
       "      <td>2</td>\n",
       "      <td>5</td>\n",
       "      <td>2</td>\n",
       "      <td>1</td>\n",
       "      <td>2</td>\n",
       "      <td>0</td>\n",
       "      <td>2.0</td>\n",
       "      <td>...</td>\n",
       "      <td>0</td>\n",
       "      <td>0</td>\n",
       "      <td>0</td>\n",
       "      <td>0</td>\n",
       "      <td>0</td>\n",
       "      <td>1</td>\n",
       "      <td>3.0</td>\n",
       "      <td>1.0</td>\n",
       "      <td>1.0</td>\n",
       "      <td>2.0</td>\n",
       "    </tr>\n",
       "    <tr>\n",
       "      <th>4</th>\n",
       "      <td>3.0</td>\n",
       "      <td>1</td>\n",
       "      <td>4</td>\n",
       "      <td>3</td>\n",
       "      <td>4</td>\n",
       "      <td>1</td>\n",
       "      <td>3</td>\n",
       "      <td>2</td>\n",
       "      <td>0</td>\n",
       "      <td>3.0</td>\n",
       "      <td>...</td>\n",
       "      <td>0</td>\n",
       "      <td>0</td>\n",
       "      <td>0</td>\n",
       "      <td>0</td>\n",
       "      <td>0</td>\n",
       "      <td>1</td>\n",
       "      <td>3.0</td>\n",
       "      <td>1.0</td>\n",
       "      <td>4.0</td>\n",
       "      <td>3.0</td>\n",
       "    </tr>\n",
       "    <tr>\n",
       "      <th>5</th>\n",
       "      <td>1.0</td>\n",
       "      <td>2</td>\n",
       "      <td>3</td>\n",
       "      <td>1</td>\n",
       "      <td>5</td>\n",
       "      <td>2</td>\n",
       "      <td>2</td>\n",
       "      <td>5</td>\n",
       "      <td>0</td>\n",
       "      <td>3.0</td>\n",
       "      <td>...</td>\n",
       "      <td>0</td>\n",
       "      <td>0</td>\n",
       "      <td>0</td>\n",
       "      <td>0</td>\n",
       "      <td>0</td>\n",
       "      <td>1</td>\n",
       "      <td>1.0</td>\n",
       "      <td>1.0</td>\n",
       "      <td>5.0</td>\n",
       "      <td>4.0</td>\n",
       "    </tr>\n",
       "  </tbody>\n",
       "</table>\n",
       "<p>5 rows × 197 columns</p>\n",
       "</div>"
      ],
      "text/plain": [
       "   ALTERSKATEGORIE_GROB  ANREDE_KZ  FINANZ_MINIMALIST  FINANZ_SPARER  \\\n",
       "1                   1.0          2                  1              5   \n",
       "2                   3.0          2                  1              4   \n",
       "3                   4.0          2                  4              2   \n",
       "4                   3.0          1                  4              3   \n",
       "5                   1.0          2                  3              1   \n",
       "\n",
       "   FINANZ_VORSORGER  FINANZ_ANLEGER  FINANZ_UNAUFFAELLIGER  FINANZ_HAUSBAUER  \\\n",
       "1                 2               5                      4                 5   \n",
       "2                 1               2                      3                 5   \n",
       "3                 5               2                      1                 2   \n",
       "4                 4               1                      3                 2   \n",
       "5                 5               2                      2                 5   \n",
       "\n",
       "   GREEN_AVANTGARDE  HEALTH_TYP     ...      CAMEO_DEU_2015_9B  \\\n",
       "1                 0         3.0     ...                      0   \n",
       "2                 1         3.0     ...                      0   \n",
       "3                 0         2.0     ...                      0   \n",
       "4                 0         3.0     ...                      0   \n",
       "5                 0         3.0     ...                      0   \n",
       "\n",
       "   CAMEO_DEU_2015_9C  CAMEO_DEU_2015_9D  CAMEO_DEU_2015_9E  OST_WEST_KZ_O  \\\n",
       "1                  0                  0                  0              0   \n",
       "2                  0                  0                  0              0   \n",
       "3                  0                  0                  0              0   \n",
       "4                  0                  0                  0              0   \n",
       "5                  0                  0                  0              0   \n",
       "\n",
       "   OST_WEST_KZ_W  PRAEGENDE_JUGENDJAHRE_DECADE  \\\n",
       "1              1                           5.0   \n",
       "2              1                           5.0   \n",
       "3              1                           3.0   \n",
       "4              1                           3.0   \n",
       "5              1                           1.0   \n",
       "\n",
       "   PRAEGENDE_JUGENDJAHRE_MOVEMENT  WEALTH  LIFE_STAGE  \n",
       "1                             1.0     5.0         1.0  \n",
       "2                             0.0     2.0         4.0  \n",
       "3                             1.0     1.0         2.0  \n",
       "4                             1.0     4.0         3.0  \n",
       "5                             1.0     5.0         4.0  \n",
       "\n",
       "[5 rows x 197 columns]"
      ]
     },
     "execution_count": 1083,
     "metadata": {},
     "output_type": "execute_result"
    }
   ],
   "source": [
    "second_subset.head()"
   ]
  },
  {
   "cell_type": "code",
   "execution_count": 1084,
   "metadata": {},
   "outputs": [
    {
     "data": {
      "text/plain": [
       "Index(['ALTERSKATEGORIE_GROB', 'ANREDE_KZ', 'FINANZ_MINIMALIST',\n",
       "       'FINANZ_SPARER', 'FINANZ_VORSORGER', 'FINANZ_ANLEGER',\n",
       "       'FINANZ_UNAUFFAELLIGER', 'FINANZ_HAUSBAUER', 'GREEN_AVANTGARDE',\n",
       "       'HEALTH_TYP',\n",
       "       ...\n",
       "       'CAMEO_DEU_2015_9B', 'CAMEO_DEU_2015_9C', 'CAMEO_DEU_2015_9D',\n",
       "       'CAMEO_DEU_2015_9E', 'OST_WEST_KZ_O', 'OST_WEST_KZ_W',\n",
       "       'PRAEGENDE_JUGENDJAHRE_DECADE', 'PRAEGENDE_JUGENDJAHRE_MOVEMENT',\n",
       "       'WEALTH', 'LIFE_STAGE'],\n",
       "      dtype='object', length=197)"
      ]
     },
     "execution_count": 1084,
     "metadata": {},
     "output_type": "execute_result"
    }
   ],
   "source": [
    "second_subset.columns"
   ]
  },
  {
   "cell_type": "markdown",
   "metadata": {},
   "source": [
    "### Step 1.3: Create a Cleaning Function\n",
    "\n",
    "Even though you've finished cleaning up the general population demographics data, it's important to look ahead to the future and realize that you'll need to perform the same cleaning steps on the customer demographics data. In this substep, complete the function below to execute the main feature selection, encoding, and re-engineering steps you performed above. Then, when it comes to looking at the customer data in Step 3, you can just run this function on that DataFrame to get the trimmed dataset in a single step."
   ]
  },
  {
   "cell_type": "code",
   "execution_count": 1085,
   "metadata": {},
   "outputs": [
    {
     "name": "stdout",
     "output_type": "stream",
     "text": [
      "doone\n"
     ]
    }
   ],
   "source": [
    "def clean_data(df):\n",
    "    \"\"\"\n",
    "    Perform feature trimming, re-encoding, and engineering for demographics\n",
    "    data\n",
    "    \n",
    "    INPUT: Demographics DataFrame\n",
    "    OUTPUT: Trimmed and cleaned demographics DataFrame\n",
    "    \"\"\"\n",
    "    \n",
    "    # Put in code here to execute all main cleaning steps:\n",
    "    # convert missing value codes into NaNs, ...\n",
    "    for indx in range(len(feat_info)):\n",
    "        missing_or_unknown = feat_info.iloc[indx]['missing_or_unknown']\n",
    "        missing_or_unknown = missing_or_unknown.strip('[')\n",
    "        missing_or_unknown = missing_or_unknown.strip(']')\n",
    "        missing_or_unknown = missing_or_unknown.split(sep=',')\n",
    "        missing_or_unknown = [int(value) if (value!='X' and value!='XX' and value!='') \n",
    "                                         else value for value in missing_or_unknown]\n",
    "        if missing_or_unknown != ['']:\n",
    "            df = df.replace({feat_info.iloc[indx]['attribute']: missing_or_unknown}, np.nan)\n",
    "    \n",
    "    for col in df.columns:\n",
    "        df = df.replace({col: ['XX', 'X']}, np.nan)\n",
    "    # remove selected columns and rows, ...\n",
    "    # drop columns with more than 20% missing values\n",
    "    #outliers = ['AGER_TYP', 'GEBURTSJAHR', 'TITEL_KZ', 'ALTER_HH', 'KK_KUNDENTYP', 'KBA05_BAUMAX']\n",
    "\n",
    "    null_values_per_feature =(df.isnull().sum()/df.shape[0]).sort_values(ascending=False)*100\n",
    "    \n",
    "    outliers= []\n",
    "    for column in range(85):\n",
    "        col= percentage.index[column]\n",
    "        null_col = percentage[column]\n",
    "        if null_col > 20:\n",
    "            outliers.append(col)\n",
    "\n",
    "    print(\"The outliers list is: {}\".format(outliers))\n",
    "    \n",
    "    print(\"1: \", df.shape)\n",
    "    df_clean = df.drop(outliers, axis=1)\n",
    "    print(\"2: \", df_clean.shape)\n",
    "    \n",
    "\n",
    "    f_subset = df_clean[df_clean.isnull().sum(axis=1) >= 20]\n",
    "    s_subset2 = df_clean[df_clean.isnull().sum(axis=1) < 20]\n",
    "    s_subset2 = s_subset2.fillna(s_subset2.mode().iloc[0])\n",
    "    print(\"3: \", s_subset2.shape)\n",
    "\n",
    "    print(s_subset2.shape)\n",
    "    # select, re-encode, and engineer column values.\n",
    "    \n",
    "\n",
    "    \n",
    "    feat_info_new = feat_info.set_index(\"attribute\")\n",
    "   \n",
    "\n",
    "    feat_info_new = feat_info_new.drop(\"ALTER_HH\", axis=0)\n",
    "    feat_info_new = feat_info_new.drop(\"GEBURTSJAHR\", axis=0)\n",
    "    feat_info_new = feat_info_new.drop(\"KBA05_BAUMAX\", axis=0)\n",
    "    feat_info_new = feat_info_new.drop(\"KK_KUNDENTYP\", axis=0)\n",
    "    feat_info_new = feat_info_new.drop(\"AGER_TYP\", axis=0)\n",
    "    feat_info_new = feat_info_new.drop(\"TITEL_KZ\", axis=0)\n",
    "\n",
    "\n",
    "    feat_info_neww = feat_info_new.reset_index()\n",
    "    \n",
    "\n",
    "    categorical_features = feat_info_neww[feat_info_neww[\"type\"]==\"categorical\"]\n",
    "    #categorical_features = feat_info_neww[feat_info_neww.type=='categorical']\n",
    "    '''\n",
    "    multi_level = []\n",
    "    binary = []\n",
    "    \n",
    "    \n",
    "        \n",
    "    for column in categorical_features[\"attribute\"]:\n",
    "        nan_num = isNanExist(s_subset2[column].unique())\n",
    "        if s_subset2[column].nunique() - nan_num > 2:\n",
    "             multi_level.append(column)\n",
    "        else:\n",
    "             binary.append(column)\n",
    "                \n",
    "    nan_num = isNanExist(s_subset2[\"VERS_TYP\"].unique())\n",
    "    print(\"uni: \", s_subset2[\"VERS_TYP\"].unique())\n",
    "    print(\"nan_num:::: \", nan_num)\n",
    "    print(s_subset2[\"VERS_TYP\"].nunique() - nan_num)\n",
    "    '''\n",
    "                \n",
    "    print(\"multi_level::::: \", multi_level)\n",
    "    print(s_subset2[\"VERS_TYP\"].unique())\n",
    "    #for col in binary:\n",
    "            \n",
    "          #  print(s_subset2[col].value_counts())\n",
    "\n",
    "    multi_level.append(\"OST_WEST_KZ\")\n",
    "\n",
    "    print(\"4: \", s_subset2.shape, \" levels: \", len(multi_level))\n",
    "    s_subset2 = pd.get_dummies(s_subset2, columns=multi_level)\n",
    "    print(\"5: \", s_subset2.shape)\n",
    "    \n",
    "    \n",
    "    s_subset2['PRAEGENDE_JUGENDJAHRE_DECADE'] = s_subset2['PRAEGENDE_JUGENDJAHRE'].apply(decadedim)\n",
    "\n",
    "    s_subset2['PRAEGENDE_JUGENDJAHRE_MOVEMENT'] = s_subset2['PRAEGENDE_JUGENDJAHRE'].apply(movementdim)\n",
    "    print(\"6: \", s_subset2.shape)\n",
    "    s_subset2.drop('PRAEGENDE_JUGENDJAHRE', axis=1, inplace=True)\n",
    "    \n",
    "    print(\"7: \", s_subset2.shape)\n",
    "    s_subset2['WEALTH'] = s_subset2['CAMEO_INTL_2015']\n",
    "    s_subset2['LIFE_STAGE'] = s_subset2['CAMEO_INTL_2015']\n",
    "    \n",
    "    s_subset2['WEALTH'].replace(wealth_dim, inplace=True)\n",
    "    s_subset2['LIFE_STAGE'].replace(life_stage_dim, inplace=True)\n",
    "    print(\"8: \", s_subset2.shape)\n",
    "    \n",
    "    s_subset2.drop('CAMEO_INTL_2015', axis=1, inplace=True)\n",
    "    #s_subset2['CAMEO_INTL_2015_WEALTH'] = s_subset2['CAMEO_INTL_2015'].apply(wealth_dim)\n",
    "    #s_subset2['CAMEO_INTL_2015_LIFE_STAGE'] = s_subset2['CAMEO_INTL_2015'].apply(life_stage_dim)\n",
    "    #s_subset2.drop('CAMEO_INTL_2015', axis=1, inplace=True)\n",
    "    print(\"9: \", s_subset2.shape)\n",
    "\n",
    "    print(s_subset2.shape)   \n",
    "    # Return the cleaned dataframe.\n",
    "  \n",
    "  \n",
    "    \n",
    "    return s_subset2\n",
    "    \n",
    "    \n",
    "    \n",
    "print(\"doone\")\n",
    "    "
   ]
  },
  {
   "cell_type": "markdown",
   "metadata": {},
   "source": [
    "## Step 2: Feature Transformation\n",
    "\n",
    "### Step 2.1: Apply Feature Scaling\n",
    "\n",
    "Before we apply dimensionality reduction techniques to the data, we need to perform feature scaling so that the principal component vectors are not influenced by the natural differences in scale for features. Starting from this part of the project, you'll want to keep an eye on the [API reference page for sklearn](http://scikit-learn.org/stable/modules/classes.html) to help you navigate to all of the classes and functions that you'll need. In this substep, you'll need to check the following:\n",
    "\n",
    "- sklearn requires that data not have missing values in order for its estimators to work properly. So, before applying the scaler to your data, make sure that you've cleaned the DataFrame of the remaining missing values. This can be as simple as just removing all data points with missing data, or applying an [Imputer](http://scikit-learn.org/stable/modules/generated/sklearn.preprocessing.Imputer.html) to replace all missing values. You might also try a more complicated procedure where you temporarily remove missing values in order to compute the scaling parameters before re-introducing those missing values and applying imputation. Think about how much missing data you have and what possible effects each approach might have on your analysis, and justify your decision in the discussion section below.\n",
    "- For the actual scaling function, a [StandardScaler](http://scikit-learn.org/stable/modules/generated/sklearn.preprocessing.StandardScaler.html) instance is suggested, scaling each feature to mean 0 and standard deviation 1.\n",
    "- For these classes, you can make use of the `.fit_transform()` method to both fit a procedure to the data as well as apply the transformation to the data at the same time. Don't forget to keep the fit sklearn objects handy, since you'll be applying them to the customer demographics data towards the end of the project."
   ]
  },
  {
   "cell_type": "code",
   "execution_count": 958,
   "metadata": {},
   "outputs": [],
   "source": [
    "from sklearn.preprocessing import StandardScaler, Imputer\n",
    "from sklearn.decomposition import PCA\n",
    "from sklearn.cluster import KMeans"
   ]
  },
  {
   "cell_type": "code",
   "execution_count": 959,
   "metadata": {},
   "outputs": [
    {
     "name": "stdout",
     "output_type": "stream",
     "text": [
      "done\n"
     ]
    }
   ],
   "source": [
    "# If you've not yet cleaned the dataset of all NaN values, then investigate and\n",
    "# do that now.\n",
    "\n",
    "fill_missing = Imputer(strategy='most_frequent')\n",
    "second_subset_clean = pd.DataFrame(fill_missing.fit_transform(second_subset))\n",
    "print(\"done\")"
   ]
  },
  {
   "cell_type": "code",
   "execution_count": 960,
   "metadata": {},
   "outputs": [
    {
     "name": "stdout",
     "output_type": "stream",
     "text": [
      "done\n"
     ]
    }
   ],
   "source": [
    "second_subset_clean.columns = second_subset.columns\n",
    "second_subset_clean.index = second_subset.index\n",
    "print(\"done\")"
   ]
  },
  {
   "cell_type": "code",
   "execution_count": 961,
   "metadata": {},
   "outputs": [
    {
     "data": {
      "text/plain": [
       "0"
      ]
     },
     "execution_count": 961,
     "metadata": {},
     "output_type": "execute_result"
    }
   ],
   "source": [
    "second_subset_clean.isnull().sum().sum()\n"
   ]
  },
  {
   "cell_type": "code",
   "execution_count": 962,
   "metadata": {},
   "outputs": [
    {
     "name": "stdout",
     "output_type": "stream",
     "text": [
      "done\n"
     ]
    }
   ],
   "source": [
    "# Apply feature scaling to the general population demographics data.\n",
    "scaler = StandardScaler() \n",
    "second_subset_scaled = scaler.fit_transform(second_subset_clean)\n",
    "print(\"done\")\n"
   ]
  },
  {
   "cell_type": "code",
   "execution_count": 963,
   "metadata": {},
   "outputs": [
    {
     "data": {
      "text/html": [
       "<div>\n",
       "<style scoped>\n",
       "    .dataframe tbody tr th:only-of-type {\n",
       "        vertical-align: middle;\n",
       "    }\n",
       "\n",
       "    .dataframe tbody tr th {\n",
       "        vertical-align: top;\n",
       "    }\n",
       "\n",
       "    .dataframe thead th {\n",
       "        text-align: right;\n",
       "    }\n",
       "</style>\n",
       "<table border=\"1\" class=\"dataframe\">\n",
       "  <thead>\n",
       "    <tr style=\"text-align: right;\">\n",
       "      <th></th>\n",
       "      <th>ALTERSKATEGORIE_GROB</th>\n",
       "      <th>ANREDE_KZ</th>\n",
       "      <th>FINANZ_MINIMALIST</th>\n",
       "      <th>FINANZ_SPARER</th>\n",
       "      <th>FINANZ_VORSORGER</th>\n",
       "      <th>FINANZ_ANLEGER</th>\n",
       "      <th>FINANZ_UNAUFFAELLIGER</th>\n",
       "      <th>FINANZ_HAUSBAUER</th>\n",
       "      <th>GREEN_AVANTGARDE</th>\n",
       "      <th>HEALTH_TYP</th>\n",
       "      <th>...</th>\n",
       "      <th>CAMEO_DEU_2015_9B</th>\n",
       "      <th>CAMEO_DEU_2015_9C</th>\n",
       "      <th>CAMEO_DEU_2015_9D</th>\n",
       "      <th>CAMEO_DEU_2015_9E</th>\n",
       "      <th>OST_WEST_KZ_O</th>\n",
       "      <th>OST_WEST_KZ_W</th>\n",
       "      <th>PRAEGENDE_JUGENDJAHRE_DECADE</th>\n",
       "      <th>PRAEGENDE_JUGENDJAHRE_MOVEMENT</th>\n",
       "      <th>WEALTH</th>\n",
       "      <th>LIFE_STAGE</th>\n",
       "    </tr>\n",
       "  </thead>\n",
       "  <tbody>\n",
       "    <tr>\n",
       "      <th>0</th>\n",
       "      <td>-1.766173</td>\n",
       "      <td>0.958121</td>\n",
       "      <td>-1.494463</td>\n",
       "      <td>1.538139</td>\n",
       "      <td>-1.040664</td>\n",
       "      <td>1.466401</td>\n",
       "      <td>0.959974</td>\n",
       "      <td>1.338532</td>\n",
       "      <td>-0.530654</td>\n",
       "      <td>1.010291</td>\n",
       "      <td>...</td>\n",
       "      <td>-0.189607</td>\n",
       "      <td>-0.179893</td>\n",
       "      <td>-0.192884</td>\n",
       "      <td>-0.089706</td>\n",
       "      <td>-0.517521</td>\n",
       "      <td>0.517521</td>\n",
       "      <td>1.130720</td>\n",
       "      <td>0.530654</td>\n",
       "      <td>1.175857</td>\n",
       "      <td>-1.249369</td>\n",
       "    </tr>\n",
       "    <tr>\n",
       "      <th>1</th>\n",
       "      <td>0.200733</td>\n",
       "      <td>0.958121</td>\n",
       "      <td>-1.494463</td>\n",
       "      <td>0.864753</td>\n",
       "      <td>-1.766903</td>\n",
       "      <td>-0.570914</td>\n",
       "      <td>0.245238</td>\n",
       "      <td>1.338532</td>\n",
       "      <td>1.884467</td>\n",
       "      <td>1.010291</td>\n",
       "      <td>...</td>\n",
       "      <td>-0.189607</td>\n",
       "      <td>-0.179893</td>\n",
       "      <td>-0.192884</td>\n",
       "      <td>-0.089706</td>\n",
       "      <td>-0.517521</td>\n",
       "      <td>0.517521</td>\n",
       "      <td>1.130720</td>\n",
       "      <td>-1.884467</td>\n",
       "      <td>-0.869590</td>\n",
       "      <td>0.766691</td>\n",
       "    </tr>\n",
       "    <tr>\n",
       "      <th>2</th>\n",
       "      <td>1.184186</td>\n",
       "      <td>0.958121</td>\n",
       "      <td>0.683285</td>\n",
       "      <td>-0.482020</td>\n",
       "      <td>1.138052</td>\n",
       "      <td>-0.570914</td>\n",
       "      <td>-1.184235</td>\n",
       "      <td>-0.792444</td>\n",
       "      <td>-0.530654</td>\n",
       "      <td>-0.311793</td>\n",
       "      <td>...</td>\n",
       "      <td>-0.189607</td>\n",
       "      <td>-0.179893</td>\n",
       "      <td>-0.192884</td>\n",
       "      <td>-0.089706</td>\n",
       "      <td>-0.517521</td>\n",
       "      <td>0.517521</td>\n",
       "      <td>-0.341924</td>\n",
       "      <td>0.530654</td>\n",
       "      <td>-1.551406</td>\n",
       "      <td>-0.577349</td>\n",
       "    </tr>\n",
       "    <tr>\n",
       "      <th>3</th>\n",
       "      <td>0.200733</td>\n",
       "      <td>-1.043709</td>\n",
       "      <td>0.683285</td>\n",
       "      <td>0.191366</td>\n",
       "      <td>0.411813</td>\n",
       "      <td>-1.250019</td>\n",
       "      <td>0.245238</td>\n",
       "      <td>-0.792444</td>\n",
       "      <td>-0.530654</td>\n",
       "      <td>1.010291</td>\n",
       "      <td>...</td>\n",
       "      <td>-0.189607</td>\n",
       "      <td>-0.179893</td>\n",
       "      <td>-0.192884</td>\n",
       "      <td>-0.089706</td>\n",
       "      <td>-0.517521</td>\n",
       "      <td>0.517521</td>\n",
       "      <td>-0.341924</td>\n",
       "      <td>0.530654</td>\n",
       "      <td>0.494041</td>\n",
       "      <td>0.094671</td>\n",
       "    </tr>\n",
       "    <tr>\n",
       "      <th>4</th>\n",
       "      <td>-1.766173</td>\n",
       "      <td>0.958121</td>\n",
       "      <td>-0.042631</td>\n",
       "      <td>-1.155407</td>\n",
       "      <td>1.138052</td>\n",
       "      <td>-0.570914</td>\n",
       "      <td>-0.469499</td>\n",
       "      <td>1.338532</td>\n",
       "      <td>-0.530654</td>\n",
       "      <td>1.010291</td>\n",
       "      <td>...</td>\n",
       "      <td>-0.189607</td>\n",
       "      <td>-0.179893</td>\n",
       "      <td>-0.192884</td>\n",
       "      <td>-0.089706</td>\n",
       "      <td>-0.517521</td>\n",
       "      <td>0.517521</td>\n",
       "      <td>-1.814569</td>\n",
       "      <td>0.530654</td>\n",
       "      <td>1.175857</td>\n",
       "      <td>0.766691</td>\n",
       "    </tr>\n",
       "    <tr>\n",
       "      <th>5</th>\n",
       "      <td>-0.782720</td>\n",
       "      <td>0.958121</td>\n",
       "      <td>-1.494463</td>\n",
       "      <td>1.538139</td>\n",
       "      <td>-1.766903</td>\n",
       "      <td>1.466401</td>\n",
       "      <td>0.959974</td>\n",
       "      <td>-0.082119</td>\n",
       "      <td>-0.530654</td>\n",
       "      <td>-0.311793</td>\n",
       "      <td>...</td>\n",
       "      <td>-0.189607</td>\n",
       "      <td>-0.179893</td>\n",
       "      <td>-0.192884</td>\n",
       "      <td>-0.089706</td>\n",
       "      <td>-0.517521</td>\n",
       "      <td>0.517521</td>\n",
       "      <td>0.394398</td>\n",
       "      <td>0.530654</td>\n",
       "      <td>-0.869590</td>\n",
       "      <td>-0.577349</td>\n",
       "    </tr>\n",
       "    <tr>\n",
       "      <th>6</th>\n",
       "      <td>-1.766173</td>\n",
       "      <td>-1.043709</td>\n",
       "      <td>-0.042631</td>\n",
       "      <td>0.191366</td>\n",
       "      <td>0.411813</td>\n",
       "      <td>-1.250019</td>\n",
       "      <td>0.245238</td>\n",
       "      <td>-0.792444</td>\n",
       "      <td>-0.530654</td>\n",
       "      <td>-1.633876</td>\n",
       "      <td>...</td>\n",
       "      <td>-0.189607</td>\n",
       "      <td>-0.179893</td>\n",
       "      <td>-0.192884</td>\n",
       "      <td>-0.089706</td>\n",
       "      <td>-0.517521</td>\n",
       "      <td>0.517521</td>\n",
       "      <td>-0.341924</td>\n",
       "      <td>0.530654</td>\n",
       "      <td>-1.551406</td>\n",
       "      <td>0.766691</td>\n",
       "    </tr>\n",
       "    <tr>\n",
       "      <th>7</th>\n",
       "      <td>0.200733</td>\n",
       "      <td>-1.043709</td>\n",
       "      <td>0.683285</td>\n",
       "      <td>0.864753</td>\n",
       "      <td>-1.040664</td>\n",
       "      <td>0.787296</td>\n",
       "      <td>-0.469499</td>\n",
       "      <td>-0.792444</td>\n",
       "      <td>1.884467</td>\n",
       "      <td>1.010291</td>\n",
       "      <td>...</td>\n",
       "      <td>-0.189607</td>\n",
       "      <td>-0.179893</td>\n",
       "      <td>-0.192884</td>\n",
       "      <td>-0.089706</td>\n",
       "      <td>-0.517521</td>\n",
       "      <td>0.517521</td>\n",
       "      <td>0.394398</td>\n",
       "      <td>-1.884467</td>\n",
       "      <td>-1.551406</td>\n",
       "      <td>0.094671</td>\n",
       "    </tr>\n",
       "    <tr>\n",
       "      <th>8</th>\n",
       "      <td>0.200733</td>\n",
       "      <td>0.958121</td>\n",
       "      <td>-0.768547</td>\n",
       "      <td>0.864753</td>\n",
       "      <td>-1.040664</td>\n",
       "      <td>0.108191</td>\n",
       "      <td>1.674710</td>\n",
       "      <td>0.628207</td>\n",
       "      <td>1.884467</td>\n",
       "      <td>-0.311793</td>\n",
       "      <td>...</td>\n",
       "      <td>-0.189607</td>\n",
       "      <td>-0.179893</td>\n",
       "      <td>-0.192884</td>\n",
       "      <td>-0.089706</td>\n",
       "      <td>-0.517521</td>\n",
       "      <td>0.517521</td>\n",
       "      <td>1.130720</td>\n",
       "      <td>-1.884467</td>\n",
       "      <td>-1.551406</td>\n",
       "      <td>1.438711</td>\n",
       "    </tr>\n",
       "    <tr>\n",
       "      <th>9</th>\n",
       "      <td>0.200733</td>\n",
       "      <td>0.958121</td>\n",
       "      <td>-0.768547</td>\n",
       "      <td>-0.482020</td>\n",
       "      <td>1.138052</td>\n",
       "      <td>0.108191</td>\n",
       "      <td>-1.184235</td>\n",
       "      <td>1.338532</td>\n",
       "      <td>-0.530654</td>\n",
       "      <td>-0.311793</td>\n",
       "      <td>...</td>\n",
       "      <td>-0.189607</td>\n",
       "      <td>-0.179893</td>\n",
       "      <td>5.184457</td>\n",
       "      <td>-0.089706</td>\n",
       "      <td>-0.517521</td>\n",
       "      <td>0.517521</td>\n",
       "      <td>-1.814569</td>\n",
       "      <td>0.530654</td>\n",
       "      <td>1.175857</td>\n",
       "      <td>-1.249369</td>\n",
       "    </tr>\n",
       "  </tbody>\n",
       "</table>\n",
       "<p>10 rows × 197 columns</p>\n",
       "</div>"
      ],
      "text/plain": [
       "   ALTERSKATEGORIE_GROB  ANREDE_KZ  FINANZ_MINIMALIST  FINANZ_SPARER  \\\n",
       "0             -1.766173   0.958121          -1.494463       1.538139   \n",
       "1              0.200733   0.958121          -1.494463       0.864753   \n",
       "2              1.184186   0.958121           0.683285      -0.482020   \n",
       "3              0.200733  -1.043709           0.683285       0.191366   \n",
       "4             -1.766173   0.958121          -0.042631      -1.155407   \n",
       "5             -0.782720   0.958121          -1.494463       1.538139   \n",
       "6             -1.766173  -1.043709          -0.042631       0.191366   \n",
       "7              0.200733  -1.043709           0.683285       0.864753   \n",
       "8              0.200733   0.958121          -0.768547       0.864753   \n",
       "9              0.200733   0.958121          -0.768547      -0.482020   \n",
       "\n",
       "   FINANZ_VORSORGER  FINANZ_ANLEGER  FINANZ_UNAUFFAELLIGER  FINANZ_HAUSBAUER  \\\n",
       "0         -1.040664        1.466401               0.959974          1.338532   \n",
       "1         -1.766903       -0.570914               0.245238          1.338532   \n",
       "2          1.138052       -0.570914              -1.184235         -0.792444   \n",
       "3          0.411813       -1.250019               0.245238         -0.792444   \n",
       "4          1.138052       -0.570914              -0.469499          1.338532   \n",
       "5         -1.766903        1.466401               0.959974         -0.082119   \n",
       "6          0.411813       -1.250019               0.245238         -0.792444   \n",
       "7         -1.040664        0.787296              -0.469499         -0.792444   \n",
       "8         -1.040664        0.108191               1.674710          0.628207   \n",
       "9          1.138052        0.108191              -1.184235          1.338532   \n",
       "\n",
       "   GREEN_AVANTGARDE  HEALTH_TYP     ...      CAMEO_DEU_2015_9B  \\\n",
       "0         -0.530654    1.010291     ...              -0.189607   \n",
       "1          1.884467    1.010291     ...              -0.189607   \n",
       "2         -0.530654   -0.311793     ...              -0.189607   \n",
       "3         -0.530654    1.010291     ...              -0.189607   \n",
       "4         -0.530654    1.010291     ...              -0.189607   \n",
       "5         -0.530654   -0.311793     ...              -0.189607   \n",
       "6         -0.530654   -1.633876     ...              -0.189607   \n",
       "7          1.884467    1.010291     ...              -0.189607   \n",
       "8          1.884467   -0.311793     ...              -0.189607   \n",
       "9         -0.530654   -0.311793     ...              -0.189607   \n",
       "\n",
       "   CAMEO_DEU_2015_9C  CAMEO_DEU_2015_9D  CAMEO_DEU_2015_9E  OST_WEST_KZ_O  \\\n",
       "0          -0.179893          -0.192884          -0.089706      -0.517521   \n",
       "1          -0.179893          -0.192884          -0.089706      -0.517521   \n",
       "2          -0.179893          -0.192884          -0.089706      -0.517521   \n",
       "3          -0.179893          -0.192884          -0.089706      -0.517521   \n",
       "4          -0.179893          -0.192884          -0.089706      -0.517521   \n",
       "5          -0.179893          -0.192884          -0.089706      -0.517521   \n",
       "6          -0.179893          -0.192884          -0.089706      -0.517521   \n",
       "7          -0.179893          -0.192884          -0.089706      -0.517521   \n",
       "8          -0.179893          -0.192884          -0.089706      -0.517521   \n",
       "9          -0.179893           5.184457          -0.089706      -0.517521   \n",
       "\n",
       "   OST_WEST_KZ_W  PRAEGENDE_JUGENDJAHRE_DECADE  \\\n",
       "0       0.517521                      1.130720   \n",
       "1       0.517521                      1.130720   \n",
       "2       0.517521                     -0.341924   \n",
       "3       0.517521                     -0.341924   \n",
       "4       0.517521                     -1.814569   \n",
       "5       0.517521                      0.394398   \n",
       "6       0.517521                     -0.341924   \n",
       "7       0.517521                      0.394398   \n",
       "8       0.517521                      1.130720   \n",
       "9       0.517521                     -1.814569   \n",
       "\n",
       "   PRAEGENDE_JUGENDJAHRE_MOVEMENT    WEALTH  LIFE_STAGE  \n",
       "0                        0.530654  1.175857   -1.249369  \n",
       "1                       -1.884467 -0.869590    0.766691  \n",
       "2                        0.530654 -1.551406   -0.577349  \n",
       "3                        0.530654  0.494041    0.094671  \n",
       "4                        0.530654  1.175857    0.766691  \n",
       "5                        0.530654 -0.869590   -0.577349  \n",
       "6                        0.530654 -1.551406    0.766691  \n",
       "7                       -1.884467 -1.551406    0.094671  \n",
       "8                       -1.884467 -1.551406    1.438711  \n",
       "9                        0.530654  1.175857   -1.249369  \n",
       "\n",
       "[10 rows x 197 columns]"
      ]
     },
     "execution_count": 963,
     "metadata": {},
     "output_type": "execute_result"
    }
   ],
   "source": [
    "second_subset_scaled  = pd.DataFrame(second_subset_scaled , columns=list(second_subset_clean))\n",
    "second_subset_scaled.head(10)"
   ]
  },
  {
   "cell_type": "markdown",
   "metadata": {},
   "source": [
    "### Discussion 2.1: Apply Feature Scaling\n",
    "\n",
    "(Double-click this cell and replace this text with your own text, reporting your decisions regarding feature scaling.)\n",
    "\n",
    "We imputed the missing values using Imputer package that replaces the missing value with the \"most_frequent\" of the column. Then we have insured that there still no missing values with: second_subset_clean.isnull().sum().sum()\n",
    "\n",
    "https://scikit-learn.org/0.16/modules/generated/sklearn.preprocessing.Imputer.html\n",
    "\n",
    "Then we standardized the data using StandardScaler package, to get the data in the same scall\n",
    "\n",
    "To bring the data to same scale for comparison we standardized the data using StandardScaler package"
   ]
  },
  {
   "cell_type": "markdown",
   "metadata": {},
   "source": [
    "### Step 2.2: Perform Dimensionality Reduction\n",
    "\n",
    "On your scaled data, you are now ready to apply dimensionality reduction techniques.\n",
    "\n",
    "- Use sklearn's [PCA](http://scikit-learn.org/stable/modules/generated/sklearn.decomposition.PCA.html) class to apply principal component analysis on the data, thus finding the vectors of maximal variance in the data. To start, you should not set any parameters (so all components are computed) or set a number of components that is at least half the number of features (so there's enough features to see the general trend in variability).\n",
    "- Check out the ratio of variance explained by each principal component as well as the cumulative variance explained. Try plotting the cumulative or sequential values using matplotlib's [`plot()`](https://matplotlib.org/api/_as_gen/matplotlib.pyplot.plot.html) function. Based on what you find, select a value for the number of transformed features you'll retain for the clustering part of the project.\n",
    "- Once you've made a choice for the number of components to keep, make sure you re-fit a PCA instance to perform the decided-on transformation."
   ]
  },
  {
   "cell_type": "code",
   "execution_count": 964,
   "metadata": {},
   "outputs": [
    {
     "data": {
      "text/plain": [
       "(797077, 197)"
      ]
     },
     "execution_count": 964,
     "metadata": {},
     "output_type": "execute_result"
    }
   ],
   "source": [
    "second_subset_scaled.shape"
   ]
  },
  {
   "cell_type": "code",
   "execution_count": 965,
   "metadata": {},
   "outputs": [
    {
     "name": "stdout",
     "output_type": "stream",
     "text": [
      "done\n"
     ]
    }
   ],
   "source": [
    "# Apply PCA to the data.\n",
    "pca = PCA()\n",
    "pca.fit(second_subset_scaled)\n",
    "print(\"done\")"
   ]
  },
  {
   "cell_type": "code",
   "execution_count": 134,
   "metadata": {},
   "outputs": [
    {
     "data": {
      "image/png": "[encoded data removed]",
      "text/plain": [
       "<matplotlib.figure.Figure at 0x7f8574f3e898>"
      ]
     },
     "metadata": {
      "needs_background": "light"
     },
     "output_type": "display_data"
    }
   ],
   "source": [
    "# Investigate the variance accounted for by each principal component.\n",
    "plt.bar(range(len(pca.explained_variance_ratio_)), pca.explained_variance_ratio_)\n",
    "plt.title(\"Variance explained by each component\")\n",
    "plt.xlabel(\"Principal component\")\n",
    "plt.ylabel(\"Ratio of variance explained\")\n",
    "plt.show()\n",
    "\n"
   ]
  },
  {
   "cell_type": "code",
   "execution_count": 135,
   "metadata": {},
   "outputs": [
    {
     "data": {
      "image/png": "[encoded data removed]",
      "text/plain": [
       "<matplotlib.figure.Figure at 0x7f856a865be0>"
      ]
     },
     "metadata": {
      "needs_background": "light"
     },
     "output_type": "display_data"
    }
   ],
   "source": [
    "plt.plot(range(len(pca.explained_variance_ratio_)),np.cumsum(pca.explained_variance_ratio_), '-')\n",
    "plt.title(\"Cumulative Variance Explained\")\n",
    "plt.xlabel(\"Number of Components\")\n",
    "plt.ylabel(\"Ratio of variance explained\")\n",
    "plt.show()"
   ]
  },
  {
   "cell_type": "code",
   "execution_count": 136,
   "metadata": {},
   "outputs": [],
   "source": [
    "# Re-apply PCA to the data while selecting for number of components to retain.\n",
    "pca_second_subset= PCA(n_components=100)\n",
    "second_subset_scaled_pca = pca_second_subset.fit_transform(second_subset_scaled)"
   ]
  },
  {
   "cell_type": "markdown",
   "metadata": {},
   "source": [
    "### Discussion 2.2: Perform Dimensionality Reduction\n",
    "\n",
    "(Double-click this cell and replace this text with your own text, reporting your findings and decisions regarding dimensionality reduction. How many principal components / transformed features are you retaining for the next step of the analysis?)"
   ]
  },
  {
   "cell_type": "markdown",
   "metadata": {},
   "source": [
    "### Step 2.3: Interpret Principal Components\n",
    "\n",
    "Now that we have our transformed principal components, it's a nice idea to check out the weight of each variable on the first few components to see if they can be interpreted in some fashion.\n",
    "\n",
    "As a reminder, each principal component is a unit vector that points in the direction of highest variance (after accounting for the variance captured by earlier principal components). The further a weight is from zero, the more the principal component is in the direction of the corresponding feature. If two features have large weights of the same sign (both positive or both negative), then increases in one tend expect to be associated with increases in the other. To contrast, features with different signs can be expected to show a negative correlation: increases in one variable should result in a decrease in the other.\n",
    "\n",
    "- To investigate the features, you should map each weight to their corresponding feature name, then sort the features according to weight. The most interesting features for each principal component, then, will be those at the beginning and end of the sorted list. Use the data dictionary document to help you understand these most prominent features, their relationships, and what a positive or negative value on the principal component might indicate.\n",
    "- You should investigate and interpret feature associations from the first three principal components in this substep. To help facilitate this, you should write a function that you can call at any time to print the sorted list of feature weights, for the *i*-th principal component. This might come in handy in the next step of the project, when you interpret the tendencies of the discovered clusters."
   ]
  },
  {
   "cell_type": "code",
   "execution_count": 137,
   "metadata": {},
   "outputs": [
    {
     "name": "stdout",
     "output_type": "stream",
     "text": [
      "done\n"
     ]
    }
   ],
   "source": [
    "# Map weights for the first principal component to corresponding feature names\n",
    "# and then print the linked values, sorted by weight.\n",
    "# HINT: Try defining a function here or in a new cell that you can reuse in the\n",
    "# other cells.\n",
    "def weights(pca, i):\n",
    "    df = pd.DataFrame(pca.components_, columns=list(second_subset_scaled.columns))\n",
    "    weights = df.iloc[i].sort_values(ascending=False)\n",
    "    return weights\n",
    "print(\"done\")"
   ]
  },
  {
   "cell_type": "code",
   "execution_count": 138,
   "metadata": {},
   "outputs": [
    {
     "name": "stdout",
     "output_type": "stream",
     "text": [
      "LP_STATUS_GROB_1.0                0.186124\n",
      "WEALTH                            0.182243\n",
      "CAMEO_INTL_2015                   0.179323\n",
      "HH_EINKOMMEN_SCORE                0.179019\n",
      "PLZ8_ANTG3                        0.176322\n",
      "PLZ8_ANTG4                        0.170749\n",
      "PLZ8_BAUMAX                       0.167600\n",
      "ORTSGR_KLS9                       0.149780\n",
      "EWDICHTE                          0.147691\n",
      "FINANZ_HAUSBAUER                  0.145843\n",
      "LP_STATUS_FEIN_1.0                0.124961\n",
      "KBA05_ANTG4                       0.124960\n",
      "PLZ8_ANTG2                        0.120882\n",
      "KBA05_ANTG3                       0.112522\n",
      "ANZ_HAUSHALTE_AKTIV               0.112182\n",
      "ARBEIT                            0.111552\n",
      "CAMEO_DEUG_2015_9                 0.110228\n",
      "LP_STATUS_FEIN_2.0                0.105014\n",
      "RELAT_AB                          0.104172\n",
      "PRAEGENDE_JUGENDJAHRE_MOVEMENT    0.100179\n",
      "FINANZTYP_1                       0.099299\n",
      "FINANZ_SPARER                     0.096792\n",
      "LP_FAMILIE_GROB_1.0               0.095971\n",
      "LP_FAMILIE_FEIN_1.0               0.095971\n",
      "CAMEO_DEUG_2015_8                 0.091505\n",
      "ZABEOTYP_5                        0.068700\n",
      "SEMIO_PFLICHT                     0.068133\n",
      "GEBAEUDETYP_3.0                   0.064902\n",
      "SEMIO_REL                         0.064750\n",
      "CAMEO_DEU_2015_8A                 0.061835\n",
      "                                    ...   \n",
      "WOHNLAGE                         -0.059445\n",
      "CAMEO_DEUG_2015_3                -0.064095\n",
      "ONLINE_AFFINITAET                -0.064612\n",
      "ALTERSKATEGORIE_GROB             -0.066583\n",
      "FINANZ_VORSORGER                 -0.068896\n",
      "FINANZTYP_2                      -0.069072\n",
      "CAMEO_DEUG_2015_4                -0.072246\n",
      "LP_FAMILIE_GROB_5.0              -0.076752\n",
      "GEBAEUDETYP_1.0                  -0.085215\n",
      "CAMEO_DEUG_2015_2                -0.088222\n",
      "BALLRAUM                         -0.092144\n",
      "ANZ_PERSONEN                     -0.093082\n",
      "GEBAEUDETYP_RASTER               -0.094219\n",
      "ZABEOTYP_1                       -0.094628\n",
      "GREEN_AVANTGARDE                 -0.100179\n",
      "LP_STATUS_FEIN_9.0               -0.103902\n",
      "LIFE_STAGE                       -0.104125\n",
      "LP_STATUS_GROB_4.0               -0.105568\n",
      "LP_STATUS_GROB_5.0               -0.109057\n",
      "LP_STATUS_FEIN_10.0              -0.109057\n",
      "INNENSTADT                       -0.122832\n",
      "LP_LEBENSPHASE_GROB              -0.127486\n",
      "PLZ8_GBZ                         -0.130141\n",
      "KONSUMNAEHE                      -0.132254\n",
      "LP_LEBENSPHASE_FEIN              -0.139462\n",
      "KBA05_ANTG1                      -0.173011\n",
      "KBA05_GBZ                        -0.173678\n",
      "FINANZ_MINIMALIST                -0.175910\n",
      "PLZ8_ANTG1                       -0.178122\n",
      "MOBI_REGIO                       -0.180218\n",
      "Name: 0, Length: 198, dtype: float64\n"
     ]
    }
   ],
   "source": [
    "pca_weight_0 = weights(pca_second_subset, 0)\n",
    "print (pca_weight_0)"
   ]
  },
  {
   "cell_type": "code",
   "execution_count": 139,
   "metadata": {},
   "outputs": [
    {
     "name": "stdout",
     "output_type": "stream",
     "text": [
      "ALTERSKATEGORIE_GROB            0.238442\n",
      "FINANZ_VORSORGER                0.224129\n",
      "ZABEOTYP_3                      0.199468\n",
      "SEMIO_ERL                       0.181781\n",
      "SEMIO_LUST                      0.165729\n",
      "RETOURTYP_BK_S                  0.154599\n",
      "W_KEIT_KIND_HH                  0.120091\n",
      "CJT_GESAMTTYP_2.0               0.111598\n",
      "FINANZ_MINIMALIST               0.104532\n",
      "FINANZTYP_2                     0.097540\n",
      "FINANZTYP_5                     0.096727\n",
      "LP_STATUS_FEIN_1.0              0.085201\n",
      "SHOPPER_TYP_3.0                 0.076107\n",
      "NATIONALITAET_KZ_1.0            0.073423\n",
      "FINANZ_HAUSBAUER                0.072652\n",
      "CJT_GESAMTTYP_1.0               0.071912\n",
      "FINANZTYP_6                     0.071091\n",
      "SEMIO_KRIT                      0.070259\n",
      "WOHNDAUER_2008                  0.057568\n",
      "GFK_URLAUBERTYP_4.0             0.057458\n",
      "LP_FAMILIE_GROB_1.0             0.056289\n",
      "LP_FAMILIE_FEIN_1.0             0.056289\n",
      "SEMIO_KAEM                      0.052134\n",
      "EWDICHTE                        0.049781\n",
      "LP_STATUS_FEIN_3.0              0.049645\n",
      "ORTSGR_KLS9                     0.048899\n",
      "PLZ8_ANTG3                      0.048474\n",
      "PLZ8_ANTG4                      0.047653\n",
      "CAMEO_INTL_2015                 0.047613\n",
      "GFK_URLAUBERTYP_7.0             0.045273\n",
      "                                  ...   \n",
      "PLZ8_ANTG1                     -0.047887\n",
      "NATIONALITAET_KZ_2.0           -0.048036\n",
      "LP_FAMILIE_GROB_3.0            -0.048151\n",
      "NATIONALITAET_KZ_3.0           -0.050346\n",
      "ZABEOTYP_1                     -0.051175\n",
      "CJT_GESAMTTYP_4.0              -0.055565\n",
      "HEALTH_TYP                     -0.056789\n",
      "ANZ_PERSONEN                   -0.062563\n",
      "SEMIO_SOZ                      -0.062617\n",
      "LP_FAMILIE_GROB_4.0            -0.067539\n",
      "FINANZTYP_3                    -0.070687\n",
      "GFK_URLAUBERTYP_9.0            -0.073197\n",
      "LP_STATUS_FEIN_5.0             -0.079487\n",
      "FINANZTYP_4                    -0.087718\n",
      "ZABEOTYP_5                     -0.095159\n",
      "LP_STATUS_FEIN_2.0             -0.103232\n",
      "ZABEOTYP_4                     -0.109321\n",
      "SEMIO_MAT                      -0.133555\n",
      "SEMIO_FAM                      -0.136470\n",
      "FINANZTYP_1                    -0.142250\n",
      "ONLINE_AFFINITAET              -0.157421\n",
      "SEMIO_KULT                     -0.166231\n",
      "SEMIO_RAT                      -0.173855\n",
      "FINANZ_ANLEGER                 -0.207596\n",
      "SEMIO_TRADV                    -0.211229\n",
      "SEMIO_PFLICHT                  -0.211691\n",
      "FINANZ_UNAUFFAELLIGER          -0.218932\n",
      "SEMIO_REL                      -0.219659\n",
      "FINANZ_SPARER                  -0.235795\n",
      "PRAEGENDE_JUGENDJAHRE_DECADE   -0.238899\n",
      "Name: 1, Length: 198, dtype: float64\n"
     ]
    }
   ],
   "source": [
    "# Map weights for the second principal component to corresponding feature names\n",
    "# and then print the linked values, sorted by weight.\n",
    "pca_weight_1 = weights(pca_second_subset, 1)\n",
    "print (pca_weight_1)\n"
   ]
  },
  {
   "cell_type": "code",
   "execution_count": 140,
   "metadata": {},
   "outputs": [
    {
     "name": "stdout",
     "output_type": "stream",
     "text": [
      "SEMIO_VERT                        0.314132\n",
      "SEMIO_FAM                         0.254443\n",
      "SEMIO_SOZ                         0.253730\n",
      "SEMIO_KULT                        0.246180\n",
      "FINANZTYP_5                       0.137495\n",
      "FINANZ_MINIMALIST                 0.131051\n",
      "ZABEOTYP_1                        0.121505\n",
      "SHOPPER_TYP_0.0                   0.120264\n",
      "SEMIO_REL                         0.109919\n",
      "GREEN_AVANTGARDE                  0.091678\n",
      "SEMIO_MAT                         0.087137\n",
      "ORTSGR_KLS9                       0.076057\n",
      "EWDICHTE                          0.075241\n",
      "RETOURTYP_BK_S                    0.072534\n",
      "LP_STATUS_GROB_5.0                0.067177\n",
      "LP_STATUS_FEIN_10.0               0.067177\n",
      "PLZ8_BAUMAX                       0.057644\n",
      "PLZ8_ANTG4                        0.055681\n",
      "PLZ8_ANTG3                        0.055309\n",
      "SHOPPER_TYP_1.0                   0.051183\n",
      "LP_STATUS_FEIN_3.0                0.046749\n",
      "FINANZ_VORSORGER                  0.045765\n",
      "ZABEOTYP_6                        0.045652\n",
      "W_KEIT_KIND_HH                    0.045001\n",
      "LP_STATUS_FEIN_1.0                0.040983\n",
      "RELAT_AB                          0.040690\n",
      "PLZ8_ANTG2                        0.040193\n",
      "ARBEIT                            0.038578\n",
      "LP_STATUS_GROB_3.0                0.037059\n",
      "GEBAEUDETYP_3.0                   0.031660\n",
      "                                    ...   \n",
      "LP_FAMILIE_FEIN_4.0              -0.037341\n",
      "PLZ8_GBZ                         -0.037699\n",
      "ZABEOTYP_3                       -0.040917\n",
      "GEBAEUDETYP_RASTER               -0.043179\n",
      "FINANZ_UNAUFFAELLIGER            -0.044564\n",
      "KKK                              -0.045152\n",
      "HH_EINKOMMEN_SCORE               -0.047308\n",
      "SHOPPER_TYP_3.0                  -0.047984\n",
      "PRAEGENDE_JUGENDJAHRE_DECADE     -0.048856\n",
      "PLZ8_ANTG1                       -0.051195\n",
      "LP_FAMILIE_GROB_3.0              -0.052155\n",
      "WOHNLAGE                         -0.052472\n",
      "KONSUMNAEHE                      -0.053666\n",
      "FINANZ_SPARER                    -0.055533\n",
      "BALLRAUM                         -0.059129\n",
      "ZABEOTYP_4                       -0.061835\n",
      "FINANZ_HAUSBAUER                 -0.064818\n",
      "INNENSTADT                       -0.065937\n",
      "LP_STATUS_FEIN_2.0               -0.079425\n",
      "LP_STATUS_FEIN_4.0               -0.081839\n",
      "SHOPPER_TYP_2.0                  -0.091172\n",
      "PRAEGENDE_JUGENDJAHRE_MOVEMENT   -0.091678\n",
      "FINANZTYP_1                      -0.100711\n",
      "SEMIO_RAT                        -0.150510\n",
      "FINANZ_ANLEGER                   -0.155568\n",
      "SEMIO_ERL                        -0.204802\n",
      "SEMIO_KRIT                       -0.264859\n",
      "SEMIO_DOM                        -0.273695\n",
      "SEMIO_KAEM                       -0.305935\n",
      "ANREDE_KZ                        -0.337828\n",
      "Name: 2, Length: 198, dtype: float64\n"
     ]
    }
   ],
   "source": [
    "# Map weights for the third principal component to corresponding feature names\n",
    "# and then print the linked values, sorted by weight.\n",
    "pca_weight_2 = weights(pca_second_subset, 2)\n",
    "print (pca_weight_2)\n"
   ]
  },
  {
   "cell_type": "code",
   "execution_count": 141,
   "metadata": {},
   "outputs": [
    {
     "name": "stdout",
     "output_type": "stream",
     "text": [
      "LP_LEBENSPHASE_GROB               0.235823\n",
      "LP_LEBENSPHASE_FEIN               0.229852\n",
      "ANZ_PERSONEN                      0.210619\n",
      "LP_FAMILIE_GROB_5.0               0.205158\n",
      "GREEN_AVANTGARDE                  0.200414\n",
      "ORTSGR_KLS9                       0.187326\n",
      "EWDICHTE                          0.186186\n",
      "LP_STATUS_FEIN_10.0               0.171522\n",
      "LP_STATUS_GROB_5.0                0.171522\n",
      "LP_FAMILIE_FEIN_10.0              0.154113\n",
      "SEMIO_DOM                         0.132829\n",
      "SEMIO_KAEM                        0.131648\n",
      "ONLINE_AFFINITAET                 0.129910\n",
      "PLZ8_ANTG3                        0.110470\n",
      "LP_FAMILIE_FEIN_11.0              0.108547\n",
      "PLZ8_ANTG4                        0.107754\n",
      "ANREDE_KZ                         0.101688\n",
      "PLZ8_BAUMAX                       0.095360\n",
      "RELAT_AB                          0.091110\n",
      "PLZ8_ANTG2                        0.081559\n",
      "ZABEOTYP_2                        0.080904\n",
      "ARBEIT                            0.075528\n",
      "CAMEO_DEUG_2015_1                 0.070572\n",
      "LP_FAMILIE_GROB_4.0               0.068427\n",
      "SHOPPER_TYP_3.0                   0.061171\n",
      "LP_STATUS_GROB_3.0                0.058374\n",
      "SEMIO_ERL                         0.052871\n",
      "PLZ8_HHZ                          0.052668\n",
      "WOHNDAUER_2008                    0.050290\n",
      "CAMEO_DEU_2015_1D                 0.048093\n",
      "                                    ...   \n",
      "KBA05_GBZ                        -0.039462\n",
      "ZABEOTYP_6                       -0.040107\n",
      "CAMEO_DEUG_2015_4                -0.042572\n",
      "SHOPPER_TYP_0.0                  -0.042626\n",
      "SEMIO_REL                        -0.045905\n",
      "SEMIO_SOZ                        -0.047094\n",
      "SHOPPER_TYP_1.0                  -0.049952\n",
      "PLZ8_GBZ                         -0.054148\n",
      "LP_STATUS_FEIN_8.0               -0.058557\n",
      "GEBAEUDETYP_RASTER               -0.058572\n",
      "LP_STATUS_GROB_2.0               -0.060746\n",
      "REGIOTYP                         -0.061003\n",
      "GFK_URLAUBERTYP_12.0             -0.069395\n",
      "SEMIO_VERT                       -0.079432\n",
      "SEMIO_KULT                       -0.080792\n",
      "SEMIO_FAM                        -0.082559\n",
      "PLZ8_ANTG1                       -0.083012\n",
      "KKK                              -0.087390\n",
      "HH_EINKOMMEN_SCORE               -0.099536\n",
      "KONSUMNAEHE                      -0.100212\n",
      "LP_STATUS_FEIN_9.0               -0.126362\n",
      "LP_STATUS_FEIN_4.0               -0.127782\n",
      "LP_STATUS_GROB_4.0               -0.142560\n",
      "BALLRAUM                         -0.144909\n",
      "INNENSTADT                       -0.149794\n",
      "W_KEIT_KIND_HH                   -0.167883\n",
      "WOHNLAGE                         -0.168014\n",
      "PRAEGENDE_JUGENDJAHRE_MOVEMENT   -0.200414\n",
      "LP_FAMILIE_FEIN_1.0              -0.220847\n",
      "LP_FAMILIE_GROB_1.0              -0.220847\n",
      "Name: 3, Length: 198, dtype: float64\n"
     ]
    }
   ],
   "source": [
    "# Map weights for the fourth principal component to corresponding feature names\n",
    "# and then print the linked values, sorted by weight.\n",
    "\n",
    "\n",
    "pca_weight_3 = weights(pca_second_subset, 3)\n",
    "print (pca_weight_3)"
   ]
  },
  {
   "cell_type": "markdown",
   "metadata": {},
   "source": [
    "### Discussion 2.3: Interpret Principal Components\n",
    "\n",
    "(Double-click this cell and replace this text with your own text, reporting your observations from detailed investigation of the first few principal components generated. Can we interpret positive and negative values from them in a meaningful way?)\n",
    "\n",
    "\n",
    " \n",
    " \n",
    "***From the first component:\n",
    "\"LP_STATUS_GROB_1.0 \" that represents  the Social status is strongly and positively  correlated with the first component.\n",
    "The increase of \"MOBI_REGIO\" that represent the Movement patterns cause the deacrease of the first component\n",
    "\n",
    "\n",
    "\n",
    "***From the Second  component:\n",
    "\"ALTERSKATEGORIE_GROB\" that represents  the Estimated age based on given name analysisis strongly and positively  correlated with the Second  component.\n",
    "The increase of \"PRAEGENDE_JUGENDJAHRE_DECADE\" that represent the Dominating movement of person cause the deacrease of the Second  component\n",
    "\n",
    "***From the Third component:\n",
    "\"SEMIO_VERT\" that represents  the Personality typology is strongly and positively  correlated with the Third component.\n",
    "The increase of \"FINANZ_SPARER\" that represent the Financial typology  cause the deacrease of the Third component\n",
    "\n",
    "***From the Fourth  component:\n",
    "\"LP_LEBENSPHASE_GROB\" that represents  the Life stage is strongly and positively  correlated with the Fourth  component.\n",
    "The increase of \"PRAEGENDE_JUGENDJAHRE_DECADE\" that represent the Family type cause the deacrease of the Fourth  component\n",
    "\n",
    "\n",
    "\n",
    "\n"
   ]
  },
  {
   "cell_type": "code",
   "execution_count": null,
   "metadata": {},
   "outputs": [],
   "source": []
  },
  {
   "cell_type": "markdown",
   "metadata": {},
   "source": [
    "## Step 3: Clustering\n",
    "\n",
    "### Step 3.1: Apply Clustering to General Population\n",
    "\n",
    "You've assessed and cleaned the demographics data, then scaled and transformed them. Now, it's time to see how the data clusters in the principal components space. In this substep, you will apply k-means clustering to the dataset and use the average within-cluster distances from each point to their assigned cluster's centroid to decide on a number of clusters to keep.\n",
    "\n",
    "- Use sklearn's [KMeans](http://scikit-learn.org/stable/modules/generated/sklearn.cluster.KMeans.html#sklearn.cluster.KMeans) class to perform k-means clustering on the PCA-transformed data.\n",
    "- Then, compute the average difference from each point to its assigned cluster's center. **Hint**: The KMeans object's `.score()` method might be useful here, but note that in sklearn, scores tend to be defined so that larger is better. Try applying it to a small, toy dataset, or use an internet search to help your understanding.\n",
    "- Perform the above two steps for a number of different cluster counts. You can then see how the average distance decreases with an increasing number of clusters. However, each additional cluster provides a smaller net benefit. Use this fact to select a final number of clusters in which to group the data. **Warning**: because of the large size of the dataset, it can take a long time for the algorithm to resolve. The more clusters to fit, the longer the algorithm will take. You should test for cluster counts through at least 10 clusters to get the full picture, but you shouldn't need to test for a number of clusters above about 30.\n",
    "- Once you've selected a final number of clusters to use, re-fit a KMeans instance to perform the clustering operation. Make sure that you also obtain the cluster assignments for the general demographics data, since you'll be using them in the final Step 3.3."
   ]
  },
  {
   "cell_type": "code",
   "execution_count": 142,
   "metadata": {},
   "outputs": [],
   "source": [
    "#def kms(df, cl):\n",
    " #   kmeans = KMeans(cls = cl)\n",
    "  #  model = kmeans.fit(df)\n",
    "   # score = np.abs(model.score(df))\n",
    "    #return score\n",
    "    \n",
    "def k_mean_score(data, n_cluster):\n",
    "    kmeans = KMeans(n_clusters = n_cluster)\n",
    "    model = kmeans.fit(data)\n",
    "    score = np.abs(model.score(data))\n",
    "    return score"
   ]
  },
  {
   "cell_type": "code",
   "execution_count": 143,
   "metadata": {},
   "outputs": [
    {
     "name": "stdout",
     "output_type": "stream",
     "text": [
      "ok\n"
     ]
    }
   ],
   "source": [
    "\n",
    "from time import time\n",
    "\n",
    "print(\"ok\")\n"
   ]
  },
  {
   "cell_type": "code",
   "execution_count": 144,
   "metadata": {
    "scrolled": true
   },
   "outputs": [
    {
     "name": "stdout",
     "output_type": "stream",
     "text": [
      "start!!\n",
      "1\n",
      "2\n",
      "3\n",
      "4\n",
      "5\n",
      "6\n",
      "7\n",
      "8\n",
      "9\n",
      "10\n",
      "11\n",
      "12\n",
      "13\n",
      "14\n",
      "15\n",
      "16\n",
      "17\n",
      "18\n",
      "19\n",
      "4789.945041418076\n",
      "done\n"
     ]
    }
   ],
   "source": [
    "# Over a number of different cluster counts...\n",
    "\n",
    "\n",
    "    # run k-means clustering on the data and...\n",
    "    \n",
    "    \n",
    "    # compute the average within-cluster distances.\n",
    "#scr = []\n",
    "#cls = list(range(1,20))\n",
    "#for cl in cls:\n",
    " #   scr.append(kms(second_subset_scaled_pca, cl))    \n",
    "\n",
    "start = time()\n",
    "print(\"start!!\")\n",
    "scores = []\n",
    "ks = list(range(1,20))\n",
    "count = 1\n",
    "for k in ks:\n",
    "    print(count)\n",
    "    count += 1\n",
    "    score = k_mean_score(second_subset_scaled_pca, k)\n",
    "    scores.append(score)\n",
    "\n",
    "    \n",
    "end = time()\n",
    "print(end - start)\n",
    "print(\"done\")"
   ]
  },
  {
   "cell_type": "code",
   "execution_count": 145,
   "metadata": {},
   "outputs": [
    {
     "data": {
      "text/plain": [
       "Text(0,0.5,'SSE')"
      ]
     },
     "execution_count": 145,
     "metadata": {},
     "output_type": "execute_result"
    },
    {
     "data": {
      "image/png": "[encoded data removed]",
      "text/plain": [
       "<matplotlib.figure.Figure at 0x7f856a714940>"
      ]
     },
     "metadata": {
      "needs_background": "light"
     },
     "output_type": "display_data"
    }
   ],
   "source": [
    "# Investigate the change in within-cluster distance across number of clusters.\n",
    "# HINT: Use matplotlib's plot function to visualize this relationship.\n",
    "\n",
    "plt.plot(ks, scores, linestyle='-', marker='o')\n",
    "plt.xlabel('K')\n",
    "plt.ylabel('SSE')\n"
   ]
  },
  {
   "cell_type": "code",
   "execution_count": 146,
   "metadata": {},
   "outputs": [
    {
     "name": "stdout",
     "output_type": "stream",
     "text": [
      "start!!\n",
      "425.46327328681946\n",
      "done!\n"
     ]
    }
   ],
   "source": [
    "# Re-fit the k-means model with the selected number of clusters and obtain\n",
    "# cluster predictions for the general population demographics data.\n",
    "start = time()\n",
    "print(\"start!!\")\n",
    "kmeans = KMeans(n_clusters =18)\n",
    "model_18 = kmeans.fit(second_subset_scaled_pca)\n",
    "second_subset_pred = model_18.predict(second_subset_scaled_pca)\n",
    "end = time()\n",
    "print(end - start)\n",
    "print(\"done!\")"
   ]
  },
  {
   "cell_type": "markdown",
   "metadata": {},
   "source": [
    "### Discussion 3.1: Apply Clustering to General Population\n",
    "\n",
    "(Double-click this cell and replace this text with your own text, reporting your findings and decisions regarding clustering. Into how many clusters have you decided to segment the population?)\n",
    "\n",
    "From the The Elbow Curve method,We have choose to segment our data into 18 clusters. We have seen that the marginal drop in distance is diminishing or depicts closer difference in distances at around 18. This method is helpful because it shows how increasing the number of the clusters contribute separating the clusters in a meaningful way, not in a marginal way.\n",
    "\n",
    "https://towardsdatascience.com/10-tips-for-choosing-the-optimal-number-of-clusters-277e93d72d92"
   ]
  },
  {
   "cell_type": "markdown",
   "metadata": {},
   "source": [
    "### Step 3.2: Apply All Steps to the Customer Data\n",
    "\n",
    "Now that you have clusters and cluster centers for the general population, it's time to see how the customer data maps on to those clusters. Take care to not confuse this for re-fitting all of the models to the customer data. Instead, you're going to use the fits from the general population to clean, transform, and cluster the customer data. In the last step of the project, you will interpret how the general population fits apply to the customer data.\n",
    "\n",
    "- Don't forget when loading in the customers data, that it is semicolon (`;`) delimited.\n",
    "- Apply the same feature wrangling, selection, and engineering steps to the customer demographics using the `clean_data()` function you created earlier. (You can assume that the customer demographics data has similar meaning behind missing data patterns as the general demographics data.)\n",
    "- Use the sklearn objects from the general demographics data, and apply their transformations to the customers data. That is, you should not be using a `.fit()` or `.fit_transform()` method to re-fit the old objects, nor should you be creating new sklearn objects! Carry the data through the feature scaling, PCA, and clustering steps, obtaining cluster assignments for all of the data in the customer demographics data."
   ]
  },
  {
   "cell_type": "code",
   "execution_count": 1087,
   "metadata": {},
   "outputs": [
    {
     "data": {
      "text/plain": [
       "(191652, 85)"
      ]
     },
     "execution_count": 1087,
     "metadata": {},
     "output_type": "execute_result"
    }
   ],
   "source": [
    "# Load in the customer demographics data.\n",
    "customers = customers = pd.read_csv('Udacity_CUSTOMERS_Subset.csv',delimiter=';')\n",
    "\n",
    "\n",
    "customers.shape"
   ]
  },
  {
   "cell_type": "code",
   "execution_count": 1088,
   "metadata": {},
   "outputs": [
    {
     "name": "stdout",
     "output_type": "stream",
     "text": [
      "The outliers list is: ['ALTER_HH', 'GEBURTSJAHR', 'KBA05_BAUMAX', 'KK_KUNDENTYP', 'AGER_TYP', 'TITEL_KZ']\n",
      "1:  (191652, 85)\n",
      "2:  (191652, 79)\n",
      "3:  (141590, 79)\n",
      "(141590, 79)\n",
      "multi_level:::::  ['CJT_GESAMTTYP', 'FINANZTYP', 'GFK_URLAUBERTYP', 'LP_FAMILIE_FEIN', 'LP_FAMILIE_GROB', 'LP_STATUS_FEIN', 'LP_STATUS_GROB', 'NATIONALITAET_KZ', 'SHOPPER_TYP', 'ZABEOTYP', 'GEBAEUDETYP', 'CAMEO_DEUG_2015', 'CAMEO_DEU_2015', 'OST_WEST_KZ']\n",
      "[ 1.  2.]\n",
      "4:  (141590, 79)  levels:  15\n",
      "5:  (141590, 196)\n",
      "6:  (141590, 198)\n",
      "7:  (141590, 197)\n",
      "8:  (141590, 199)\n",
      "9:  (141590, 198)\n",
      "(141590, 198)\n"
     ]
    }
   ],
   "source": [
    "# Apply preprocessing, feature transformation, and clustering from the general\n",
    "# demographics onto the customer data, obtaining cluster predictions for the\n",
    "# customer demographics data.\n",
    "\n",
    "customers_clean = clean_data(customers)\n",
    "\n",
    "\n",
    "\n"
   ]
  },
  {
   "cell_type": "code",
   "execution_count": 1094,
   "metadata": {},
   "outputs": [
    {
     "name": "stdout",
     "output_type": "stream",
     "text": [
      "another\n",
      "collllll2:  GEBAEUDETYP_5.0\n",
      "198\n",
      "197\n",
      "   ALTERSKATEGORIE_GROB  ANREDE_KZ  FINANZ_MINIMALIST  FINANZ_SPARER  \\\n",
      "0                   4.0          1                  5              1   \n",
      "2                   4.0          2                  5              1   \n",
      "\n",
      "   FINANZ_VORSORGER  FINANZ_ANLEGER  FINANZ_UNAUFFAELLIGER  FINANZ_HAUSBAUER  \\\n",
      "0                 5               1                      2                 2   \n",
      "2                 5               1                      4                 4   \n",
      "\n",
      "   GREEN_AVANTGARDE  HEALTH_TYP     ...      CAMEO_DEU_2015_9D  \\\n",
      "0                 1         1.0     ...                      0   \n",
      "2                 1         2.0     ...                      0   \n",
      "\n",
      "   CAMEO_DEU_2015_9E  OST_WEST_KZ_O  OST_WEST_KZ_W  OST_WEST_KZ_O  \\\n",
      "0                  0              0              1              0   \n",
      "2                  0              0              1              0   \n",
      "\n",
      "   OST_WEST_KZ_W  PRAEGENDE_JUGENDJAHRE_DECADE  \\\n",
      "0              1                             2   \n",
      "2              1                             2   \n",
      "\n",
      "   PRAEGENDE_JUGENDJAHRE_MOVEMENT  WEALTH  LIFE_STAGE  \n",
      "0                               0      13          13  \n",
      "2                               0      34          34  \n",
      "\n",
      "[2 rows x 198 columns]\n",
      "------------\n",
      "   ALTERSKATEGORIE_GROB  ANREDE_KZ  FINANZ_MINIMALIST  FINANZ_SPARER  \\\n",
      "1                   1.0          2                  1              5   \n",
      "2                   3.0          2                  1              4   \n",
      "\n",
      "   FINANZ_VORSORGER  FINANZ_ANLEGER  FINANZ_UNAUFFAELLIGER  FINANZ_HAUSBAUER  \\\n",
      "1                 2               5                      4                 5   \n",
      "2                 1               2                      3                 5   \n",
      "\n",
      "   GREEN_AVANTGARDE  HEALTH_TYP     ...      CAMEO_DEU_2015_9B  \\\n",
      "1                 0         3.0     ...                      0   \n",
      "2                 1         3.0     ...                      0   \n",
      "\n",
      "   CAMEO_DEU_2015_9C  CAMEO_DEU_2015_9D  CAMEO_DEU_2015_9E  OST_WEST_KZ_O  \\\n",
      "1                  0                  0                  0              0   \n",
      "2                  0                  0                  0              0   \n",
      "\n",
      "   OST_WEST_KZ_W  PRAEGENDE_JUGENDJAHRE_DECADE  \\\n",
      "1              1                           5.0   \n",
      "2              1                           5.0   \n",
      "\n",
      "   PRAEGENDE_JUGENDJAHRE_MOVEMENT  WEALTH  LIFE_STAGE  \n",
      "1                             1.0     5.0         1.0  \n",
      "2                             0.0     2.0         4.0  \n",
      "\n",
      "[2 rows x 197 columns]\n"
     ]
    }
   ],
   "source": [
    "\n",
    "\n",
    "to_delete = []\n",
    "for col in customers_clean.columns:\n",
    "    if not col in second_subset.columns:\n",
    "        print(\"collllll: \", col)\n",
    "        #to_delete.append(col)\n",
    "\n",
    "print(\"another\") \n",
    "to_delete = []\n",
    "for col in second_subset.columns:\n",
    "    if not col in customers_clean.columns:\n",
    "        print(\"collllll2: \", col)\n",
    "        #to_delete.append(col)\n",
    "\n",
    "#customers_clean = customers_clean.drop(to_delete,axis=1)\n",
    "\n",
    "print(len(customers_clean.columns))\n",
    "print(len(second_subset.columns))\n",
    "\n",
    "print(customers_clean.head(2))\n",
    "print(\"------------\")\n",
    "print(second_subset.head(2))"
   ]
  },
  {
   "cell_type": "code",
   "execution_count": 1093,
   "metadata": {},
   "outputs": [
    {
     "data": {
      "text/plain": [
       "[]"
      ]
     },
     "execution_count": 1093,
     "metadata": {},
     "output_type": "execute_result"
    }
   ],
   "source": [
    "'''\n",
    "intersection_cols = second_subset.columns & customers_clean.columns\n",
    "tmp_subset = second_subset[intersection_cols]\n",
    "tmp_customers_clean = customers_clean[intersection_cols]\n",
    "print(len(tmp_subset.columns))\n",
    "print(len(tmp_customers_clean.columns))\n",
    "'''\n",
    "list(set(customers_clean.columns)-set(second_subset.columns))"
   ]
  },
  {
   "cell_type": "code",
   "execution_count": null,
   "metadata": {},
   "outputs": [],
   "source": [
    "Binary features are: ['ANREDE_KZ', 'GREEN_AVANTGARDE', 'NATIONALITAET_KZ', 'SOHO_KZ', 'VERS_TYP', 'OST_WEST_KZ']\n",
    "Multi-level features are: ['CJT_GESAMTTYP', 'FINANZTYP', 'GFK_URLAUBERTYP',\n",
    "                           'LP_FAMILIE_FEIN', 'LP_FAMILIE_GROB', 'LP_STATUS_FEIN',\n",
    "                           'LP_STATUS_GROB', 'SHOPPER_TYP', 'ZABEOTYP', 'GEBAEUDETYP',\n",
    "                           'CAMEO_DEUG_2015', 'CAMEO_DEU_2015']"
   ]
  },
  {
   "cell_type": "code",
   "execution_count": 1096,
   "metadata": {},
   "outputs": [
    {
     "name": "stdout",
     "output_type": "stream",
     "text": [
      "done\n"
     ]
    }
   ],
   "source": [
    "fill_missing = Imputer(strategy='most_frequent')\n",
    "customers_clean2= pd.DataFrame(fill_missing.fit_transform(customers_clean))\n",
    "\n",
    "\n",
    "print(\"done\")\n",
    "scaler = StandardScaler() \n",
    "customers_clean_scaled = scaler.fit_transform(customers_clean2)\n",
    "\n",
    "customers_clean_scaled = pd.DataFrame(customers_clean_scaled, columns=list(customers_clean2))\n",
    "# PCA transformation\n",
    "customers_pca = pca_second_subset.transform(customers_clean_scaled)"
   ]
  },
  {
   "cell_type": "code",
   "execution_count": 1099,
   "metadata": {},
   "outputs": [
    {
     "data": {
      "text/plain": [
       "(141590,)"
      ]
     },
     "execution_count": 1099,
     "metadata": {},
     "output_type": "execute_result"
    }
   ],
   "source": [
    "customers_pred = model_18.predict(customers_pca)\n"
   ]
  },
  {
   "cell_type": "code",
   "execution_count": 974,
   "metadata": {},
   "outputs": [
    {
     "name": "stdout",
     "output_type": "stream",
     "text": [
      "[3 4 1 5 2]\n",
      "[1 3 2 4 5]\n"
     ]
    }
   ],
   "source": [
    "print(tmp_customers_clean[\"LIFE_STAGE\"].unique())\n",
    "print(tmp_customers_clean[\"WEALTH\"].unique())"
   ]
  },
  {
   "cell_type": "code",
   "execution_count": 975,
   "metadata": {},
   "outputs": [
    {
     "data": {
      "text/plain": [
       "array([dtype('int64'), dtype('float64')], dtype=object)"
      ]
     },
     "execution_count": 975,
     "metadata": {},
     "output_type": "execute_result"
    }
   ],
   "source": [
    "tmp_customers_clean.dtypes.unique()\n",
    "\n"
   ]
  },
  {
   "cell_type": "code",
   "execution_count": 977,
   "metadata": {},
   "outputs": [],
   "source": [
    "customers_clean2.index = customers_clean.index"
   ]
  },
  {
   "cell_type": "code",
   "execution_count": 978,
   "metadata": {},
   "outputs": [
    {
     "data": {
      "text/plain": [
       "0"
      ]
     },
     "execution_count": 978,
     "metadata": {},
     "output_type": "execute_result"
    }
   ],
   "source": [
    "customers_clean2.isnull().sum().sum()"
   ]
  },
  {
   "cell_type": "markdown",
   "metadata": {},
   "source": [
    "### Step 3.3: Compare Customer Data to Demographics Data\n",
    "\n",
    "At this point, you have clustered data based on demographics of the general population of Germany, and seen how the customer data for a mail-order sales company maps onto those demographic clusters. In this final substep, you will compare the two cluster distributions to see where the strongest customer base for the company is.\n",
    "\n",
    "Consider the proportion of persons in each cluster for the general population, and the proportions for the customers. If we think the company's customer base to be universal, then the cluster assignment proportions should be fairly similar between the two. If there are only particular segments of the population that are interested in the company's products, then we should see a mismatch from one to the other. If there is a higher proportion of persons in a cluster for the customer data compared to the general population (e.g. 5% of persons are assigned to a cluster for the general population, but 15% of the customer data is closest to that cluster's centroid) then that suggests the people in that cluster to be a target audience for the company. On the other hand, the proportion of the data in a cluster being larger in the general population than the customer data (e.g. only 2% of customers closest to a population centroid that captures 6% of the data) suggests that group of persons to be outside of the target demographics.\n",
    "\n",
    "Take a look at the following points in this step:\n",
    "\n",
    "- Compute the proportion of data points in each cluster for the general population and the customer data. Visualizations will be useful here: both for the individual dataset proportions, but also to visualize the ratios in cluster representation between groups. Seaborn's [`countplot()`](https://seaborn.pydata.org/generated/seaborn.countplot.html) or [`barplot()`](https://seaborn.pydata.org/generated/seaborn.barplot.html) function could be handy.\n",
    "  - Recall the analysis you performed in step 1.1.3 of the project, where you separated out certain data points from the dataset if they had more than a specified threshold of missing values. If you found that this group was qualitatively different from the main bulk of the data, you should treat this as an additional data cluster in this analysis. Make sure that you account for the number of data points in this subset, for both the general population and customer datasets, when making your computations!\n",
    "- Which cluster or clusters are overrepresented in the customer dataset compared to the general population? Select at least one such cluster and infer what kind of people might be represented by that cluster. Use the principal component interpretations from step 2.3 or look at additional components to help you make this inference. Alternatively, you can use the `.inverse_transform()` method of the PCA and StandardScaler objects to transform centroids back to the original data space and interpret the retrieved values directly.\n",
    "- Perform a similar investigation for the underrepresented clusters. Which cluster or clusters are underrepresented in the customer dataset compared to the general population, and what kinds of people are typified by these clusters?"
   ]
  },
  {
   "cell_type": "code",
   "execution_count": 1104,
   "metadata": {},
   "outputs": [
    {
     "data": {
      "image/png": "[encoded data removed]",
      "text/plain": [
       "<matplotlib.figure.Figure at 0x7f83aedba940>"
      ]
     },
     "metadata": {},
     "output_type": "display_data"
    }
   ],
   "source": [
    "\n",
    "fig = plt.figure()\n",
    "ax=fig.add_axes([0,0,2,1], title='Figure 4: Demographic vs Customer distribution')\n",
    "ax2=fig.add_axes([0,1.2,2,1], title='Demographic Population')\n",
    "ax3=fig.add_axes([0,2.4,2,1], title='Customers')\n",
    "sns.set(style=\"darkgrid\")\n",
    "sns.distplot(second_subset_pred, label='GP',ax=ax)\n",
    "sns.distplot(customers_pred, label='CUST', ax=ax)\n",
    "sns.countplot(second_subset_pred, label='GP', ax=ax2)\n",
    "sns.countplot(customers_pred, label='CUST', ax=ax3)\n",
    "ax.legend();"
   ]
  },
  {
   "cell_type": "code",
   "execution_count": 1110,
   "metadata": {},
   "outputs": [
    {
     "name": "stderr",
     "output_type": "stream",
     "text": [
      "/opt/conda/lib/python3.6/site-packages/ipykernel_launcher.py:7: FutureWarning: Using 'rename_axis' to alter labels is deprecated. Use '.rename' instead\n",
      "  import sys\n",
      "/opt/conda/lib/python3.6/site-packages/ipykernel_launcher.py:8: FutureWarning: Using 'rename_axis' to alter labels is deprecated. Use '.rename' instead\n",
      "  \n",
      "/opt/conda/lib/python3.6/site-packages/ipykernel_launcher.py:9: FutureWarning: Using 'rename_axis' to alter labels is deprecated. Use '.rename' instead\n",
      "  if __name__ == '__main__':\n"
     ]
    },
    {
     "data": {
      "text/html": [
       "<div>\n",
       "<style scoped>\n",
       "    .dataframe tbody tr th:only-of-type {\n",
       "        vertical-align: middle;\n",
       "    }\n",
       "\n",
       "    .dataframe tbody tr th {\n",
       "        vertical-align: top;\n",
       "    }\n",
       "\n",
       "    .dataframe thead th {\n",
       "        text-align: right;\n",
       "    }\n",
       "</style>\n",
       "<table border=\"1\" class=\"dataframe\">\n",
       "  <thead>\n",
       "    <tr style=\"text-align: right;\">\n",
       "      <th></th>\n",
       "      <th>diffrence</th>\n",
       "      <th>Cust</th>\n",
       "      <th>gp</th>\n",
       "    </tr>\n",
       "    <tr>\n",
       "      <th>Cluster</th>\n",
       "      <th></th>\n",
       "      <th></th>\n",
       "      <th></th>\n",
       "    </tr>\n",
       "  </thead>\n",
       "  <tbody>\n",
       "    <tr>\n",
       "      <th>17</th>\n",
       "      <td>9.126822</td>\n",
       "      <td>18.859383</td>\n",
       "      <td>9.732560</td>\n",
       "    </tr>\n",
       "    <tr>\n",
       "      <th>1</th>\n",
       "      <td>6.811933</td>\n",
       "      <td>12.411893</td>\n",
       "      <td>5.599961</td>\n",
       "    </tr>\n",
       "    <tr>\n",
       "      <th>2</th>\n",
       "      <td>6.426479</td>\n",
       "      <td>15.551946</td>\n",
       "      <td>9.125467</td>\n",
       "    </tr>\n",
       "    <tr>\n",
       "      <th>6</th>\n",
       "      <td>4.985932</td>\n",
       "      <td>13.417614</td>\n",
       "      <td>8.431682</td>\n",
       "    </tr>\n",
       "    <tr>\n",
       "      <th>3</th>\n",
       "      <td>2.308764</td>\n",
       "      <td>9.495021</td>\n",
       "      <td>7.186257</td>\n",
       "    </tr>\n",
       "    <tr>\n",
       "      <th>11</th>\n",
       "      <td>0.861160</td>\n",
       "      <td>2.504414</td>\n",
       "      <td>1.643254</td>\n",
       "    </tr>\n",
       "    <tr>\n",
       "      <th>10</th>\n",
       "      <td>0.630806</td>\n",
       "      <td>2.468395</td>\n",
       "      <td>1.837589</td>\n",
       "    </tr>\n",
       "    <tr>\n",
       "      <th>9</th>\n",
       "      <td>0.099889</td>\n",
       "      <td>5.123243</td>\n",
       "      <td>5.023354</td>\n",
       "    </tr>\n",
       "    <tr>\n",
       "      <th>8</th>\n",
       "      <td>-0.293700</td>\n",
       "      <td>5.228477</td>\n",
       "      <td>5.522177</td>\n",
       "    </tr>\n",
       "    <tr>\n",
       "      <th>0</th>\n",
       "      <td>-0.966395</td>\n",
       "      <td>3.093439</td>\n",
       "      <td>4.059834</td>\n",
       "    </tr>\n",
       "    <tr>\n",
       "      <th>5</th>\n",
       "      <td>-1.501828</td>\n",
       "      <td>0.754291</td>\n",
       "      <td>2.256118</td>\n",
       "    </tr>\n",
       "    <tr>\n",
       "      <th>4</th>\n",
       "      <td>-1.615843</td>\n",
       "      <td>1.655484</td>\n",
       "      <td>3.271328</td>\n",
       "    </tr>\n",
       "    <tr>\n",
       "      <th>14</th>\n",
       "      <td>-2.453035</td>\n",
       "      <td>1.606046</td>\n",
       "      <td>4.059081</td>\n",
       "    </tr>\n",
       "    <tr>\n",
       "      <th>7</th>\n",
       "      <td>-2.849458</td>\n",
       "      <td>1.697154</td>\n",
       "      <td>4.546612</td>\n",
       "    </tr>\n",
       "    <tr>\n",
       "      <th>15</th>\n",
       "      <td>-3.808808</td>\n",
       "      <td>3.097676</td>\n",
       "      <td>6.906485</td>\n",
       "    </tr>\n",
       "    <tr>\n",
       "      <th>12</th>\n",
       "      <td>-4.840196</td>\n",
       "      <td>0.223180</td>\n",
       "      <td>5.063375</td>\n",
       "    </tr>\n",
       "    <tr>\n",
       "      <th>13</th>\n",
       "      <td>-5.815305</td>\n",
       "      <td>0.223886</td>\n",
       "      <td>6.039191</td>\n",
       "    </tr>\n",
       "    <tr>\n",
       "      <th>16</th>\n",
       "      <td>-7.107216</td>\n",
       "      <td>2.588460</td>\n",
       "      <td>9.695676</td>\n",
       "    </tr>\n",
       "  </tbody>\n",
       "</table>\n",
       "</div>"
      ],
      "text/plain": [
       "         diffrence       Cust        gp\n",
       "Cluster                                \n",
       "17        9.126822  18.859383  9.732560\n",
       "1         6.811933  12.411893  5.599961\n",
       "2         6.426479  15.551946  9.125467\n",
       "6         4.985932  13.417614  8.431682\n",
       "3         2.308764   9.495021  7.186257\n",
       "11        0.861160   2.504414  1.643254\n",
       "10        0.630806   2.468395  1.837589\n",
       "9         0.099889   5.123243  5.023354\n",
       "8        -0.293700   5.228477  5.522177\n",
       "0        -0.966395   3.093439  4.059834\n",
       "5        -1.501828   0.754291  2.256118\n",
       "4        -1.615843   1.655484  3.271328\n",
       "14       -2.453035   1.606046  4.059081\n",
       "7        -2.849458   1.697154  4.546612\n",
       "15       -3.808808   3.097676  6.906485\n",
       "12       -4.840196   0.223180  5.063375\n",
       "13       -5.815305   0.223886  6.039191\n",
       "16       -7.107216   2.588460  9.695676"
      ]
     },
     "execution_count": 1110,
     "metadata": {},
     "output_type": "execute_result"
    }
   ],
   "source": [
    "\n",
    "cust = pd.DataFrame(customers_pred,columns=['Cluster']).reset_index().groupby('Cluster').count()/len(customers_pred)*100\n",
    "gp= pd.DataFrame(second_subset_pred,columns=['Cluster']).reset_index().groupby('Cluster').count()/len(second_subset_pred)*100\n",
    "dif = (cust-gp)\n",
    "dif.rename_axis({'index':'diffrence'}, axis=1, inplace=True)\n",
    "cust.rename_axis({'index':'Cust'}, axis=1, inplace=True)\n",
    "gp.rename_axis({'index':'gp'}, axis=1, inplace=True)\n",
    "dif = dif.join(cust).join(gp).sort_values('diffrence',ascending=False)\n",
    "dif.fillna(0, inplace=True)\n",
    "dif"
   ]
  },
  {
   "cell_type": "code",
   "execution_count": 1125,
   "metadata": {},
   "outputs": [],
   "source": [
    "# What kinds of people are part of a cluster that is overrepresented in the\n",
    "# customer data compared to the general population?\n",
    "# proportion of data in each cluster for the general population.\n",
    "centroid_17 = scaler.inverse_transform(pca_second_subset.inverse_transform(model_18.cluster_centers_[17]))\n",
    "centroid_1 = scaler.inverse_transform(pca_second_subset.inverse_transform(model_18.cluster_centers_[1]))\n",
    "centroid_2 = scaler.inverse_transform(pca_second_subset.inverse_transform(model_18.cluster_centers_[17]))\n"
   ]
  },
  {
   "cell_type": "code",
   "execution_count": 1126,
   "metadata": {},
   "outputs": [],
   "source": [
    "overrepresented1 = pd.Series(data = centroid_17, index = customers_clean.columns)\n",
    "overrepresented2 = pd.Series(data = centroid_1, index = customers_clean.columns)\n",
    "overrepresented3 = pd.Series(data = centroid_2, index = customers_clean.columns)\n"
   ]
  },
  {
   "cell_type": "code",
   "execution_count": 1140,
   "metadata": {},
   "outputs": [],
   "source": [
    "clu17=overrepresented1.sort_values(ascending=True)\n",
    "clu1=overrepresented2.sort_values(ascending=False)\n",
    "clu2=overrepresented3.sort_values(ascending=False)\n"
   ]
  },
  {
   "cell_type": "code",
   "execution_count": 1146,
   "metadata": {},
   "outputs": [
    {
     "name": "stdout",
     "output_type": "stream",
     "text": [
      "ALTERSKATEGORIE_GROB     2.766850\n",
      "ANREDE_KZ                1.762032\n",
      "FINANZ_MINIMALIST        2.785031\n",
      "FINANZ_SPARER            2.438197\n",
      "FINANZ_VORSORGER         3.781905\n",
      "FINANZ_ANLEGER           2.654784\n",
      "FINANZ_UNAUFFAELLIGER    2.703848\n",
      "FINANZ_HAUSBAUER         3.914830\n",
      "GREEN_AVANTGARDE         0.273781\n",
      "HEALTH_TYP               2.076170\n",
      "dtype: float64\n",
      "*******\n",
      "ALTERSKATEGORIE_GROB     3.932956\n",
      "ANREDE_KZ                1.292577\n",
      "FINANZ_MINIMALIST        5.391113\n",
      "FINANZ_SPARER            0.747725\n",
      "FINANZ_VORSORGER         5.102969\n",
      "FINANZ_ANLEGER           0.772573\n",
      "FINANZ_UNAUFFAELLIGER    1.461928\n",
      "FINANZ_HAUSBAUER         1.922518\n",
      "GREEN_AVANTGARDE         1.425056\n",
      "HEALTH_TYP               1.801943\n",
      "dtype: float64\n",
      "*******\n",
      "ALTERSKATEGORIE_GROB     3.715951\n",
      "ANREDE_KZ                1.314596\n",
      "FINANZ_MINIMALIST        5.313767\n",
      "FINANZ_SPARER            1.024417\n",
      "FINANZ_VORSORGER         4.815670\n",
      "FINANZ_ANLEGER           1.139782\n",
      "FINANZ_UNAUFFAELLIGER    1.697988\n",
      "FINANZ_HAUSBAUER         1.580667\n",
      "GREEN_AVANTGARDE         1.431734\n",
      "HEALTH_TYP               1.820115\n",
      "dtype: float64\n"
     ]
    }
   ],
   "source": [
    "print(overrepresented1.head(10))\n",
    "print(\"*******\")\n",
    "print(overrepresented2.head(10))\n",
    "print(\"*******\")\n",
    "print(overrepresented3.head(10))"
   ]
  },
  {
   "cell_type": "code",
   "execution_count": 1128,
   "metadata": {},
   "outputs": [],
   "source": [
    "# What kinds of people are part of a cluster that is underrepresented in the\n",
    "# customer data compared to the general population?\n",
    "centroid_16 = scaler.inverse_transform(pca_second_subset.inverse_transform(model_18.cluster_centers_[16]))\n",
    "centroid_13 = scaler.inverse_transform(pca_second_subset.inverse_transform(model_18.cluster_centers_[13]))\n",
    "centroid_12 = scaler.inverse_transform(pca_second_subset.inverse_transform(model_18.cluster_centers_[12]))\n"
   ]
  },
  {
   "cell_type": "code",
   "execution_count": 1136,
   "metadata": {},
   "outputs": [],
   "source": [
    "underrepresented1 = pd.Series(data = centroid_16, index = customers_clean.columns)\n",
    "underrepresented2 = pd.Series(data = centroid_13, index = customers_clean.columns)\n",
    "underrepresented3 = pd.Series(data = centroid_12, index = customers_clean.columns)\n"
   ]
  },
  {
   "cell_type": "code",
   "execution_count": 1137,
   "metadata": {},
   "outputs": [],
   "source": [
    "clu16=underrepresented1.sort_values(ascending=False)\n",
    "clu13=underrepresented2.sort_values(ascending=False)\n",
    "clu12=underrepresented3.sort_values(ascending=False)"
   ]
  },
  {
   "cell_type": "code",
   "execution_count": 1150,
   "metadata": {},
   "outputs": [
    {
     "name": "stdout",
     "output_type": "stream",
     "text": [
      "ALTERSKATEGORIE_GROB     2.766850\n",
      "ANREDE_KZ                1.762032\n",
      "FINANZ_MINIMALIST        2.785031\n",
      "FINANZ_SPARER            2.438197\n",
      "FINANZ_VORSORGER         3.781905\n",
      "FINANZ_ANLEGER           2.654784\n",
      "FINANZ_UNAUFFAELLIGER    2.703848\n",
      "FINANZ_HAUSBAUER         3.914830\n",
      "GREEN_AVANTGARDE         0.273781\n",
      "HEALTH_TYP               2.076170\n",
      "dtype: float64\n",
      "*******\n",
      "ALTERSKATEGORIE_GROB     3.932956\n",
      "ANREDE_KZ                1.292577\n",
      "FINANZ_MINIMALIST        5.391113\n",
      "FINANZ_SPARER            0.747725\n",
      "FINANZ_VORSORGER         5.102969\n",
      "FINANZ_ANLEGER           0.772573\n",
      "FINANZ_UNAUFFAELLIGER    1.461928\n",
      "FINANZ_HAUSBAUER         1.922518\n",
      "GREEN_AVANTGARDE         1.425056\n",
      "HEALTH_TYP               1.801943\n",
      "dtype: float64\n",
      "*******\n",
      "ALTERSKATEGORIE_GROB     3.715951\n",
      "ANREDE_KZ                1.314596\n",
      "FINANZ_MINIMALIST        5.313767\n",
      "FINANZ_SPARER            1.024417\n",
      "FINANZ_VORSORGER         4.815670\n",
      "FINANZ_ANLEGER           1.139782\n",
      "FINANZ_UNAUFFAELLIGER    1.697988\n",
      "FINANZ_HAUSBAUER         1.580667\n",
      "GREEN_AVANTGARDE         1.431734\n",
      "HEALTH_TYP               1.820115\n",
      "dtype: float64\n"
     ]
    }
   ],
   "source": [
    "print(underrepresented1.head(10))\n",
    "print(\"*******\")\n",
    "print(underrepresented2.head(10))\n",
    "print(\"*******\")\n",
    "print(underrepresented3.head(10))"
   ]
  },
  {
   "cell_type": "markdown",
   "metadata": {},
   "source": [
    "### Discussion 3.3: Compare Customer Data to Demographics Data\n",
    "\n",
    "(Double-click this cell and replace this text with your own text, reporting findings and conclusions from the clustering analysis. Can we describe segments of the population that are relatively popular with the mail-order company, or relatively unpopular with the company?)\n",
    "\n",
    "\n",
    "\n",
    "\n",
    "From the above plots and table, we can clearly see that the clusters 17, 1 and 2 are significantly hiher when comparing the customers and general population data. The cluster that overrepresented the customers data is the cluster 17. The majority of peapole in this cluster have this caracteristics:\n",
    "male,\n",
    "45 years old and above ,\n",
    "High financial typology,\n",
    "Money savers \n",
    "Not member in the environmental sustainability \n",
    "Sanitary affine\n",
    "\n",
    "From the above plots and table, we can clearly see that the clusters 16, 13 and 12 are significantly lower when comparing the customers and general population data. The cluster that underrepresented the customers data is the cluster 16 . \n"
   ]
  },
  {
   "cell_type": "markdown",
   "metadata": {},
   "source": [
    "> Congratulations on making it this far in the project! Before you finish, make sure to check through the entire notebook from top to bottom to make sure that your analysis follows a logical flow and all of your findings are documented in **Discussion** cells. Once you've checked over all of your work, you should export the notebook as an HTML document to submit for evaluation. You can do this from the menu, navigating to **File -> Download as -> HTML (.html)**. You will submit both that document and this notebook for your project submission."
   ]
  },
  {
   "cell_type": "code",
   "execution_count": 1151,
   "metadata": {},
   "outputs": [
    {
     "data": {
      "text/plain": [
       "['[NbConvertApp] Converting notebook Identify_Customer_Segments.ipynb to html',\n",
       " '[NbConvertApp] Writing 874949 bytes to Identify_Customer_Segments.html']"
      ]
     },
     "execution_count": 1151,
     "metadata": {},
     "output_type": "execute_result"
    }
   ],
   "source": [
    "!!jupyter nbconvert *.ipynb"
   ]
  },
  {
   "cell_type": "code",
   "execution_count": null,
   "metadata": {},
   "outputs": [],
   "source": []
  }
 ],
 "metadata": {
  "kernelspec": {
   "display_name": "Python 3",
   "language": "python",
   "name": "python3"
  },
  "language_info": {
   "codemirror_mode": {
    "name": "ipython",
    "version": 3
   },
   "file_extension": ".py",
   "mimetype": "text/x-python",
   "name": "python",
   "nbconvert_exporter": "python",
   "pygments_lexer": "ipython3",
   "version": "3.6.3"
  }
 },
 "nbformat": 4,
 "nbformat_minor": 2
}
